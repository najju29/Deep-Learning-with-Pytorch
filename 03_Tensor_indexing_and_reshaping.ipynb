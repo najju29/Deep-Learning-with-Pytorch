{
  "nbformat": 4,
  "nbformat_minor": 0,
  "metadata": {
    "colab": {
      "name": "03 Tensor indexing and reshaping.ipynb",
      "provenance": [],
      "collapsed_sections": [],
      "toc_visible": true
    },
    "kernelspec": {
      "name": "python3",
      "display_name": "Python 3"
    },
    "accelerator": "GPU"
  },
  "cells": [
    {
      "cell_type": "markdown",
      "metadata": {
        "id": "QN_EMVkWQG9G"
      },
      "source": [
        "# Importing PyTorch"
      ]
    },
    {
      "cell_type": "code",
      "metadata": {
        "id": "A_7CPDakQGOJ"
      },
      "source": [
        "import torch"
      ],
      "execution_count": 1,
      "outputs": []
    },
    {
      "cell_type": "markdown",
      "metadata": {
        "id": "FnCkRioaLr5u"
      },
      "source": [
        "# Tensor Indexing"
      ]
    },
    {
      "cell_type": "code",
      "metadata": {
        "id": "tdKNbXiAATxe"
      },
      "source": [
        "# Declaring 10 tensors at a time with each tensor being 1*10 shape.\n",
        "batch_size  = 10\n",
        "tensor_batch = torch.rand(10,10,1)"
      ],
      "execution_count": null,
      "outputs": []
    },
    {
      "cell_type": "code",
      "metadata": {
        "colab": {
          "base_uri": "https://localhost:8080/"
        },
        "id": "KZ0vqK-EAT2h",
        "outputId": "21e26f76-0367-42aa-d3b4-d337da7b1c89"
      },
      "source": [
        "tensor_batch.shape"
      ],
      "execution_count": null,
      "outputs": [
        {
          "output_type": "execute_result",
          "data": {
            "text/plain": [
              "torch.Size([10, 10, 1])"
            ]
          },
          "metadata": {
            "tags": []
          },
          "execution_count": 79
        }
      ]
    },
    {
      "cell_type": "markdown",
      "metadata": {
        "id": "dd_f68BsSin1"
      },
      "source": [
        "## Basic Indexing"
      ]
    },
    {
      "cell_type": "markdown",
      "metadata": {
        "id": "aIzTrU3qMcJ3"
      },
      "source": [
        "- Picking up first tensor."
      ]
    },
    {
      "cell_type": "code",
      "metadata": {
        "colab": {
          "base_uri": "https://localhost:8080/"
        },
        "id": "IlmAjukSAT7L",
        "outputId": "5066dc72-8f62-479e-86fe-7ee5f88ea908"
      },
      "source": [
        "tensor_batch[0]"
      ],
      "execution_count": null,
      "outputs": [
        {
          "output_type": "execute_result",
          "data": {
            "text/plain": [
              "tensor([[0.9973],\n",
              "        [0.6209],\n",
              "        [0.7938],\n",
              "        [0.2927],\n",
              "        [0.8947],\n",
              "        [0.8071],\n",
              "        [0.4581],\n",
              "        [0.9098],\n",
              "        [0.6260],\n",
              "        [0.7411]])"
            ]
          },
          "metadata": {
            "tags": []
          },
          "execution_count": 80
        }
      ]
    },
    {
      "cell_type": "markdown",
      "metadata": {
        "id": "z2L6ZMbLMjjb"
      },
      "source": [
        "- Picking up second tensor."
      ]
    },
    {
      "cell_type": "code",
      "metadata": {
        "colab": {
          "base_uri": "https://localhost:8080/"
        },
        "id": "k1y4g-Q9AT-2",
        "outputId": "af81a8f9-e4a4-49d2-90e8-b64fcd957262"
      },
      "source": [
        "tensor_batch[1]"
      ],
      "execution_count": null,
      "outputs": [
        {
          "output_type": "execute_result",
          "data": {
            "text/plain": [
              "tensor([[0.0818],\n",
              "        [0.3850],\n",
              "        [0.8719],\n",
              "        [0.8685],\n",
              "        [0.7441],\n",
              "        [0.0409],\n",
              "        [0.8789],\n",
              "        [0.9979],\n",
              "        [0.9880],\n",
              "        [0.4926]])"
            ]
          },
          "metadata": {
            "tags": []
          },
          "execution_count": 81
        }
      ]
    },
    {
      "cell_type": "markdown",
      "metadata": {
        "id": "aZolN6J-MqLB"
      },
      "source": [
        "- Picking first 3 tensors."
      ]
    },
    {
      "cell_type": "code",
      "metadata": {
        "colab": {
          "base_uri": "https://localhost:8080/"
        },
        "id": "Cou7gv0IAUCB",
        "outputId": "51ddcd85-b6ae-4461-81a5-a7d186c5dbd3"
      },
      "source": [
        "tensor_batch[0:3]"
      ],
      "execution_count": null,
      "outputs": [
        {
          "output_type": "execute_result",
          "data": {
            "text/plain": [
              "tensor([[[0.9973],\n",
              "         [0.6209],\n",
              "         [0.7938],\n",
              "         [0.2927],\n",
              "         [0.8947],\n",
              "         [0.8071],\n",
              "         [0.4581],\n",
              "         [0.9098],\n",
              "         [0.6260],\n",
              "         [0.7411]],\n",
              "\n",
              "        [[0.0818],\n",
              "         [0.3850],\n",
              "         [0.8719],\n",
              "         [0.8685],\n",
              "         [0.7441],\n",
              "         [0.0409],\n",
              "         [0.8789],\n",
              "         [0.9979],\n",
              "         [0.9880],\n",
              "         [0.4926]],\n",
              "\n",
              "        [[0.3499],\n",
              "         [0.2576],\n",
              "         [0.5023],\n",
              "         [0.3563],\n",
              "         [0.4616],\n",
              "         [0.8081],\n",
              "         [0.0333],\n",
              "         [0.1976],\n",
              "         [0.8805],\n",
              "         [0.9242]]])"
            ]
          },
          "metadata": {
            "tags": []
          },
          "execution_count": 82
        }
      ]
    },
    {
      "cell_type": "markdown",
      "metadata": {
        "id": "CfFPTNtEXHdr"
      },
      "source": [
        "- Getting first three elements of all tensors in the batch"
      ]
    },
    {
      "cell_type": "code",
      "metadata": {
        "colab": {
          "base_uri": "https://localhost:8080/"
        },
        "id": "OMp70G3WAUE4",
        "outputId": "b1aaf1ae-c574-4b21-a7fc-4c938f9b46ca"
      },
      "source": [
        "tensor_batch[:,0:3]"
      ],
      "execution_count": null,
      "outputs": [
        {
          "output_type": "execute_result",
          "data": {
            "text/plain": [
              "tensor([[[0.9973],\n",
              "         [0.6209],\n",
              "         [0.7938]],\n",
              "\n",
              "        [[0.0818],\n",
              "         [0.3850],\n",
              "         [0.8719]],\n",
              "\n",
              "        [[0.3499],\n",
              "         [0.2576],\n",
              "         [0.5023]],\n",
              "\n",
              "        [[0.1930],\n",
              "         [0.0848],\n",
              "         [0.6464]],\n",
              "\n",
              "        [[0.1258],\n",
              "         [0.7163],\n",
              "         [0.8157]],\n",
              "\n",
              "        [[0.6659],\n",
              "         [0.7845],\n",
              "         [0.6112]],\n",
              "\n",
              "        [[0.9918],\n",
              "         [0.6093],\n",
              "         [0.7552]],\n",
              "\n",
              "        [[0.7000],\n",
              "         [0.8483],\n",
              "         [0.2938]],\n",
              "\n",
              "        [[0.9124],\n",
              "         [0.1357],\n",
              "         [0.6674]],\n",
              "\n",
              "        [[0.4488],\n",
              "         [0.3542],\n",
              "         [0.8706]]])"
            ]
          },
          "metadata": {
            "tags": []
          },
          "execution_count": 84
        }
      ]
    },
    {
      "cell_type": "markdown",
      "metadata": {
        "id": "kDYBMTaXXMhx"
      },
      "source": [
        "- first 3 elements of first three tensors "
      ]
    },
    {
      "cell_type": "code",
      "metadata": {
        "colab": {
          "base_uri": "https://localhost:8080/"
        },
        "id": "aGbvhWmgAUHP",
        "outputId": "1de781a2-a608-45b0-ab5f-a019b7568a57"
      },
      "source": [
        "tensor_batch[0:3,0:3]"
      ],
      "execution_count": null,
      "outputs": [
        {
          "output_type": "execute_result",
          "data": {
            "text/plain": [
              "tensor([[[0.9973],\n",
              "         [0.6209],\n",
              "         [0.7938]],\n",
              "\n",
              "        [[0.0818],\n",
              "         [0.3850],\n",
              "         [0.8719]],\n",
              "\n",
              "        [[0.3499],\n",
              "         [0.2576],\n",
              "         [0.5023]]])"
            ]
          },
          "metadata": {
            "tags": []
          },
          "execution_count": 85
        }
      ]
    },
    {
      "cell_type": "markdown",
      "metadata": {
        "id": "P91bEEiwXlOK"
      },
      "source": [
        "- Let us move to some more indexing options."
      ]
    },
    {
      "cell_type": "code",
      "metadata": {
        "id": "8cSijN0mAUJl"
      },
      "source": [
        "x_tensor = torch.arange(0,9,1)"
      ],
      "execution_count": null,
      "outputs": []
    },
    {
      "cell_type": "code",
      "metadata": {
        "colab": {
          "base_uri": "https://localhost:8080/"
        },
        "id": "knO6252YAUMM",
        "outputId": "812382e5-fc87-4db5-d8f9-826078a5677f"
      },
      "source": [
        "x_tensor"
      ],
      "execution_count": null,
      "outputs": [
        {
          "output_type": "execute_result",
          "data": {
            "text/plain": [
              "tensor([0, 1, 2, 3, 4, 5, 6, 7, 8])"
            ]
          },
          "metadata": {
            "tags": []
          },
          "execution_count": 87
        }
      ]
    },
    {
      "cell_type": "markdown",
      "metadata": {
        "id": "zKKJlJ2zX4r5"
      },
      "source": [
        "we will take out elements from tensor for specific indexes only."
      ]
    },
    {
      "cell_type": "code",
      "metadata": {
        "id": "5Wbl5l6_AUOJ"
      },
      "source": [
        "indices_list = [1,3,4,7]"
      ],
      "execution_count": null,
      "outputs": []
    },
    {
      "cell_type": "code",
      "metadata": {
        "colab": {
          "base_uri": "https://localhost:8080/"
        },
        "id": "ST9JhwZ0AURV",
        "outputId": "cf70932a-09b1-4ec5-b19b-c7597eea7e08"
      },
      "source": [
        "# Elements at given indices.\n",
        "x_tensor[indices_list]"
      ],
      "execution_count": null,
      "outputs": [
        {
          "output_type": "execute_result",
          "data": {
            "text/plain": [
              "tensor([1, 3, 4, 7])"
            ]
          },
          "metadata": {
            "tags": []
          },
          "execution_count": 89
        }
      ]
    },
    {
      "cell_type": "markdown",
      "metadata": {
        "id": "2JgpJStMYbhy"
      },
      "source": [
        "## Indexing through **Matrices**."
      ]
    },
    {
      "cell_type": "code",
      "metadata": {
        "id": "JJTJNNETAUUU"
      },
      "source": [
        "matrixA = torch.tensor([[1,2,3,4,5],[6,7,8,9,10],[11,12,13,14,15],[16,17,18,19,20]])"
      ],
      "execution_count": null,
      "outputs": []
    },
    {
      "cell_type": "code",
      "metadata": {
        "colab": {
          "base_uri": "https://localhost:8080/"
        },
        "id": "4kUo_sdMAUW8",
        "outputId": "b2018e99-a54b-45f3-fb32-148feb827a12"
      },
      "source": [
        "matrixA"
      ],
      "execution_count": null,
      "outputs": [
        {
          "output_type": "execute_result",
          "data": {
            "text/plain": [
              "tensor([[ 1,  2,  3,  4,  5],\n",
              "        [ 6,  7,  8,  9, 10],\n",
              "        [11, 12, 13, 14, 15],\n",
              "        [16, 17, 18, 19, 20]])"
            ]
          },
          "metadata": {
            "tags": []
          },
          "execution_count": 93
        }
      ]
    },
    {
      "cell_type": "code",
      "metadata": {
        "id": "GZb3CYr0AUaH"
      },
      "source": [
        "# Selecting rows and columns that we need.\n",
        "selected_rows = [0,2]\n",
        "selected_cols = [1,3]"
      ],
      "execution_count": null,
      "outputs": []
    },
    {
      "cell_type": "code",
      "metadata": {
        "colab": {
          "base_uri": "https://localhost:8080/"
        },
        "id": "RJzsqI4nAUes",
        "outputId": "b0d6628f-67fd-4da9-fd25-9084fa8c742e"
      },
      "source": [
        "# Result of matrix after indexing.\n",
        "matrixA[selected_rows,selected_cols]"
      ],
      "execution_count": null,
      "outputs": [
        {
          "output_type": "execute_result",
          "data": {
            "text/plain": [
              "tensor([ 2, 14])"
            ]
          },
          "metadata": {
            "tags": []
          },
          "execution_count": 106
        }
      ]
    },
    {
      "cell_type": "markdown",
      "metadata": {
        "id": "EdiXGu5RRryh"
      },
      "source": [
        "## More Indexing using **Mixed Comparision Operators.**"
      ]
    },
    {
      "cell_type": "code",
      "metadata": {
        "id": "76Eh79UBAUgU"
      },
      "source": [
        "a_tensor = torch.arange(1,10)"
      ],
      "execution_count": 4,
      "outputs": []
    },
    {
      "cell_type": "code",
      "metadata": {
        "id": "yfK4RmNmAUp1",
        "colab": {
          "base_uri": "https://localhost:8080/"
        },
        "outputId": "2b9419ac-025d-4486-eb2d-df623825f7de"
      },
      "source": [
        "a_tensor"
      ],
      "execution_count": 5,
      "outputs": [
        {
          "output_type": "execute_result",
          "data": {
            "text/plain": [
              "tensor([1, 2, 3, 4, 5, 6, 7, 8, 9])"
            ]
          },
          "metadata": {
            "tags": []
          },
          "execution_count": 5
        }
      ]
    },
    {
      "cell_type": "code",
      "metadata": {
        "id": "AqsnY1ntAUse",
        "colab": {
          "base_uri": "https://localhost:8080/"
        },
        "outputId": "8948f37f-618a-43b6-d3ac-1e39c7e14841"
      },
      "source": [
        "a_tensor>2\n",
        "# Returns Boolean Values only according to our condition"
      ],
      "execution_count": 8,
      "outputs": [
        {
          "output_type": "execute_result",
          "data": {
            "text/plain": [
              "tensor([False, False,  True,  True,  True,  True,  True,  True,  True])"
            ]
          },
          "metadata": {
            "tags": []
          },
          "execution_count": 8
        }
      ]
    },
    {
      "cell_type": "code",
      "metadata": {
        "id": "lsBgLWcAAUxm",
        "colab": {
          "base_uri": "https://localhost:8080/"
        },
        "outputId": "a349488c-e34d-42a6-c3eb-c14558b03b0f"
      },
      "source": [
        "a_tensor[a_tensor>2]\n",
        "# Returns values according to our condition."
      ],
      "execution_count": 7,
      "outputs": [
        {
          "output_type": "execute_result",
          "data": {
            "text/plain": [
              "tensor([3, 4, 5, 6, 7, 8, 9])"
            ]
          },
          "metadata": {
            "tags": []
          },
          "execution_count": 7
        }
      ]
    },
    {
      "cell_type": "markdown",
      "metadata": {
        "id": "QiCQfGkgTJg0"
      },
      "source": [
        "- Some more indexing...."
      ]
    },
    {
      "cell_type": "code",
      "metadata": {
        "id": "t1ChLwAcAU0T",
        "colab": {
          "base_uri": "https://localhost:8080/"
        },
        "outputId": "a1c1f1eb-9fca-4ec6-aa0a-4ea4fc8d6b95"
      },
      "source": [
        "a_tensor[(a_tensor>2) | (a_tensor>7)]\n",
        "# OR operator."
      ],
      "execution_count": 10,
      "outputs": [
        {
          "output_type": "execute_result",
          "data": {
            "text/plain": [
              "tensor([3, 4, 5, 6, 7, 8, 9])"
            ]
          },
          "metadata": {
            "tags": []
          },
          "execution_count": 10
        }
      ]
    },
    {
      "cell_type": "code",
      "metadata": {
        "id": "pAZDA0OzAU26",
        "colab": {
          "base_uri": "https://localhost:8080/"
        },
        "outputId": "1263da76-9875-4c55-ed1a-00e150b444fc"
      },
      "source": [
        "a_tensor[(a_tensor>2) & (a_tensor>7)]\n",
        "# AND operator."
      ],
      "execution_count": 11,
      "outputs": [
        {
          "output_type": "execute_result",
          "data": {
            "text/plain": [
              "tensor([8, 9])"
            ]
          },
          "metadata": {
            "tags": []
          },
          "execution_count": 11
        }
      ]
    },
    {
      "cell_type": "markdown",
      "metadata": {
        "id": "84MMZ1ynTthn"
      },
      "source": [
        "using ***torch.where( )***\n",
        "- Return a tensor of elements selected from either x or y, depending on condition.\n"
      ]
    },
    {
      "cell_type": "code",
      "metadata": {
        "id": "N08ckBr3AU5V",
        "colab": {
          "base_uri": "https://localhost:8080/"
        },
        "outputId": "3a813509-13a7-493e-e53f-4ef27bd3e308"
      },
      "source": [
        "a_tensor.where(a_tensor<3,a_tensor**2)"
      ],
      "execution_count": 16,
      "outputs": [
        {
          "output_type": "execute_result",
          "data": {
            "text/plain": [
              "tensor([ 1,  2,  9, 16, 25, 36, 49, 64, 81])"
            ]
          },
          "metadata": {
            "tags": []
          },
          "execution_count": 16
        }
      ]
    },
    {
      "cell_type": "markdown",
      "metadata": {
        "id": "8B3UTcHoUkEC"
      },
      "source": [
        "Its clear that whenever the element was less than the given condition it returned the same element, else we have returned the element to the power of twice."
      ]
    },
    {
      "cell_type": "markdown",
      "metadata": {
        "id": "au8GPZfHY4cP"
      },
      "source": [
        "- **Set** functionality on tensors using **.unique( )**"
      ]
    },
    {
      "cell_type": "code",
      "metadata": {
        "id": "x3fzQLj4AU7v"
      },
      "source": [
        "new_tensor = torch.tensor([1,2,2,3,4,5,5,5,6,7,8])"
      ],
      "execution_count": 20,
      "outputs": []
    },
    {
      "cell_type": "code",
      "metadata": {
        "id": "jAQRcyUiAVBB",
        "colab": {
          "base_uri": "https://localhost:8080/"
        },
        "outputId": "93596bd3-2df9-4c7a-ddb4-4d274da46d20"
      },
      "source": [
        "new_tensor.unique()\n",
        "# Gives out the unique values."
      ],
      "execution_count": 18,
      "outputs": [
        {
          "output_type": "execute_result",
          "data": {
            "text/plain": [
              "tensor([1, 2, 3, 4, 5, 6, 7, 8])"
            ]
          },
          "metadata": {
            "tags": []
          },
          "execution_count": 18
        }
      ]
    },
    {
      "cell_type": "code",
      "metadata": {
        "id": "slUletAVAVD1",
        "colab": {
          "base_uri": "https://localhost:8080/"
        },
        "outputId": "a6778769-8a54-4eb9-ea58-d0bb3103ad84"
      },
      "source": [
        "new_tensor.numel()\n",
        "# Length of tensor "
      ],
      "execution_count": 21,
      "outputs": [
        {
          "output_type": "execute_result",
          "data": {
            "text/plain": [
              "11"
            ]
          },
          "metadata": {
            "tags": []
          },
          "execution_count": 21
        }
      ]
    },
    {
      "cell_type": "markdown",
      "metadata": {
        "id": "tveq9etAgkSs"
      },
      "source": [
        "# Reshaping Tensors"
      ]
    },
    {
      "cell_type": "code",
      "metadata": {
        "id": "fhxoj5r0Zt0Q"
      },
      "source": [
        "tensor_a = torch.tensor([1,2,3,4,5,6,7,8])"
      ],
      "execution_count": 22,
      "outputs": []
    },
    {
      "cell_type": "code",
      "metadata": {
        "id": "vx6NEJzhAVJB"
      },
      "source": [
        "tensor_a = tensor_a.view(1,8)"
      ],
      "execution_count": 24,
      "outputs": []
    },
    {
      "cell_type": "markdown",
      "metadata": {
        "id": "3EI74Ilijrkp"
      },
      "source": [
        "- We can look for the shape of our current tensor."
      ]
    },
    {
      "cell_type": "code",
      "metadata": {
        "id": "A3Ic-JJGAVL9",
        "colab": {
          "base_uri": "https://localhost:8080/"
        },
        "outputId": "18d2ec13-0501-480e-fb7b-5b5bb718437e"
      },
      "source": [
        "tensor_a.shape"
      ],
      "execution_count": 25,
      "outputs": [
        {
          "output_type": "execute_result",
          "data": {
            "text/plain": [
              "torch.Size([1, 8])"
            ]
          },
          "metadata": {
            "tags": []
          },
          "execution_count": 25
        }
      ]
    },
    {
      "cell_type": "markdown",
      "metadata": {
        "id": "ePv885uTjzWW"
      },
      "source": [
        "- Converting it to a 2 cross 4 shaped tensor."
      ]
    },
    {
      "cell_type": "code",
      "metadata": {
        "id": "_wE-SzKuAVO8",
        "colab": {
          "base_uri": "https://localhost:8080/"
        },
        "outputId": "83bc29b4-713d-4601-c0c2-8bb3d57cc512"
      },
      "source": [
        "tensor_a.reshape(2,4)"
      ],
      "execution_count": 27,
      "outputs": [
        {
          "output_type": "execute_result",
          "data": {
            "text/plain": [
              "tensor([[1, 2, 3, 4],\n",
              "        [5, 6, 7, 8]])"
            ]
          },
          "metadata": {
            "tags": []
          },
          "execution_count": 27
        }
      ]
    },
    {
      "cell_type": "markdown",
      "metadata": {
        "id": "SMR6Wzx1j4Kl"
      },
      "source": [
        "- Now converting it to 4 cross 2 shape."
      ]
    },
    {
      "cell_type": "code",
      "metadata": {
        "id": "WOwHGB1yAVV4",
        "colab": {
          "base_uri": "https://localhost:8080/"
        },
        "outputId": "d0db982f-c39c-4b76-a9ef-c773959495d0"
      },
      "source": [
        "tensor_a.reshape(4,2)"
      ],
      "execution_count": 28,
      "outputs": [
        {
          "output_type": "execute_result",
          "data": {
            "text/plain": [
              "tensor([[1, 2],\n",
              "        [3, 4],\n",
              "        [5, 6],\n",
              "        [7, 8]])"
            ]
          },
          "metadata": {
            "tags": []
          },
          "execution_count": 28
        }
      ]
    },
    {
      "cell_type": "markdown",
      "metadata": {
        "id": "aSm6HNBykAAH"
      },
      "source": [
        "- Now making two different tensors of 2 cross 2 shape."
      ]
    },
    {
      "cell_type": "code",
      "metadata": {
        "id": "HLeWEW3-AVZN",
        "colab": {
          "base_uri": "https://localhost:8080/"
        },
        "outputId": "91fb67b6-982a-4f7c-87fc-3e5ba3ff812e"
      },
      "source": [
        "tensor_a.reshape(2,2,2)"
      ],
      "execution_count": 29,
      "outputs": [
        {
          "output_type": "execute_result",
          "data": {
            "text/plain": [
              "tensor([[[1, 2],\n",
              "         [3, 4]],\n",
              "\n",
              "        [[5, 6],\n",
              "         [7, 8]]])"
            ]
          },
          "metadata": {
            "tags": []
          },
          "execution_count": 29
        }
      ]
    },
    {
      "cell_type": "markdown",
      "metadata": {
        "id": "5mh-DQd4kWRP"
      },
      "source": [
        "- Let us make another matrix and make a **Transpose** of it."
      ]
    },
    {
      "cell_type": "markdown",
      "metadata": {
        "id": "-OGQcViGlqo3"
      },
      "source": [
        "***Transpose of a Matrix***:\n",
        "- In linear algebra, the transpose of a matrix is an operator which flips a matrix over its diagonal; that is, it switches the row and column indices of the matrix A by producing another matrix, often denoted by Aᵀ."
      ]
    },
    {
      "cell_type": "code",
      "metadata": {
        "id": "ySBWTX4yAVcN"
      },
      "source": [
        "matrix = torch.tensor([[1,2,3],[4,5,6],[7,8,9]])"
      ],
      "execution_count": 30,
      "outputs": []
    },
    {
      "cell_type": "code",
      "metadata": {
        "id": "w9JHKY4YAVeb",
        "colab": {
          "base_uri": "https://localhost:8080/"
        },
        "outputId": "7ad105df-2b83-4f0a-d368-9f3634dd0b62"
      },
      "source": [
        "matrix.shape"
      ],
      "execution_count": 31,
      "outputs": [
        {
          "output_type": "execute_result",
          "data": {
            "text/plain": [
              "torch.Size([3, 3])"
            ]
          },
          "metadata": {
            "tags": []
          },
          "execution_count": 31
        }
      ]
    },
    {
      "cell_type": "code",
      "metadata": {
        "colab": {
          "base_uri": "https://localhost:8080/"
        },
        "id": "_gWE_ZtvkzC2",
        "outputId": "95be89e5-50dc-49fb-a1be-c00de2295958"
      },
      "source": [
        "matrix"
      ],
      "execution_count": 33,
      "outputs": [
        {
          "output_type": "execute_result",
          "data": {
            "text/plain": [
              "tensor([[1, 2, 3],\n",
              "        [4, 5, 6],\n",
              "        [7, 8, 9]])"
            ]
          },
          "metadata": {
            "tags": []
          },
          "execution_count": 33
        }
      ]
    },
    {
      "cell_type": "code",
      "metadata": {
        "id": "PUsmtsqhAVgq"
      },
      "source": [
        "# Transpose of the Matrix.\n",
        "\n",
        "transpose_matrix = matrix.t()"
      ],
      "execution_count": 32,
      "outputs": []
    },
    {
      "cell_type": "code",
      "metadata": {
        "id": "fyE4CqYBAVkP",
        "colab": {
          "base_uri": "https://localhost:8080/"
        },
        "outputId": "22d2ccaa-04e6-482d-f6cc-592f6f5688c3"
      },
      "source": [
        "transpose_matrix"
      ],
      "execution_count": 34,
      "outputs": [
        {
          "output_type": "execute_result",
          "data": {
            "text/plain": [
              "tensor([[1, 4, 7],\n",
              "        [2, 5, 8],\n",
              "        [3, 6, 9]])"
            ]
          },
          "metadata": {
            "tags": []
          },
          "execution_count": 34
        }
      ]
    },
    {
      "cell_type": "markdown",
      "metadata": {
        "id": "5W9e_hz_mPj1"
      },
      "source": [
        "Adding tensors by dimensions and reshaping it.\n",
        "- **torch.cat( )**:Concatenates the given sequence of seq tensors in the given dimension. All tensors must either have the same shape (except in the concatenating dimension) or be empty."
      ]
    },
    {
      "cell_type": "code",
      "metadata": {
        "id": "4eviAdTqAVnB"
      },
      "source": [
        "tensor_a = torch.tensor([[1,2,3],[4,5,6]])\n",
        "tensor_b = torch.tensor([[7,8,9],[10,11,12]])"
      ],
      "execution_count": 36,
      "outputs": []
    },
    {
      "cell_type": "code",
      "metadata": {
        "id": "_OAoJC6DAVp-",
        "colab": {
          "base_uri": "https://localhost:8080/"
        },
        "outputId": "77636176-672a-4f27-fb72-e5ce81186543"
      },
      "source": [
        "tensor_a.shape, tensor_b.shape"
      ],
      "execution_count": 37,
      "outputs": [
        {
          "output_type": "execute_result",
          "data": {
            "text/plain": [
              "(torch.Size([2, 3]), torch.Size([2, 3]))"
            ]
          },
          "metadata": {
            "tags": []
          },
          "execution_count": 37
        }
      ]
    },
    {
      "cell_type": "code",
      "metadata": {
        "id": "DsdzaGrnAVsy",
        "colab": {
          "base_uri": "https://localhost:8080/"
        },
        "outputId": "4447b817-828c-444a-f5aa-35a8de285e3c"
      },
      "source": [
        "# Concating along rows\n",
        "torch.cat((tensor_a, tensor_b),dim=0)"
      ],
      "execution_count": 39,
      "outputs": [
        {
          "output_type": "execute_result",
          "data": {
            "text/plain": [
              "tensor([[ 1,  2,  3],\n",
              "        [ 4,  5,  6],\n",
              "        [ 7,  8,  9],\n",
              "        [10, 11, 12]])"
            ]
          },
          "metadata": {
            "tags": []
          },
          "execution_count": 39
        }
      ]
    },
    {
      "cell_type": "code",
      "metadata": {
        "colab": {
          "base_uri": "https://localhost:8080/"
        },
        "id": "k7LiMpV7niiV",
        "outputId": "b07f625c-48db-4b94-84a6-87ab817999fa"
      },
      "source": [
        "# Concating along columns.\n",
        "torch.cat((tensor_a, tensor_b),dim=1)"
      ],
      "execution_count": 40,
      "outputs": [
        {
          "output_type": "execute_result",
          "data": {
            "text/plain": [
              "tensor([[ 1,  2,  3,  7,  8,  9],\n",
              "        [ 4,  5,  6, 10, 11, 12]])"
            ]
          },
          "metadata": {
            "tags": []
          },
          "execution_count": 40
        }
      ]
    },
    {
      "cell_type": "markdown",
      "metadata": {
        "id": "ZmHqCQSZnHL8"
      },
      "source": [
        "**Explanation:**\n",
        "- Here firstly both of the tensors were concatenated along a given dimension.\n",
        "- concating is different from adding."
      ]
    },
    {
      "cell_type": "markdown",
      "metadata": {
        "id": "-_8OHneQozl7"
      },
      "source": [
        "- **Flattening** the whole tensor."
      ]
    },
    {
      "cell_type": "code",
      "metadata": {
        "id": "FI4XdcRtAWox",
        "colab": {
          "base_uri": "https://localhost:8080/"
        },
        "outputId": "3d9e1a24-0991-466f-ae11-74c0cecdac61"
      },
      "source": [
        "tensor_a"
      ],
      "execution_count": 41,
      "outputs": [
        {
          "output_type": "execute_result",
          "data": {
            "text/plain": [
              "tensor([[1, 2, 3],\n",
              "        [4, 5, 6]])"
            ]
          },
          "metadata": {
            "tags": []
          },
          "execution_count": 41
        }
      ]
    },
    {
      "cell_type": "code",
      "metadata": {
        "id": "rgVmvxG4AWtO",
        "colab": {
          "base_uri": "https://localhost:8080/"
        },
        "outputId": "95a0c4d9-1a65-478f-c7da-6248aad29b98"
      },
      "source": [
        "tensor_a.view(-1)\n",
        "# This is kind of unzipping operation."
      ],
      "execution_count": 44,
      "outputs": [
        {
          "output_type": "execute_result",
          "data": {
            "text/plain": [
              "tensor([1, 2, 3, 4, 5, 6])"
            ]
          },
          "metadata": {
            "tags": []
          },
          "execution_count": 44
        }
      ]
    },
    {
      "cell_type": "markdown",
      "metadata": {
        "id": "GFcZmgLQpW0O"
      },
      "source": [
        "# **THANK YOU**"
      ]
    }
  ]
}