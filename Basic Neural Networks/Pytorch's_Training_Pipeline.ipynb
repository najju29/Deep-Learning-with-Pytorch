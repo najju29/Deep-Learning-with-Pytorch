{
  "nbformat": 4,
  "nbformat_minor": 0,
  "metadata": {
    "colab": {
      "name": "Pytorch's Training Pipeline.ipynb",
      "provenance": [],
      "collapsed_sections": [],
      "toc_visible": true
    },
    "kernelspec": {
      "name": "python3",
      "display_name": "Python 3"
    },
    "accelerator": "GPU"
  },
  "cells": [
    {
      "cell_type": "markdown",
      "metadata": {
        "id": "GYNGlXqJH0Kn"
      },
      "source": [
        "# The Pytorch's Training PipeLine\n",
        "- The most commonly used pipeline for pytorch is given below.\n",
        "- <img src=\"https://image.slidesharecdn.com/pytorchtutorial-2017-1103-171103060015/95/update-pytorch-tutorial-for-ntu-machine-learing-course-2017-13-638.jpg?cb=1509688980\"  width=\"700\" height=\"400\">\n",
        "\n",
        "1. **Defining Model architecture:**\n",
        " - We will firstly decide how many layers are to be stacked.\n",
        " - Then we decide number of neurons and their respective activation functions.\n",
        "2. **Constructing Loss and Optimizer:**\n",
        " - We will define our loss and then Optimizer for our task.\n",
        "3. **Training Loop:**\n",
        " - *Forward step:* Calulating our prediction at that instant.\n",
        " - *Backward Step:* Calculating Loss and then its gradient with which we calculate the Updated Weight and use it back for next forward Step."
      ]
    },
    {
      "cell_type": "markdown",
      "metadata": {
        "id": "PW27Ho-ROQt0"
      },
      "source": [
        "- Our Model Architecture Looks something like this.\n",
        "- <img src=\"https://discuss.pytorch.org/uploads/default/3abaa62001384d5b71c8b36338bbfe3fe5a9319d\"  width=\"700\" height=\"800\">"
      ]
    },
    {
      "cell_type": "markdown",
      "metadata": {
        "id": "T3mahAHfOlxZ"
      },
      "source": [
        "- Donot worry about whats happening here just remember the steps that we are going to use.\n",
        "- The above one is just an example of how we are going to design the model.\n",
        "- We will see it about how to define it in the next notebook.\n",
        "# THANK YOU !"
      ]
    }
  ]
}