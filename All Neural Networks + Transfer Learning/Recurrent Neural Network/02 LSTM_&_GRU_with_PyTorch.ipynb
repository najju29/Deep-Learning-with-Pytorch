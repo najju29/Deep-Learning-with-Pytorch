{
  "nbformat": 4,
  "nbformat_minor": 0,
  "metadata": {
    "colab": {
      "name": "LSTM & GRU_with_PyTorch.ipynb",
      "provenance": [],
      "collapsed_sections": [],
      "toc_visible": true
    },
    "kernelspec": {
      "name": "python3",
      "display_name": "Python 3"
    },
    "language_info": {
      "name": "python"
    },
    "accelerator": "GPU",
    "widgets": {
      "application/vnd.jupyter.widget-state+json": {
        "c0b463a9240e4204a12bbdb6a94288d7": {
          "model_module": "@jupyter-widgets/controls",
          "model_name": "HBoxModel",
          "state": {
            "_view_name": "HBoxView",
            "_dom_classes": [],
            "_model_name": "HBoxModel",
            "_view_module": "@jupyter-widgets/controls",
            "_model_module_version": "1.5.0",
            "_view_count": null,
            "_view_module_version": "1.5.0",
            "box_style": "",
            "layout": "IPY_MODEL_f3966c1247a5468d8d676a0eb3f2540d",
            "_model_module": "@jupyter-widgets/controls",
            "children": [
              "IPY_MODEL_0d916e0636884c13beb7fb151eaf62c4",
              "IPY_MODEL_34475bfdc86743b1ac6b3d21e7894e36"
            ]
          }
        },
        "f3966c1247a5468d8d676a0eb3f2540d": {
          "model_module": "@jupyter-widgets/base",
          "model_name": "LayoutModel",
          "state": {
            "_view_name": "LayoutView",
            "grid_template_rows": null,
            "right": null,
            "justify_content": null,
            "_view_module": "@jupyter-widgets/base",
            "overflow": null,
            "_model_module_version": "1.2.0",
            "_view_count": null,
            "flex_flow": null,
            "width": null,
            "min_width": null,
            "border": null,
            "align_items": null,
            "bottom": null,
            "_model_module": "@jupyter-widgets/base",
            "top": null,
            "grid_column": null,
            "overflow_y": null,
            "overflow_x": null,
            "grid_auto_flow": null,
            "grid_area": null,
            "grid_template_columns": null,
            "flex": null,
            "_model_name": "LayoutModel",
            "justify_items": null,
            "grid_row": null,
            "max_height": null,
            "align_content": null,
            "visibility": null,
            "align_self": null,
            "height": null,
            "min_height": null,
            "padding": null,
            "grid_auto_rows": null,
            "grid_gap": null,
            "max_width": null,
            "order": null,
            "_view_module_version": "1.2.0",
            "grid_template_areas": null,
            "object_position": null,
            "object_fit": null,
            "grid_auto_columns": null,
            "margin": null,
            "display": null,
            "left": null
          }
        },
        "0d916e0636884c13beb7fb151eaf62c4": {
          "model_module": "@jupyter-widgets/controls",
          "model_name": "FloatProgressModel",
          "state": {
            "_view_name": "ProgressView",
            "style": "IPY_MODEL_eadf433796264a33b93db5ab65e9ffc8",
            "_dom_classes": [],
            "description": "",
            "_model_name": "FloatProgressModel",
            "bar_style": "success",
            "max": 9912422,
            "_view_module": "@jupyter-widgets/controls",
            "_model_module_version": "1.5.0",
            "value": 9912422,
            "_view_count": null,
            "_view_module_version": "1.5.0",
            "orientation": "horizontal",
            "min": 0,
            "description_tooltip": null,
            "_model_module": "@jupyter-widgets/controls",
            "layout": "IPY_MODEL_93bc20a42fee443e8fb639c0a6185279"
          }
        },
        "34475bfdc86743b1ac6b3d21e7894e36": {
          "model_module": "@jupyter-widgets/controls",
          "model_name": "HTMLModel",
          "state": {
            "_view_name": "HTMLView",
            "style": "IPY_MODEL_6d600788c1ff4cba93d507f72de31660",
            "_dom_classes": [],
            "description": "",
            "_model_name": "HTMLModel",
            "placeholder": "​",
            "_view_module": "@jupyter-widgets/controls",
            "_model_module_version": "1.5.0",
            "value": " 9913344/? [01:40&lt;00:00, 98402.17it/s]",
            "_view_count": null,
            "_view_module_version": "1.5.0",
            "description_tooltip": null,
            "_model_module": "@jupyter-widgets/controls",
            "layout": "IPY_MODEL_b9b6ba259f6d4e0b83b1a21a34cfd054"
          }
        },
        "eadf433796264a33b93db5ab65e9ffc8": {
          "model_module": "@jupyter-widgets/controls",
          "model_name": "ProgressStyleModel",
          "state": {
            "_view_name": "StyleView",
            "_model_name": "ProgressStyleModel",
            "description_width": "initial",
            "_view_module": "@jupyter-widgets/base",
            "_model_module_version": "1.5.0",
            "_view_count": null,
            "_view_module_version": "1.2.0",
            "bar_color": null,
            "_model_module": "@jupyter-widgets/controls"
          }
        },
        "93bc20a42fee443e8fb639c0a6185279": {
          "model_module": "@jupyter-widgets/base",
          "model_name": "LayoutModel",
          "state": {
            "_view_name": "LayoutView",
            "grid_template_rows": null,
            "right": null,
            "justify_content": null,
            "_view_module": "@jupyter-widgets/base",
            "overflow": null,
            "_model_module_version": "1.2.0",
            "_view_count": null,
            "flex_flow": null,
            "width": null,
            "min_width": null,
            "border": null,
            "align_items": null,
            "bottom": null,
            "_model_module": "@jupyter-widgets/base",
            "top": null,
            "grid_column": null,
            "overflow_y": null,
            "overflow_x": null,
            "grid_auto_flow": null,
            "grid_area": null,
            "grid_template_columns": null,
            "flex": null,
            "_model_name": "LayoutModel",
            "justify_items": null,
            "grid_row": null,
            "max_height": null,
            "align_content": null,
            "visibility": null,
            "align_self": null,
            "height": null,
            "min_height": null,
            "padding": null,
            "grid_auto_rows": null,
            "grid_gap": null,
            "max_width": null,
            "order": null,
            "_view_module_version": "1.2.0",
            "grid_template_areas": null,
            "object_position": null,
            "object_fit": null,
            "grid_auto_columns": null,
            "margin": null,
            "display": null,
            "left": null
          }
        },
        "6d600788c1ff4cba93d507f72de31660": {
          "model_module": "@jupyter-widgets/controls",
          "model_name": "DescriptionStyleModel",
          "state": {
            "_view_name": "StyleView",
            "_model_name": "DescriptionStyleModel",
            "description_width": "",
            "_view_module": "@jupyter-widgets/base",
            "_model_module_version": "1.5.0",
            "_view_count": null,
            "_view_module_version": "1.2.0",
            "_model_module": "@jupyter-widgets/controls"
          }
        },
        "b9b6ba259f6d4e0b83b1a21a34cfd054": {
          "model_module": "@jupyter-widgets/base",
          "model_name": "LayoutModel",
          "state": {
            "_view_name": "LayoutView",
            "grid_template_rows": null,
            "right": null,
            "justify_content": null,
            "_view_module": "@jupyter-widgets/base",
            "overflow": null,
            "_model_module_version": "1.2.0",
            "_view_count": null,
            "flex_flow": null,
            "width": null,
            "min_width": null,
            "border": null,
            "align_items": null,
            "bottom": null,
            "_model_module": "@jupyter-widgets/base",
            "top": null,
            "grid_column": null,
            "overflow_y": null,
            "overflow_x": null,
            "grid_auto_flow": null,
            "grid_area": null,
            "grid_template_columns": null,
            "flex": null,
            "_model_name": "LayoutModel",
            "justify_items": null,
            "grid_row": null,
            "max_height": null,
            "align_content": null,
            "visibility": null,
            "align_self": null,
            "height": null,
            "min_height": null,
            "padding": null,
            "grid_auto_rows": null,
            "grid_gap": null,
            "max_width": null,
            "order": null,
            "_view_module_version": "1.2.0",
            "grid_template_areas": null,
            "object_position": null,
            "object_fit": null,
            "grid_auto_columns": null,
            "margin": null,
            "display": null,
            "left": null
          }
        },
        "c9f3f917f9fd413b855f265e52ec4507": {
          "model_module": "@jupyter-widgets/controls",
          "model_name": "HBoxModel",
          "state": {
            "_view_name": "HBoxView",
            "_dom_classes": [],
            "_model_name": "HBoxModel",
            "_view_module": "@jupyter-widgets/controls",
            "_model_module_version": "1.5.0",
            "_view_count": null,
            "_view_module_version": "1.5.0",
            "box_style": "",
            "layout": "IPY_MODEL_6270c5a0a5284c948e221c5c0a3cc62a",
            "_model_module": "@jupyter-widgets/controls",
            "children": [
              "IPY_MODEL_75d2658249444491932bd7611114c6d7",
              "IPY_MODEL_61a068862f62459db031d99bd1ee963c"
            ]
          }
        },
        "6270c5a0a5284c948e221c5c0a3cc62a": {
          "model_module": "@jupyter-widgets/base",
          "model_name": "LayoutModel",
          "state": {
            "_view_name": "LayoutView",
            "grid_template_rows": null,
            "right": null,
            "justify_content": null,
            "_view_module": "@jupyter-widgets/base",
            "overflow": null,
            "_model_module_version": "1.2.0",
            "_view_count": null,
            "flex_flow": null,
            "width": null,
            "min_width": null,
            "border": null,
            "align_items": null,
            "bottom": null,
            "_model_module": "@jupyter-widgets/base",
            "top": null,
            "grid_column": null,
            "overflow_y": null,
            "overflow_x": null,
            "grid_auto_flow": null,
            "grid_area": null,
            "grid_template_columns": null,
            "flex": null,
            "_model_name": "LayoutModel",
            "justify_items": null,
            "grid_row": null,
            "max_height": null,
            "align_content": null,
            "visibility": null,
            "align_self": null,
            "height": null,
            "min_height": null,
            "padding": null,
            "grid_auto_rows": null,
            "grid_gap": null,
            "max_width": null,
            "order": null,
            "_view_module_version": "1.2.0",
            "grid_template_areas": null,
            "object_position": null,
            "object_fit": null,
            "grid_auto_columns": null,
            "margin": null,
            "display": null,
            "left": null
          }
        },
        "75d2658249444491932bd7611114c6d7": {
          "model_module": "@jupyter-widgets/controls",
          "model_name": "FloatProgressModel",
          "state": {
            "_view_name": "ProgressView",
            "style": "IPY_MODEL_164128e8bb4e40d1967651c80060f500",
            "_dom_classes": [],
            "description": "",
            "_model_name": "FloatProgressModel",
            "bar_style": "success",
            "max": 28881,
            "_view_module": "@jupyter-widgets/controls",
            "_model_module_version": "1.5.0",
            "value": 28881,
            "_view_count": null,
            "_view_module_version": "1.5.0",
            "orientation": "horizontal",
            "min": 0,
            "description_tooltip": null,
            "_model_module": "@jupyter-widgets/controls",
            "layout": "IPY_MODEL_78b7766ec3204190be1755b168e34a3d"
          }
        },
        "61a068862f62459db031d99bd1ee963c": {
          "model_module": "@jupyter-widgets/controls",
          "model_name": "HTMLModel",
          "state": {
            "_view_name": "HTMLView",
            "style": "IPY_MODEL_5ecb8a8bcfa344beaea0bbd2c8273f19",
            "_dom_classes": [],
            "description": "",
            "_model_name": "HTMLModel",
            "placeholder": "​",
            "_view_module": "@jupyter-widgets/controls",
            "_model_module_version": "1.5.0",
            "value": " 29696/? [00:00&lt;00:00, 43530.95it/s]",
            "_view_count": null,
            "_view_module_version": "1.5.0",
            "description_tooltip": null,
            "_model_module": "@jupyter-widgets/controls",
            "layout": "IPY_MODEL_45acd47395d74cf6861525d3e43db059"
          }
        },
        "164128e8bb4e40d1967651c80060f500": {
          "model_module": "@jupyter-widgets/controls",
          "model_name": "ProgressStyleModel",
          "state": {
            "_view_name": "StyleView",
            "_model_name": "ProgressStyleModel",
            "description_width": "initial",
            "_view_module": "@jupyter-widgets/base",
            "_model_module_version": "1.5.0",
            "_view_count": null,
            "_view_module_version": "1.2.0",
            "bar_color": null,
            "_model_module": "@jupyter-widgets/controls"
          }
        },
        "78b7766ec3204190be1755b168e34a3d": {
          "model_module": "@jupyter-widgets/base",
          "model_name": "LayoutModel",
          "state": {
            "_view_name": "LayoutView",
            "grid_template_rows": null,
            "right": null,
            "justify_content": null,
            "_view_module": "@jupyter-widgets/base",
            "overflow": null,
            "_model_module_version": "1.2.0",
            "_view_count": null,
            "flex_flow": null,
            "width": null,
            "min_width": null,
            "border": null,
            "align_items": null,
            "bottom": null,
            "_model_module": "@jupyter-widgets/base",
            "top": null,
            "grid_column": null,
            "overflow_y": null,
            "overflow_x": null,
            "grid_auto_flow": null,
            "grid_area": null,
            "grid_template_columns": null,
            "flex": null,
            "_model_name": "LayoutModel",
            "justify_items": null,
            "grid_row": null,
            "max_height": null,
            "align_content": null,
            "visibility": null,
            "align_self": null,
            "height": null,
            "min_height": null,
            "padding": null,
            "grid_auto_rows": null,
            "grid_gap": null,
            "max_width": null,
            "order": null,
            "_view_module_version": "1.2.0",
            "grid_template_areas": null,
            "object_position": null,
            "object_fit": null,
            "grid_auto_columns": null,
            "margin": null,
            "display": null,
            "left": null
          }
        },
        "5ecb8a8bcfa344beaea0bbd2c8273f19": {
          "model_module": "@jupyter-widgets/controls",
          "model_name": "DescriptionStyleModel",
          "state": {
            "_view_name": "StyleView",
            "_model_name": "DescriptionStyleModel",
            "description_width": "",
            "_view_module": "@jupyter-widgets/base",
            "_model_module_version": "1.5.0",
            "_view_count": null,
            "_view_module_version": "1.2.0",
            "_model_module": "@jupyter-widgets/controls"
          }
        },
        "45acd47395d74cf6861525d3e43db059": {
          "model_module": "@jupyter-widgets/base",
          "model_name": "LayoutModel",
          "state": {
            "_view_name": "LayoutView",
            "grid_template_rows": null,
            "right": null,
            "justify_content": null,
            "_view_module": "@jupyter-widgets/base",
            "overflow": null,
            "_model_module_version": "1.2.0",
            "_view_count": null,
            "flex_flow": null,
            "width": null,
            "min_width": null,
            "border": null,
            "align_items": null,
            "bottom": null,
            "_model_module": "@jupyter-widgets/base",
            "top": null,
            "grid_column": null,
            "overflow_y": null,
            "overflow_x": null,
            "grid_auto_flow": null,
            "grid_area": null,
            "grid_template_columns": null,
            "flex": null,
            "_model_name": "LayoutModel",
            "justify_items": null,
            "grid_row": null,
            "max_height": null,
            "align_content": null,
            "visibility": null,
            "align_self": null,
            "height": null,
            "min_height": null,
            "padding": null,
            "grid_auto_rows": null,
            "grid_gap": null,
            "max_width": null,
            "order": null,
            "_view_module_version": "1.2.0",
            "grid_template_areas": null,
            "object_position": null,
            "object_fit": null,
            "grid_auto_columns": null,
            "margin": null,
            "display": null,
            "left": null
          }
        },
        "fd7d99ea16244ddbb76f45b85598a566": {
          "model_module": "@jupyter-widgets/controls",
          "model_name": "HBoxModel",
          "state": {
            "_view_name": "HBoxView",
            "_dom_classes": [],
            "_model_name": "HBoxModel",
            "_view_module": "@jupyter-widgets/controls",
            "_model_module_version": "1.5.0",
            "_view_count": null,
            "_view_module_version": "1.5.0",
            "box_style": "",
            "layout": "IPY_MODEL_88e2ae73291246b586abdf5a2931a7e0",
            "_model_module": "@jupyter-widgets/controls",
            "children": [
              "IPY_MODEL_96403f1ccdc14cc5aba2a2c63c6a1aff",
              "IPY_MODEL_294ba9a3f9ff40329a44ea4e69edbdde"
            ]
          }
        },
        "88e2ae73291246b586abdf5a2931a7e0": {
          "model_module": "@jupyter-widgets/base",
          "model_name": "LayoutModel",
          "state": {
            "_view_name": "LayoutView",
            "grid_template_rows": null,
            "right": null,
            "justify_content": null,
            "_view_module": "@jupyter-widgets/base",
            "overflow": null,
            "_model_module_version": "1.2.0",
            "_view_count": null,
            "flex_flow": null,
            "width": null,
            "min_width": null,
            "border": null,
            "align_items": null,
            "bottom": null,
            "_model_module": "@jupyter-widgets/base",
            "top": null,
            "grid_column": null,
            "overflow_y": null,
            "overflow_x": null,
            "grid_auto_flow": null,
            "grid_area": null,
            "grid_template_columns": null,
            "flex": null,
            "_model_name": "LayoutModel",
            "justify_items": null,
            "grid_row": null,
            "max_height": null,
            "align_content": null,
            "visibility": null,
            "align_self": null,
            "height": null,
            "min_height": null,
            "padding": null,
            "grid_auto_rows": null,
            "grid_gap": null,
            "max_width": null,
            "order": null,
            "_view_module_version": "1.2.0",
            "grid_template_areas": null,
            "object_position": null,
            "object_fit": null,
            "grid_auto_columns": null,
            "margin": null,
            "display": null,
            "left": null
          }
        },
        "96403f1ccdc14cc5aba2a2c63c6a1aff": {
          "model_module": "@jupyter-widgets/controls",
          "model_name": "FloatProgressModel",
          "state": {
            "_view_name": "ProgressView",
            "style": "IPY_MODEL_1fabb7ce17594f30a783ddce5cb9bfb4",
            "_dom_classes": [],
            "description": "",
            "_model_name": "FloatProgressModel",
            "bar_style": "success",
            "max": 1648877,
            "_view_module": "@jupyter-widgets/controls",
            "_model_module_version": "1.5.0",
            "value": 1648877,
            "_view_count": null,
            "_view_module_version": "1.5.0",
            "orientation": "horizontal",
            "min": 0,
            "description_tooltip": null,
            "_model_module": "@jupyter-widgets/controls",
            "layout": "IPY_MODEL_027a6c4b2f0f43bd8068f4cdfe6905fc"
          }
        },
        "294ba9a3f9ff40329a44ea4e69edbdde": {
          "model_module": "@jupyter-widgets/controls",
          "model_name": "HTMLModel",
          "state": {
            "_view_name": "HTMLView",
            "style": "IPY_MODEL_251a3de00a504919b0b56e3691dfcdbb",
            "_dom_classes": [],
            "description": "",
            "_model_name": "HTMLModel",
            "placeholder": "​",
            "_view_module": "@jupyter-widgets/controls",
            "_model_module_version": "1.5.0",
            "value": " 1649664/? [00:27&lt;00:00, 60435.10it/s]",
            "_view_count": null,
            "_view_module_version": "1.5.0",
            "description_tooltip": null,
            "_model_module": "@jupyter-widgets/controls",
            "layout": "IPY_MODEL_21d9f9848e594aae80e5d1e354cc7ec4"
          }
        },
        "1fabb7ce17594f30a783ddce5cb9bfb4": {
          "model_module": "@jupyter-widgets/controls",
          "model_name": "ProgressStyleModel",
          "state": {
            "_view_name": "StyleView",
            "_model_name": "ProgressStyleModel",
            "description_width": "initial",
            "_view_module": "@jupyter-widgets/base",
            "_model_module_version": "1.5.0",
            "_view_count": null,
            "_view_module_version": "1.2.0",
            "bar_color": null,
            "_model_module": "@jupyter-widgets/controls"
          }
        },
        "027a6c4b2f0f43bd8068f4cdfe6905fc": {
          "model_module": "@jupyter-widgets/base",
          "model_name": "LayoutModel",
          "state": {
            "_view_name": "LayoutView",
            "grid_template_rows": null,
            "right": null,
            "justify_content": null,
            "_view_module": "@jupyter-widgets/base",
            "overflow": null,
            "_model_module_version": "1.2.0",
            "_view_count": null,
            "flex_flow": null,
            "width": null,
            "min_width": null,
            "border": null,
            "align_items": null,
            "bottom": null,
            "_model_module": "@jupyter-widgets/base",
            "top": null,
            "grid_column": null,
            "overflow_y": null,
            "overflow_x": null,
            "grid_auto_flow": null,
            "grid_area": null,
            "grid_template_columns": null,
            "flex": null,
            "_model_name": "LayoutModel",
            "justify_items": null,
            "grid_row": null,
            "max_height": null,
            "align_content": null,
            "visibility": null,
            "align_self": null,
            "height": null,
            "min_height": null,
            "padding": null,
            "grid_auto_rows": null,
            "grid_gap": null,
            "max_width": null,
            "order": null,
            "_view_module_version": "1.2.0",
            "grid_template_areas": null,
            "object_position": null,
            "object_fit": null,
            "grid_auto_columns": null,
            "margin": null,
            "display": null,
            "left": null
          }
        },
        "251a3de00a504919b0b56e3691dfcdbb": {
          "model_module": "@jupyter-widgets/controls",
          "model_name": "DescriptionStyleModel",
          "state": {
            "_view_name": "StyleView",
            "_model_name": "DescriptionStyleModel",
            "description_width": "",
            "_view_module": "@jupyter-widgets/base",
            "_model_module_version": "1.5.0",
            "_view_count": null,
            "_view_module_version": "1.2.0",
            "_model_module": "@jupyter-widgets/controls"
          }
        },
        "21d9f9848e594aae80e5d1e354cc7ec4": {
          "model_module": "@jupyter-widgets/base",
          "model_name": "LayoutModel",
          "state": {
            "_view_name": "LayoutView",
            "grid_template_rows": null,
            "right": null,
            "justify_content": null,
            "_view_module": "@jupyter-widgets/base",
            "overflow": null,
            "_model_module_version": "1.2.0",
            "_view_count": null,
            "flex_flow": null,
            "width": null,
            "min_width": null,
            "border": null,
            "align_items": null,
            "bottom": null,
            "_model_module": "@jupyter-widgets/base",
            "top": null,
            "grid_column": null,
            "overflow_y": null,
            "overflow_x": null,
            "grid_auto_flow": null,
            "grid_area": null,
            "grid_template_columns": null,
            "flex": null,
            "_model_name": "LayoutModel",
            "justify_items": null,
            "grid_row": null,
            "max_height": null,
            "align_content": null,
            "visibility": null,
            "align_self": null,
            "height": null,
            "min_height": null,
            "padding": null,
            "grid_auto_rows": null,
            "grid_gap": null,
            "max_width": null,
            "order": null,
            "_view_module_version": "1.2.0",
            "grid_template_areas": null,
            "object_position": null,
            "object_fit": null,
            "grid_auto_columns": null,
            "margin": null,
            "display": null,
            "left": null
          }
        },
        "46ee9e0979114572a99239551eb40db0": {
          "model_module": "@jupyter-widgets/controls",
          "model_name": "HBoxModel",
          "state": {
            "_view_name": "HBoxView",
            "_dom_classes": [],
            "_model_name": "HBoxModel",
            "_view_module": "@jupyter-widgets/controls",
            "_model_module_version": "1.5.0",
            "_view_count": null,
            "_view_module_version": "1.5.0",
            "box_style": "",
            "layout": "IPY_MODEL_8fe5e060f7ad464982c6b20fcb1caa70",
            "_model_module": "@jupyter-widgets/controls",
            "children": [
              "IPY_MODEL_9c3008c62c9d4314b214bee46f30bb68",
              "IPY_MODEL_c62def872e6a44e98572631efba76faa"
            ]
          }
        },
        "8fe5e060f7ad464982c6b20fcb1caa70": {
          "model_module": "@jupyter-widgets/base",
          "model_name": "LayoutModel",
          "state": {
            "_view_name": "LayoutView",
            "grid_template_rows": null,
            "right": null,
            "justify_content": null,
            "_view_module": "@jupyter-widgets/base",
            "overflow": null,
            "_model_module_version": "1.2.0",
            "_view_count": null,
            "flex_flow": null,
            "width": null,
            "min_width": null,
            "border": null,
            "align_items": null,
            "bottom": null,
            "_model_module": "@jupyter-widgets/base",
            "top": null,
            "grid_column": null,
            "overflow_y": null,
            "overflow_x": null,
            "grid_auto_flow": null,
            "grid_area": null,
            "grid_template_columns": null,
            "flex": null,
            "_model_name": "LayoutModel",
            "justify_items": null,
            "grid_row": null,
            "max_height": null,
            "align_content": null,
            "visibility": null,
            "align_self": null,
            "height": null,
            "min_height": null,
            "padding": null,
            "grid_auto_rows": null,
            "grid_gap": null,
            "max_width": null,
            "order": null,
            "_view_module_version": "1.2.0",
            "grid_template_areas": null,
            "object_position": null,
            "object_fit": null,
            "grid_auto_columns": null,
            "margin": null,
            "display": null,
            "left": null
          }
        },
        "9c3008c62c9d4314b214bee46f30bb68": {
          "model_module": "@jupyter-widgets/controls",
          "model_name": "FloatProgressModel",
          "state": {
            "_view_name": "ProgressView",
            "style": "IPY_MODEL_c16303ea51614423807db97e2122229f",
            "_dom_classes": [],
            "description": "",
            "_model_name": "FloatProgressModel",
            "bar_style": "success",
            "max": 4542,
            "_view_module": "@jupyter-widgets/controls",
            "_model_module_version": "1.5.0",
            "value": 4542,
            "_view_count": null,
            "_view_module_version": "1.5.0",
            "orientation": "horizontal",
            "min": 0,
            "description_tooltip": null,
            "_model_module": "@jupyter-widgets/controls",
            "layout": "IPY_MODEL_ecb88c5ffce34f4e8891d99a1393ec68"
          }
        },
        "c62def872e6a44e98572631efba76faa": {
          "model_module": "@jupyter-widgets/controls",
          "model_name": "HTMLModel",
          "state": {
            "_view_name": "HTMLView",
            "style": "IPY_MODEL_0b85398adc6e4361b71419d018dbe9a6",
            "_dom_classes": [],
            "description": "",
            "_model_name": "HTMLModel",
            "placeholder": "​",
            "_view_module": "@jupyter-widgets/controls",
            "_model_module_version": "1.5.0",
            "value": " 5120/? [00:23&lt;00:00, 217.71it/s]",
            "_view_count": null,
            "_view_module_version": "1.5.0",
            "description_tooltip": null,
            "_model_module": "@jupyter-widgets/controls",
            "layout": "IPY_MODEL_9199c1682a934cc7903ef4ce8d302cd4"
          }
        },
        "c16303ea51614423807db97e2122229f": {
          "model_module": "@jupyter-widgets/controls",
          "model_name": "ProgressStyleModel",
          "state": {
            "_view_name": "StyleView",
            "_model_name": "ProgressStyleModel",
            "description_width": "initial",
            "_view_module": "@jupyter-widgets/base",
            "_model_module_version": "1.5.0",
            "_view_count": null,
            "_view_module_version": "1.2.0",
            "bar_color": null,
            "_model_module": "@jupyter-widgets/controls"
          }
        },
        "ecb88c5ffce34f4e8891d99a1393ec68": {
          "model_module": "@jupyter-widgets/base",
          "model_name": "LayoutModel",
          "state": {
            "_view_name": "LayoutView",
            "grid_template_rows": null,
            "right": null,
            "justify_content": null,
            "_view_module": "@jupyter-widgets/base",
            "overflow": null,
            "_model_module_version": "1.2.0",
            "_view_count": null,
            "flex_flow": null,
            "width": null,
            "min_width": null,
            "border": null,
            "align_items": null,
            "bottom": null,
            "_model_module": "@jupyter-widgets/base",
            "top": null,
            "grid_column": null,
            "overflow_y": null,
            "overflow_x": null,
            "grid_auto_flow": null,
            "grid_area": null,
            "grid_template_columns": null,
            "flex": null,
            "_model_name": "LayoutModel",
            "justify_items": null,
            "grid_row": null,
            "max_height": null,
            "align_content": null,
            "visibility": null,
            "align_self": null,
            "height": null,
            "min_height": null,
            "padding": null,
            "grid_auto_rows": null,
            "grid_gap": null,
            "max_width": null,
            "order": null,
            "_view_module_version": "1.2.0",
            "grid_template_areas": null,
            "object_position": null,
            "object_fit": null,
            "grid_auto_columns": null,
            "margin": null,
            "display": null,
            "left": null
          }
        },
        "0b85398adc6e4361b71419d018dbe9a6": {
          "model_module": "@jupyter-widgets/controls",
          "model_name": "DescriptionStyleModel",
          "state": {
            "_view_name": "StyleView",
            "_model_name": "DescriptionStyleModel",
            "description_width": "",
            "_view_module": "@jupyter-widgets/base",
            "_model_module_version": "1.5.0",
            "_view_count": null,
            "_view_module_version": "1.2.0",
            "_model_module": "@jupyter-widgets/controls"
          }
        },
        "9199c1682a934cc7903ef4ce8d302cd4": {
          "model_module": "@jupyter-widgets/base",
          "model_name": "LayoutModel",
          "state": {
            "_view_name": "LayoutView",
            "grid_template_rows": null,
            "right": null,
            "justify_content": null,
            "_view_module": "@jupyter-widgets/base",
            "overflow": null,
            "_model_module_version": "1.2.0",
            "_view_count": null,
            "flex_flow": null,
            "width": null,
            "min_width": null,
            "border": null,
            "align_items": null,
            "bottom": null,
            "_model_module": "@jupyter-widgets/base",
            "top": null,
            "grid_column": null,
            "overflow_y": null,
            "overflow_x": null,
            "grid_auto_flow": null,
            "grid_area": null,
            "grid_template_columns": null,
            "flex": null,
            "_model_name": "LayoutModel",
            "justify_items": null,
            "grid_row": null,
            "max_height": null,
            "align_content": null,
            "visibility": null,
            "align_self": null,
            "height": null,
            "min_height": null,
            "padding": null,
            "grid_auto_rows": null,
            "grid_gap": null,
            "max_width": null,
            "order": null,
            "_view_module_version": "1.2.0",
            "grid_template_areas": null,
            "object_position": null,
            "object_fit": null,
            "grid_auto_columns": null,
            "margin": null,
            "display": null,
            "left": null
          }
        }
      }
    }
  },
  "cells": [
    {
      "cell_type": "markdown",
      "metadata": {
        "id": "nE35tCDn_Cl-"
      },
      "source": [
        "# LSTMs(Long Short Term Memory) and GRUs(Gated Recurrent Unit)"
      ]
    },
    {
      "cell_type": "markdown",
      "metadata": {
        "id": "rZuG-c3AGwxv"
      },
      "source": [
        "# 1.LSTMs (Long Short Term Memory) Theory:\n",
        "- Long Short-Term Memory (LSTM) networks are a type of recurrent neural network capable of learning order dependence in sequence prediction problems.\n",
        "- This is a behavior required in complex problem domains like machine translation, speech recognition, and more. LSTMs are a complex area of deep learning.\n",
        "- <img src=\"https://sds-platform-private.s3-us-east-2.amazonaws.com/uploads/33_blog_image_1.png\" width=\"600\" height=\"350\">\n",
        "\n",
        "## Why LSTM over Simple RNN ?\n",
        " ### Problems with RNN:\n",
        " - As we know a parameter called **HIDDEN STATE** is maintained through our the layers and hidden cells inorder to keep the **Sequential Information** preserved.\n",
        " - As we proceed further the **info of the first hidden cell** i.e., **previous hidden state** gets **depreciated** as shown below.\n",
        " - <img src=\"https://miro.medium.com/max/1000/1*d_POV7c8fzHbKuTgJzCxtA.gif\" width=\"400\" height=\"250\">\n",
        " - As we proceed further in the *5th cell the info of the 1st cell became so small such that as we proceed more further it becomes **Zero**.*\n",
        " - After this **Forward Propagation** step, when we **Back propogate** to update the weights, the weights become so small that the weights donot update much.\n",
        " - This is the problem of **Vanishing Gradient**, where the weights never really change and the Loss would never shrink.\n",
        " - **It tries to keep info of all the words, which makes it learn the useless patterns as well.**\n",
        "\n",
        "## How LSTM solves these problems ?\n",
        "### Maths behind LSTMs:\n",
        "- There is some more Terminology being added to the previous RNN architecture.\n",
        "- Let us see the rnn architecture to rewind all the things that we came across.\n",
        "- <img src=\"https://miro.medium.com/max/1400/1*WMnFSJHzOloFlJHU6fVN-g.gif\" width=\"600\" height=\"250\">\n",
        "- Here there is **Hidden state**, a parameter that carries on the info regarding previous cell.\n",
        "- But this info would always sound more for the most recent cell rather than all the previous cells.\n",
        "- That is the main reason for **Vanishing Gradient** problem, to over come this we have an extra parameter being added to the RNN called **Cell State** which is carried along with the **Hidden State**.\n",
        "- Their mixup keep the irrelevant info away and we have different architecture for the **LSTM**. Let us understand more about it from below diagram.\n",
        "- <img src=\"https://miro.medium.com/max/388/1*hG4zBCCRq18oi8aarj-owA.png\" width=\"600\" height=\"450\">\n",
        "- This diagram is to indicate different portion of the cells.\n",
        "- We will be using illustrated GIFs to understand the flow much better.\n",
        "- **In Forget Cell:**\n",
        "  - <img src=\"https://miro.medium.com/max/1900/1*GjehOa513_BgpDDP6Vkw2Q.gif\" width=\"600\" height=\"350\">\n",
        "  - The **hidden state($h_{t-1}$)** is being passed into the cell along with the **input($x_{t}$)**.\n",
        "  - Now addition happens between the inputs **($h_{t-1}$+$x_{t}$)** and this result is being passed into the **Sigmoid Activation** that is **σ($h_{t-1}$+$x_{t}$)** and is sent into the **Cell state region**.\n",
        "  - Output of this cell is **$f_{t}$=σ($h_{t-1}$+$x_{t}$)**\n",
        "\n",
        "- **In Input Gate:**\n",
        "  - <img src=\"https://miro.medium.com/max/1900/0*KhHCSln2LmiFGH8r.gif\" width=\"600\" height=\"350\">\n",
        "  - Here **$h_{t-1}$+$x_{t}$** is used as input in both the activation functions **Sigmoid** and **tanh** respectively.\n",
        "  - When sent into the **sigmoid** the output becomes **$i_{t}$=σ($h_{t-1}$+$x_{t}$)**, also the **$h_{t-1}$+$x_{t}$** is sent into the **TanH** Activation that returns **tanh($h_{t-1}$+$x_{t}$)**.\n",
        "  - Now the cross product happens between **$i_{t}$=σ($h_{t-1}$+$x_{t}$)** and **tanh($h_{t-1}$+$x_{t}$)**.\n",
        "  - This **Cross Product** is sent into the **Cell State.** i.e., **$i_{0}$**\n",
        "\n",
        "- **In Cell State:**\n",
        "  - <img src=\"https://miro.medium.com/max/1900/1*cmv5EOAd6iWMzWvHrZbl-w.gif\" width=\"600\" height=\"350\">\n",
        "  - Firstly the output from **Forget cell** undergoes **Dot Product** with **Previous cell state ($c_{t-1}$).**\n",
        "  - Now the dot product of two vectors create a new vector and this is being added with the output from input Gate **($i_{0}$)**.\n",
        "  - Now this is the **New Cell State** i.e., **($c_{t}$)**.\n",
        "\n",
        "- **Finally Output Gate along all:**\n",
        "  - <img src=\"https://miro.medium.com/max/1032/1*AUwc53cmW04hjPrKtVyePQ.gif\" width=\"600\" height=\"350\">\n",
        "  - Output from **Input Gate** i.e., **($h_{t-1}$+$x_{t}$)** is now being send as an input to the **Output Gate**, the **Sigmoid Activation** converts it and gives an output **σ($h_{t-1}$+$x_{t}$)**.\n",
        "  - **New cell state** is fed into this gate again and **TanH** activation is applied on this new cell state i.e., **tanh($c_{t}$)**.\n",
        "  - Now again **Cross product** happens between both the results i.e., **σ($h_{t-1}$+$x_{t}$)** ✖  **tanh($c_{t}$)**.\n",
        "  - Now this is used as **New Hidden State**.\n",
        "\n",
        "- This is the functionality of the whole **LSTM** Networks.\n",
        "\n",
        "## How did LSTM solved the problems in RNN ?**\n",
        "- As we maintain Cell state all along the network we can always trigger or depreciated the current hidden state depending on its output from Sigmoid.\n",
        "- This will keep irrelevant info of hidden state being kept away from the cell state (Which is regarded as main Sequential Info).\n",
        "- This will solve the problem of **Vanishing Gradient** problem as well.\n"
      ]
    },
    {
      "cell_type": "markdown",
      "metadata": {
        "id": "k1ya-4pEFCG7"
      },
      "source": [
        "# 2.GRUs (Gated Recurrent Unit) Theory:\n",
        "- These are again an alternate to the problems faced by RNNs.\n",
        "- Researchers use LSTMs and GRUs at the same time and decide what to choose based on the performance. Generally LSTMs are default choice.\n",
        "## Understanding GRUs and its Maths\n",
        "- <img src=\"https://miro.medium.com/max/2084/1*jhi5uOm9PvZfmxvfaCektw.png\" width=\"600\" height=\"450\">\n",
        "- GRU supports gating and a hidden state to control the flow of information. \n",
        "- To solve the problem that comes up in RNN, GRU uses two gates: the update gate and the reset gate.\n",
        "- <img src=\"https://miro.medium.com/max/3838/1*v7Ax40Y01a5IdFsb69crGg.jpeg\" width=\"600\" height=\"350\">\n",
        "- **Update Gate:**\n",
        "  - If we compare it with the LSTMs then **Update Gate is the combination of both the Forget and Input Gate.**\n",
        "  - The update gate **$z_{t}$** is responsible for determining the amount of previous information (prior time steps) that needs to be passed along the next state.\n",
        "  - The above math operation happens in it and the output is served in to the Gates action phase.\n",
        "\n",
        "- **Reset Gate:**\n",
        "  - The reset gate **$r_{t}$** is used from the model to decide how much of the past information is needed to neglect. \n",
        "  - It follows up the same formula.\n",
        "\n",
        "- Let us move forward with the Implementations."
      ]
    },
    {
      "cell_type": "markdown",
      "metadata": {
        "id": "9JBY08wO9SkC"
      },
      "source": [
        "**NOTE:** For Further info please go through this awesome blog:\n",
        "[RNN by Stanford](https://stanford.edu/~shervine/teaching/cs-230/cheatsheet-recurrent-neural-networks), and for video watch this simple illustration [RNN Illustration Video](https://www.youtube.com/watch?v=LHXXI4-IEns&t=496s&ab_channel=TheA.I.Hacker-MichaelPhiTheA.I.Hacker-MichaelPhi)"
      ]
    },
    {
      "cell_type": "markdown",
      "metadata": {
        "id": "Kc1q3L_YTZxi"
      },
      "source": [
        "# Importing Packages"
      ]
    },
    {
      "cell_type": "code",
      "metadata": {
        "id": "FNDDckH5GuKH"
      },
      "source": [
        "import torch\n",
        "import torchvision\n",
        "import torch.nn as nn\n",
        "import torch.optim as optim\n",
        "import torch.nn.functional as F\n",
        "from torch.utils.data import DataLoader\n",
        "import torchvision.datasets as datasets\n",
        "import torchvision.transforms as transforms"
      ],
      "execution_count": 2,
      "outputs": []
    },
    {
      "cell_type": "markdown",
      "metadata": {
        "id": "0Reay1nUUDWg"
      },
      "source": [
        "# Let us Build a LSTM and GRU networks."
      ]
    },
    {
      "cell_type": "markdown",
      "metadata": {
        "id": "Hpj-VmVeUZVe"
      },
      "source": [
        "## Setting up **DATASET** and **HYPERPARAMETERS**."
      ]
    },
    {
      "cell_type": "code",
      "metadata": {
        "id": "sM5JpZrQUZHI",
        "colab": {
          "base_uri": "https://localhost:8080/",
          "height": 820,
          "referenced_widgets": [
            "c0b463a9240e4204a12bbdb6a94288d7",
            "f3966c1247a5468d8d676a0eb3f2540d",
            "0d916e0636884c13beb7fb151eaf62c4",
            "34475bfdc86743b1ac6b3d21e7894e36",
            "eadf433796264a33b93db5ab65e9ffc8",
            "93bc20a42fee443e8fb639c0a6185279",
            "6d600788c1ff4cba93d507f72de31660",
            "b9b6ba259f6d4e0b83b1a21a34cfd054",
            "c9f3f917f9fd413b855f265e52ec4507",
            "6270c5a0a5284c948e221c5c0a3cc62a",
            "75d2658249444491932bd7611114c6d7",
            "61a068862f62459db031d99bd1ee963c",
            "164128e8bb4e40d1967651c80060f500",
            "78b7766ec3204190be1755b168e34a3d",
            "5ecb8a8bcfa344beaea0bbd2c8273f19",
            "45acd47395d74cf6861525d3e43db059",
            "fd7d99ea16244ddbb76f45b85598a566",
            "88e2ae73291246b586abdf5a2931a7e0",
            "96403f1ccdc14cc5aba2a2c63c6a1aff",
            "294ba9a3f9ff40329a44ea4e69edbdde",
            "1fabb7ce17594f30a783ddce5cb9bfb4",
            "027a6c4b2f0f43bd8068f4cdfe6905fc",
            "251a3de00a504919b0b56e3691dfcdbb",
            "21d9f9848e594aae80e5d1e354cc7ec4",
            "46ee9e0979114572a99239551eb40db0",
            "8fe5e060f7ad464982c6b20fcb1caa70",
            "9c3008c62c9d4314b214bee46f30bb68",
            "c62def872e6a44e98572631efba76faa",
            "c16303ea51614423807db97e2122229f",
            "ecb88c5ffce34f4e8891d99a1393ec68",
            "0b85398adc6e4361b71419d018dbe9a6",
            "9199c1682a934cc7903ef4ce8d302cd4"
          ]
        },
        "outputId": "448618f5-5c54-4152-8cdc-98c5e240d3f1"
      },
      "source": [
        "input_size = 28 # Image of 28x28 pixels which upon flattening becomes 784.\n",
        "sequence_length = 28\n",
        "num_of_layers = 2 # Number of RNN layers we want.\n",
        "hidden_size = 256 # Number of neuron per hidden state.\n",
        "num_classes = 10 # Number of classes in the Dataset are 10.\n",
        "learning_rate = 0.001 # Speed at which we want our optimizer to optimize our solution.\n",
        "batch_size = 64 # Size of the batch that will undergo training at one step.\n",
        "epochs = 2 # Steps of training or times a forward and backward propagation is done.\n",
        "\n",
        "# Firstly Loading a Data and downloading it to the folder.\n",
        "train_dataset = datasets.MNIST(root=\"content/\",train=True,\n",
        "                               transform=transforms.ToTensor(),download=True)\n",
        "# Now setting up its properties like batchsize\n",
        "trainloader = DataLoader(dataset=train_dataset,\n",
        "                         batch_size = batch_size,\n",
        "                         shuffle=True\n",
        "                         )\n",
        "\n",
        "# Doing the same for testset as well\n",
        "test_dataset = datasets.MNIST(root=\"content/\",train=False,\n",
        "                               transform=transforms.ToTensor(),download=True)\n",
        "\n",
        "testloader = DataLoader(dataset=test_dataset,\n",
        "                         batch_size = batch_size,\n",
        "                         shuffle=True\n",
        "                         )"
      ],
      "execution_count": 3,
      "outputs": [
        {
          "output_type": "stream",
          "text": [
            "Downloading http://yann.lecun.com/exdb/mnist/train-images-idx3-ubyte.gz\n",
            "Downloading http://yann.lecun.com/exdb/mnist/train-images-idx3-ubyte.gz to content/MNIST/raw/train-images-idx3-ubyte.gz\n",
            "Failed to download (trying next):\n",
            "HTTP Error 503: Service Unavailable\n",
            "\n",
            "Downloading https://ossci-datasets.s3.amazonaws.com/mnist/train-images-idx3-ubyte.gz\n",
            "Downloading https://ossci-datasets.s3.amazonaws.com/mnist/train-images-idx3-ubyte.gz to content/MNIST/raw/train-images-idx3-ubyte.gz\n"
          ],
          "name": "stdout"
        },
        {
          "output_type": "display_data",
          "data": {
            "application/vnd.jupyter.widget-view+json": {
              "model_id": "c0b463a9240e4204a12bbdb6a94288d7",
              "version_minor": 0,
              "version_major": 2
            },
            "text/plain": [
              "HBox(children=(FloatProgress(value=0.0, max=9912422.0), HTML(value='')))"
            ]
          },
          "metadata": {
            "tags": []
          }
        },
        {
          "output_type": "stream",
          "text": [
            "\n",
            "Extracting content/MNIST/raw/train-images-idx3-ubyte.gz to content/MNIST/raw\n",
            "\n",
            "Downloading http://yann.lecun.com/exdb/mnist/train-labels-idx1-ubyte.gz\n",
            "Downloading http://yann.lecun.com/exdb/mnist/train-labels-idx1-ubyte.gz to content/MNIST/raw/train-labels-idx1-ubyte.gz\n"
          ],
          "name": "stdout"
        },
        {
          "output_type": "display_data",
          "data": {
            "application/vnd.jupyter.widget-view+json": {
              "model_id": "c9f3f917f9fd413b855f265e52ec4507",
              "version_minor": 0,
              "version_major": 2
            },
            "text/plain": [
              "HBox(children=(FloatProgress(value=0.0, max=28881.0), HTML(value='')))"
            ]
          },
          "metadata": {
            "tags": []
          }
        },
        {
          "output_type": "stream",
          "text": [
            "\n",
            "Extracting content/MNIST/raw/train-labels-idx1-ubyte.gz to content/MNIST/raw\n",
            "\n",
            "Downloading http://yann.lecun.com/exdb/mnist/t10k-images-idx3-ubyte.gz\n",
            "Downloading http://yann.lecun.com/exdb/mnist/t10k-images-idx3-ubyte.gz to content/MNIST/raw/t10k-images-idx3-ubyte.gz\n",
            "Failed to download (trying next):\n",
            "HTTP Error 503: Service Unavailable\n",
            "\n",
            "Downloading https://ossci-datasets.s3.amazonaws.com/mnist/t10k-images-idx3-ubyte.gz\n",
            "Downloading https://ossci-datasets.s3.amazonaws.com/mnist/t10k-images-idx3-ubyte.gz to content/MNIST/raw/t10k-images-idx3-ubyte.gz\n"
          ],
          "name": "stdout"
        },
        {
          "output_type": "display_data",
          "data": {
            "application/vnd.jupyter.widget-view+json": {
              "model_id": "fd7d99ea16244ddbb76f45b85598a566",
              "version_minor": 0,
              "version_major": 2
            },
            "text/plain": [
              "HBox(children=(FloatProgress(value=0.0, max=1648877.0), HTML(value='')))"
            ]
          },
          "metadata": {
            "tags": []
          }
        },
        {
          "output_type": "stream",
          "text": [
            "\n",
            "Extracting content/MNIST/raw/t10k-images-idx3-ubyte.gz to content/MNIST/raw\n",
            "\n",
            "Downloading http://yann.lecun.com/exdb/mnist/t10k-labels-idx1-ubyte.gz\n",
            "Downloading http://yann.lecun.com/exdb/mnist/t10k-labels-idx1-ubyte.gz to content/MNIST/raw/t10k-labels-idx1-ubyte.gz\n",
            "Failed to download (trying next):\n",
            "HTTP Error 503: Service Unavailable\n",
            "\n",
            "Downloading https://ossci-datasets.s3.amazonaws.com/mnist/t10k-labels-idx1-ubyte.gz\n",
            "Downloading https://ossci-datasets.s3.amazonaws.com/mnist/t10k-labels-idx1-ubyte.gz to content/MNIST/raw/t10k-labels-idx1-ubyte.gz\n"
          ],
          "name": "stdout"
        },
        {
          "output_type": "display_data",
          "data": {
            "application/vnd.jupyter.widget-view+json": {
              "model_id": "46ee9e0979114572a99239551eb40db0",
              "version_minor": 0,
              "version_major": 2
            },
            "text/plain": [
              "HBox(children=(FloatProgress(value=0.0, max=4542.0), HTML(value='')))"
            ]
          },
          "metadata": {
            "tags": []
          }
        },
        {
          "output_type": "stream",
          "text": [
            "\n",
            "Extracting content/MNIST/raw/t10k-labels-idx1-ubyte.gz to content/MNIST/raw\n",
            "\n",
            "Processing...\n",
            "Done!\n"
          ],
          "name": "stdout"
        },
        {
          "output_type": "stream",
          "text": [
            "/usr/local/lib/python3.7/dist-packages/torchvision/datasets/mnist.py:502: UserWarning: The given NumPy array is not writeable, and PyTorch does not support non-writeable tensors. This means you can write to the underlying (supposedly non-writeable) NumPy array using the tensor. You may want to copy the array to protect its data or make it writeable before converting it to a tensor. This type of warning will be suppressed for the rest of this program. (Triggered internally at  /pytorch/torch/csrc/utils/tensor_numpy.cpp:143.)\n",
            "  return torch.from_numpy(parsed.astype(m[2], copy=False)).view(*s)\n"
          ],
          "name": "stderr"
        }
      ]
    },
    {
      "cell_type": "markdown",
      "metadata": {
        "id": "RpNGRYcBqMfT"
      },
      "source": [
        "## Creating LSTM and GRU Networks"
      ]
    },
    {
      "cell_type": "code",
      "metadata": {
        "id": "bKVX9o2aUZEI"
      },
      "source": [
        "# LSTM network.\n",
        "\n",
        "class LSTM(nn.Module):\n",
        "  def __init__(self, input_size, hidden_size, num_of_layers, num_of_classes):\n",
        "    super(LSTM, self).__init__()\n",
        "    self.hidden_size = hidden_size\n",
        "    self.num_of_layers = num_of_layers\n",
        "    self.num_of_classes = num_of_classes\n",
        "    self.lstm = nn.LSTM(input_size, hidden_size, num_of_layers, batch_first=True)\n",
        "    self.fc = nn.Linear(hidden_size*sequence_length, num_of_classes)\n",
        "  \n",
        "  def forward(self, x):\n",
        "    # Initializing hidden state.\n",
        "    h0 = torch.zeros(self.num_of_layers, x.size(0), self.hidden_size) # Initial Hidden State for each element in the batch.\n",
        "    c0 = torch.zeros(self.num_of_layers, x.size(0), self.hidden_size) # Initial Cell State for each element in the batch.\n",
        "\n",
        "    # Forward step.\n",
        "    lstm_out_vector,_ = self.lstm(x, (h0, c0)) # It takes in input vector followed by a tuple of hidden state and cell state, returns and output vector along with hidden state.\n",
        "    lstm_out_vector = lstm_out_vector.reshape(lstm_out_vector.shape[0],-1)\n",
        "    output_from_linear_layer = self.fc(lstm_out_vector) # Sending in output of RNN into the Linear Layer(ANN)\n",
        "    return output_from_linear_layer\n",
        "\n",
        "\n",
        "# GRU network\n",
        "class GRU(nn.Module):\n",
        "  def __init__(self, input_size, hidden_size, num_of_layers, num_of_classes):\n",
        "    super(GRU, self).__init__()\n",
        "    self.hidden_size = hidden_size\n",
        "    self.num_of_layers = num_of_layers\n",
        "    self.num_of_classes = num_of_classes\n",
        "    self.gru = nn.GRU(input_size, hidden_size, num_of_layers, batch_first=True)\n",
        "    self.fc = nn.Linear(hidden_size*sequence_length, num_of_classes)\n",
        "  \n",
        "  def forward(self, x):\n",
        "    # Initializing hidden state.\n",
        "    h0 = torch.zeros(self.num_of_layers, x.size(0), self.hidden_size) # Initial Hidden State for each element in the batch.\n",
        "\n",
        "    # Forward step.\n",
        "    gru_out_vector,_ = self.gru(x, h0) # It takes in input vector and a hidden state , returns and output vector along with hidden state.\n",
        "    gru_out_vector = gru_out_vector.reshape(gru_out_vector.shape[0],-1)\n",
        "    output_from_linear_layer = self.fc(gru_out_vector) # Sending in output of RNN into the Linear Layer(ANN)\n",
        "    return output_from_linear_layer\n"
      ],
      "execution_count": 5,
      "outputs": []
    },
    {
      "cell_type": "markdown",
      "metadata": {
        "id": "5E6wlTB3wfLk"
      },
      "source": [
        "# Initializing Model, Loss, Optimizer"
      ]
    },
    {
      "cell_type": "code",
      "metadata": {
        "id": "yRxQ3U1yUY-S"
      },
      "source": [
        "# Initializing the LSTM Model\n",
        "lstm_model = LSTM(input_size, hidden_size, num_of_layers, num_classes)\n",
        "\n",
        "# Initializing the GRU Model\n",
        "gru_model = GRU(input_size, hidden_size, num_of_layers, num_classes)"
      ],
      "execution_count": 6,
      "outputs": []
    },
    {
      "cell_type": "code",
      "metadata": {
        "id": "V6d05lMUGuGo"
      },
      "source": [
        "\n",
        "# Using CrossEntropyLoss as we have multiple classes.\n",
        "loss_function = nn.CrossEntropyLoss()\n",
        "\n",
        "# Optimizer as ADAM for both the Architectiures.\n",
        "lstm_optimizer = optim.Adam(params=lstm_model.parameters(),lr=learning_rate)\n",
        "gru_optimizer = optim.Adam(params=gru_model.parameters(),lr=learning_rate)"
      ],
      "execution_count": 8,
      "outputs": []
    },
    {
      "cell_type": "markdown",
      "metadata": {
        "id": "v1YjOzL8Jwur"
      },
      "source": [
        "## Let us train LSTM first."
      ]
    },
    {
      "cell_type": "code",
      "metadata": {
        "colab": {
          "base_uri": "https://localhost:8080/"
        },
        "id": "eIPtvxIMGnv5",
        "outputId": "2f077c6e-d4a1-48e9-dc09-64395e46fdd7"
      },
      "source": [
        "for epoch in range(epochs):\n",
        "  for batch_index, (data, targets) in enumerate(trainloader):# output of format = batch_index, (element_data, its_target)\n",
        "    data=data.squeeze(1)\n",
        "    # Forward Step\n",
        "     # Making Predictions on train_data\n",
        "    training_predictions = lstm_model(data)\n",
        "     # Calculating loss\n",
        "    Training_loss = loss_function(training_predictions, targets)\n",
        "    # Backward Step\n",
        "    lstm_optimizer.zero_grad()\n",
        "    Training_loss.backward()\n",
        "\n",
        "    # Optimizer Step\n",
        "    lstm_optimizer.step()\n",
        "  print(f'At {epoch} epochs Training_loss={Training_loss}')\n",
        "\n"
      ],
      "execution_count": 11,
      "outputs": [
        {
          "output_type": "stream",
          "text": [
            "At 0 epochs Training_loss=0.03627399355173111\n",
            "At 1 epochs Training_loss=0.001295591937378049\n"
          ],
          "name": "stdout"
        }
      ]
    },
    {
      "cell_type": "markdown",
      "metadata": {
        "id": "ZDzUN-DsJ-oG"
      },
      "source": [
        "## Now let us train GRU model now."
      ]
    },
    {
      "cell_type": "code",
      "metadata": {
        "colab": {
          "base_uri": "https://localhost:8080/"
        },
        "id": "ZUk7HF8oJwEB",
        "outputId": "11f7bcbd-4173-4f19-9f6b-33077daa85c7"
      },
      "source": [
        "for epoch in range(epochs):\n",
        "  for batch_index, (data, targets) in enumerate(trainloader):# output of format = batch_index, (element_data, its_target)\n",
        "    data=data.squeeze(1)\n",
        "    # Forward Step\n",
        "     # Making Predictions on train_data\n",
        "    training_predictions = gru_model(data)\n",
        "     # Calculating loss\n",
        "    Training_loss = loss_function(training_predictions, targets)\n",
        "    # Backward Step\n",
        "    gru_optimizer.zero_grad()\n",
        "    Training_loss.backward()\n",
        "\n",
        "    # Optimizer Step\n",
        "    gru_optimizer.step()\n",
        "  print(f'At {epoch} epochs Training_loss={Training_loss}')\n",
        "\n"
      ],
      "execution_count": 12,
      "outputs": [
        {
          "output_type": "stream",
          "text": [
            "At 0 epochs Training_loss=0.04876665398478508\n",
            "At 1 epochs Training_loss=0.05137406289577484\n"
          ],
          "name": "stdout"
        }
      ]
    },
    {
      "cell_type": "markdown",
      "metadata": {
        "id": "612MNAESKFeR"
      },
      "source": [
        "## Defining Metric Calculator"
      ]
    },
    {
      "cell_type": "code",
      "metadata": {
        "id": "0ndh9Hps0K2F"
      },
      "source": [
        "# Custom Function that calcultes accuracy of the Model.\n",
        "\n",
        "def check_accuracy(loader, model):\n",
        "    if loader.dataset.train:\n",
        "        print(\"Checking accuracy on training data\")\n",
        "    else:\n",
        "        print(\"Checking accuracy on test data\")\n",
        "\n",
        "    num_correct = 0\n",
        "    num_samples = 0\n",
        "    model.eval()\n",
        "\n",
        "    with torch.no_grad():\n",
        "        for x, y in loader:\n",
        "            x = x.squeeze(1)\n",
        "            scores = model(x)\n",
        "            _, predictions = scores.max(1)\n",
        "            num_correct += (predictions == y).sum()\n",
        "            num_samples += predictions.size(0)\n",
        "\n",
        "        print(f\"Got {num_correct} / {num_samples} with accuracy = {float(num_correct)/float(num_samples)*100:.2f}\")"
      ],
      "execution_count": 13,
      "outputs": []
    },
    {
      "cell_type": "markdown",
      "metadata": {
        "id": "kPsdZfVsKQmI"
      },
      "source": [
        "## Analyzing the performances."
      ]
    },
    {
      "cell_type": "code",
      "metadata": {
        "colab": {
          "base_uri": "https://localhost:8080/"
        },
        "id": "7PcIBsvk7u5Z",
        "outputId": "dd565cb7-f575-49fe-936e-da307155faaa"
      },
      "source": [
        "print('Training LSTM Model')\n",
        "lstm_model.train() # Training the Model once again.\n",
        "print('Training was succesful')\n",
        "print('Calculating scores:\\n')\n",
        "check_accuracy(trainloader, lstm_model)\n",
        "check_accuracy(testloader, lstm_model)"
      ],
      "execution_count": 14,
      "outputs": [
        {
          "output_type": "stream",
          "text": [
            "Training LSTM Model\n",
            "Training was succesful\n",
            "Calculating scores:\n",
            "\n",
            "Checking accuracy on training data\n",
            "Got 59264 / 60000 with accuracy = 98.77\n",
            "Checking accuracy on test data\n",
            "Got 9846 / 10000 with accuracy = 98.46\n"
          ],
          "name": "stdout"
        }
      ]
    },
    {
      "cell_type": "code",
      "metadata": {
        "colab": {
          "base_uri": "https://localhost:8080/"
        },
        "id": "nVRBYTCfKbgb",
        "outputId": "d8bc78af-fb54-4bc1-f080-4c72a548b7a3"
      },
      "source": [
        "print('Training GRU Model')\n",
        "gru_model.train() # Training the Model once again.\n",
        "print('Training was succesful')\n",
        "print('Calculating scores:\\n')\n",
        "check_accuracy(trainloader, gru_model)\n",
        "check_accuracy(testloader, gru_model)"
      ],
      "execution_count": 15,
      "outputs": [
        {
          "output_type": "stream",
          "text": [
            "Training GRU Model\n",
            "Training was succesful\n",
            "Calculating scores:\n",
            "\n",
            "Checking accuracy on training data\n",
            "Got 59322 / 60000 with accuracy = 98.87\n",
            "Checking accuracy on test data\n",
            "Got 9861 / 10000 with accuracy = 98.61\n"
          ],
          "name": "stdout"
        }
      ]
    },
    {
      "cell_type": "markdown",
      "metadata": {
        "id": "4i9kcUIg8Tsm"
      },
      "source": [
        "- Well thats some good score. So this was all about the implementations of LSTMs and GRUs.\n",
        "# **THANK YOU!**"
      ]
    }
  ]
}