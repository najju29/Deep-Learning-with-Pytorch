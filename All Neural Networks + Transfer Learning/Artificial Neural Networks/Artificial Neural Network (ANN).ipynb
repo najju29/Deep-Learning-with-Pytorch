{
  "nbformat": 4,
  "nbformat_minor": 0,
  "metadata": {
    "colab": {
      "name": "Artificial Neural Networks (ANN).ipynb",
      "provenance": [],
      "collapsed_sections": [],
      "toc_visible": true
    },
    "kernelspec": {
      "name": "python3",
      "display_name": "Python 3"
    },
    "accelerator": "GPU"
  },
  "cells": [
    {
      "cell_type": "markdown",
      "metadata": {
        "id": "mUI4tWXQqKUP"
      },
      "source": [
        "# Importing PyTorch"
      ]
    },
    {
      "cell_type": "code",
      "metadata": {
        "id": "B-LAaq5Up-qx"
      },
      "source": [
        "import torch"
      ],
      "execution_count": 1,
      "outputs": []
    },
    {
      "cell_type": "code",
      "metadata": {
        "id": "fU5-yF8Kp-u4"
      },
      "source": [
        "import torch.nn as nn # It has almost all Layers and Activation functions.\n",
        "import torch.optim as optim # It has a lot of Optimizers.\n",
        "import torch.nn.functional as F # It has some Activation Functions as well."
      ],
      "execution_count": 26,
      "outputs": []
    },
    {
      "cell_type": "code",
      "metadata": {
        "id": "QURLW01FTA5P"
      },
      "source": [
        "# Importing Other Important Libraries\n",
        "import numpy as np\n",
        "import pandas as pd\n",
        "import matplotlib.pyplot as plt\n",
        "import seaborn as sns"
      ],
      "execution_count": 27,
      "outputs": []
    },
    {
      "cell_type": "markdown",
      "metadata": {
        "id": "zwPu84MtSfAR"
      },
      "source": [
        "# Reading and Preprocessing data "
      ]
    },
    {
      "cell_type": "markdown",
      "metadata": {
        "id": "jfwxnyz9qPBr"
      },
      "source": [
        "- This Section has normal Data loading and Preprocessing Steps."
      ]
    },
    {
      "cell_type": "code",
      "metadata": {
        "id": "FGg_qiT78kH9"
      },
      "source": [
        "data = pd.read_csv('/content/drive/MyDrive/pytorch notebooks/Datasets/diabetes.csv')"
      ],
      "execution_count": 4,
      "outputs": []
    },
    {
      "cell_type": "code",
      "metadata": {
        "colab": {
          "base_uri": "https://localhost:8080/",
          "height": 195
        },
        "id": "Q8JoA_EX8kE5",
        "outputId": "ea8462e4-8f5d-4cdb-df0d-5e60e01b3901"
      },
      "source": [
        "data.head()"
      ],
      "execution_count": 5,
      "outputs": [
        {
          "output_type": "execute_result",
          "data": {
            "text/html": [
              "<div>\n",
              "<style scoped>\n",
              "    .dataframe tbody tr th:only-of-type {\n",
              "        vertical-align: middle;\n",
              "    }\n",
              "\n",
              "    .dataframe tbody tr th {\n",
              "        vertical-align: top;\n",
              "    }\n",
              "\n",
              "    .dataframe thead th {\n",
              "        text-align: right;\n",
              "    }\n",
              "</style>\n",
              "<table border=\"1\" class=\"dataframe\">\n",
              "  <thead>\n",
              "    <tr style=\"text-align: right;\">\n",
              "      <th></th>\n",
              "      <th>Pregnancies</th>\n",
              "      <th>Glucose</th>\n",
              "      <th>BloodPressure</th>\n",
              "      <th>SkinThickness</th>\n",
              "      <th>Insulin</th>\n",
              "      <th>BMI</th>\n",
              "      <th>DiabetesPedigreeFunction</th>\n",
              "      <th>Age</th>\n",
              "      <th>Outcome</th>\n",
              "    </tr>\n",
              "  </thead>\n",
              "  <tbody>\n",
              "    <tr>\n",
              "      <th>0</th>\n",
              "      <td>6</td>\n",
              "      <td>148</td>\n",
              "      <td>72</td>\n",
              "      <td>35</td>\n",
              "      <td>0</td>\n",
              "      <td>33.6</td>\n",
              "      <td>0.627</td>\n",
              "      <td>50</td>\n",
              "      <td>1</td>\n",
              "    </tr>\n",
              "    <tr>\n",
              "      <th>1</th>\n",
              "      <td>1</td>\n",
              "      <td>85</td>\n",
              "      <td>66</td>\n",
              "      <td>29</td>\n",
              "      <td>0</td>\n",
              "      <td>26.6</td>\n",
              "      <td>0.351</td>\n",
              "      <td>31</td>\n",
              "      <td>0</td>\n",
              "    </tr>\n",
              "    <tr>\n",
              "      <th>2</th>\n",
              "      <td>8</td>\n",
              "      <td>183</td>\n",
              "      <td>64</td>\n",
              "      <td>0</td>\n",
              "      <td>0</td>\n",
              "      <td>23.3</td>\n",
              "      <td>0.672</td>\n",
              "      <td>32</td>\n",
              "      <td>1</td>\n",
              "    </tr>\n",
              "    <tr>\n",
              "      <th>3</th>\n",
              "      <td>1</td>\n",
              "      <td>89</td>\n",
              "      <td>66</td>\n",
              "      <td>23</td>\n",
              "      <td>94</td>\n",
              "      <td>28.1</td>\n",
              "      <td>0.167</td>\n",
              "      <td>21</td>\n",
              "      <td>0</td>\n",
              "    </tr>\n",
              "    <tr>\n",
              "      <th>4</th>\n",
              "      <td>0</td>\n",
              "      <td>137</td>\n",
              "      <td>40</td>\n",
              "      <td>35</td>\n",
              "      <td>168</td>\n",
              "      <td>43.1</td>\n",
              "      <td>2.288</td>\n",
              "      <td>33</td>\n",
              "      <td>1</td>\n",
              "    </tr>\n",
              "  </tbody>\n",
              "</table>\n",
              "</div>"
            ],
            "text/plain": [
              "   Pregnancies  Glucose  BloodPressure  ...  DiabetesPedigreeFunction  Age  Outcome\n",
              "0            6      148             72  ...                     0.627   50        1\n",
              "1            1       85             66  ...                     0.351   31        0\n",
              "2            8      183             64  ...                     0.672   32        1\n",
              "3            1       89             66  ...                     0.167   21        0\n",
              "4            0      137             40  ...                     2.288   33        1\n",
              "\n",
              "[5 rows x 9 columns]"
            ]
          },
          "metadata": {
            "tags": []
          },
          "execution_count": 5
        }
      ]
    },
    {
      "cell_type": "code",
      "metadata": {
        "id": "ufDWMdbM8j9P"
      },
      "source": [
        "X = data.drop('Outcome',axis=1)\n",
        "Y = data['Outcome']"
      ],
      "execution_count": 6,
      "outputs": []
    },
    {
      "cell_type": "code",
      "metadata": {
        "id": "_X9i8Nmmp_VH"
      },
      "source": [
        "from sklearn.model_selection import train_test_split"
      ],
      "execution_count": 7,
      "outputs": []
    },
    {
      "cell_type": "code",
      "metadata": {
        "id": "6fE3vZQBp_Xl"
      },
      "source": [
        "X_train, X_test, Y_train, Y_test = train_test_split(X,Y, test_size=0.3,random_state=42)"
      ],
      "execution_count": 8,
      "outputs": []
    },
    {
      "cell_type": "code",
      "metadata": {
        "id": "jjt6-Cp9p_aH",
        "colab": {
          "base_uri": "https://localhost:8080/"
        },
        "outputId": "d074c8e3-e56f-4e7b-c055-ef640595b6e8"
      },
      "source": [
        "X_train.shape, X_test.shape, Y_train.shape, Y_test.shape"
      ],
      "execution_count": 9,
      "outputs": [
        {
          "output_type": "execute_result",
          "data": {
            "text/plain": [
              "((537, 8), (231, 8), (537,), (231,))"
            ]
          },
          "metadata": {
            "tags": []
          },
          "execution_count": 9
        }
      ]
    },
    {
      "cell_type": "markdown",
      "metadata": {
        "id": "0cIBMVK-Un94"
      },
      "source": [
        "# Altering Datatypes for Torch Model Training"
      ]
    },
    {
      "cell_type": "markdown",
      "metadata": {
        "id": "wcilZQ1KqZhG"
      },
      "source": [
        "- Especially for numeric data all the Independent Features has to be converted to Float Datatype before feeding into the Neural Network.\n",
        "- All the Dependent values (**Categorical**) has to be in Long datatype, but if the task is **Regression** then it can be float as well. "
      ]
    },
    {
      "cell_type": "code",
      "metadata": {
        "id": "grb4qJmep_eA"
      },
      "source": [
        "X_train = torch.FloatTensor(X_train.values) # Independent features into Float values.\n",
        "X_test = torch.FloatTensor(X_test.values)\n",
        "Y_train = torch.LongTensor(Y_train.values)# Dependent feature to Long cause of Discrete Variable.\n",
        "Y_test = torch.LongTensor(Y_test.values)"
      ],
      "execution_count": 10,
      "outputs": []
    },
    {
      "cell_type": "markdown",
      "metadata": {
        "id": "W8cQAeTwY82y"
      },
      "source": [
        "# Building an Artificial Neural Network"
      ]
    },
    {
      "cell_type": "markdown",
      "metadata": {
        "id": "0vHJpyPkrKBG"
      },
      "source": [
        "Creating a Model almost has alot of things to consider but mostly can be divided into two parts:\n",
        "1. Forward Propagation:\n",
        "- Creating layers, fixing Neurons and then applying the Activation Functions.\n",
        "2. Backward Propagation:\n",
        "- Applying Loss function and then Optimizing the loss using Optimizers."
      ]
    },
    {
      "cell_type": "markdown",
      "metadata": {
        "id": "yZezYHgMVBAy"
      },
      "source": [
        "## Creating Model"
      ]
    },
    {
      "cell_type": "markdown",
      "metadata": {
        "id": "Py3LZhPMcDx-"
      },
      "source": [
        "### Forward Propagation\n",
        "- Creating Layers.\n",
        "- Stacking them together.\n",
        "- Applying Suitable Activation Functions"
      ]
    },
    {
      "cell_type": "code",
      "metadata": {
        "id": "EALg2PtFp_hq"
      },
      "source": [
        "class ANN_model(nn.Module): # nn.Module class is being inherited to this class to get all layers.\n",
        "  def __init__(self, input_feature_shape, hidden1_neurons, hidden2_neurons, hidden3_neurons, out_feature_shape): \n",
        "    super().__init__() # Its like Activating the Superclass.\n",
        "    self.input_layer = nn.Linear(input_feature_shape, hidden1_neurons) # Creating First layer.\n",
        "    self.fully_connected_layer1 = nn.Linear(hidden1_neurons, hidden2_neurons) # Creating Second Layer and connecting first layer's to second layer using nuerons count\n",
        "    self.fully_connected_layer2 = nn.Linear(hidden2_neurons, hidden3_neurons) # Another one for connection.\n",
        "    self.output_layer = nn.Linear(hidden3_neurons, out_feature_shape) # Finally the output layer.\n",
        "\n",
        "  def forward(self, input_data):\n",
        "    network_variable = F.relu(self.input_layer(input_data)) # Applying Relu Activation on Layer one\n",
        "    network_variable = F.relu(self.fully_connected_layer1(network_variable))\n",
        "    network_variable = F.relu(self.fully_connected_layer2(network_variable)) # Applying Relu Throughout.\n",
        "    network_variable = self.output_layer(network_variable)\n",
        "    return network_variable"
      ],
      "execution_count": 12,
      "outputs": []
    },
    {
      "cell_type": "markdown",
      "metadata": {
        "id": "yh-xcQdGYlit"
      },
      "source": [
        "- Instantiating Model"
      ]
    },
    {
      "cell_type": "code",
      "metadata": {
        "id": "5i7v4qqWp_kV"
      },
      "source": [
        "# INSTANTIATING THE MODEL.\n",
        "\n",
        "torch.manual_seed(30) # Setting a Seed value to regenerate the same score.\n",
        "\n",
        "model = ANN_model(8, 10, 20, 10, 2)"
      ],
      "execution_count": 13,
      "outputs": []
    },
    {
      "cell_type": "markdown",
      "metadata": {
        "id": "33JB4sxDYhXo"
      },
      "source": [
        "- Lets have a look at our model Architecture."
      ]
    },
    {
      "cell_type": "code",
      "metadata": {
        "id": "WU6DtPAqp_m8",
        "colab": {
          "base_uri": "https://localhost:8080/"
        },
        "outputId": "02d778f9-ffbf-4d74-e87e-3af18ff80fe8"
      },
      "source": [
        "# Lets look at the model Architecture.\n",
        "\n",
        "print(model.parameters)"
      ],
      "execution_count": 14,
      "outputs": [
        {
          "output_type": "stream",
          "text": [
            "<bound method Module.parameters of ANN_model(\n",
            "  (input_layer): Linear(in_features=8, out_features=10, bias=True)\n",
            "  (fully_connected_layer1): Linear(in_features=10, out_features=20, bias=True)\n",
            "  (fully_connected_layer2): Linear(in_features=20, out_features=10, bias=True)\n",
            "  (output_layer): Linear(in_features=10, out_features=2, bias=True)\n",
            ")>\n"
          ],
          "name": "stdout"
        }
      ]
    },
    {
      "cell_type": "markdown",
      "metadata": {
        "id": "zhMZRT0YcSRl"
      },
      "source": [
        "### Backward Propagation\n",
        "- Setting up a Loss Function.\n",
        "- Creating an Optimizer."
      ]
    },
    {
      "cell_type": "markdown",
      "metadata": {
        "id": "9N-pX6xQhzte"
      },
      "source": [
        "- Loss function"
      ]
    },
    {
      "cell_type": "code",
      "metadata": {
        "id": "Uh0BRjnOp_py"
      },
      "source": [
        "loss_function = nn.CrossEntropyLoss()"
      ],
      "execution_count": 15,
      "outputs": []
    },
    {
      "cell_type": "markdown",
      "metadata": {
        "id": "ZIQ6ouj_h11I"
      },
      "source": [
        "- Optimizer"
      ]
    },
    {
      "cell_type": "code",
      "metadata": {
        "id": "pxEwBALtp_tf"
      },
      "source": [
        "optimizer = torch.optim.Adam(model.parameters(), lr=0.01)"
      ],
      "execution_count": 16,
      "outputs": []
    },
    {
      "cell_type": "code",
      "metadata": {
        "id": "OiTsRCAip_vz",
        "colab": {
          "base_uri": "https://localhost:8080/"
        },
        "outputId": "1811741c-efe3-46bb-c454-1bf01da8120d"
      },
      "source": [
        "epochs = 200 # Setting up number of epochs.\n",
        "losses_list_by_iteration = [] # Empty list for appending losses by iteration.\n",
        "for epoch in range(1, epochs+1): # Iterating for given number of epochs.\n",
        "  Y_predictions = model.forward(X_train) # Y_predicted values.\n",
        "  losses = loss_function(Y_predictions, Y_train)\n",
        "  losses_list_by_iteration.append(losses) # Saving losses by each iteration.\n",
        "  # Setting verbose to print the loss.\n",
        "  if epoch%2==0:\n",
        "    print('for {} epoch, loss is:{}'.format(epoch, losses.item())) # Printing Loss at every two epochs\n",
        "  optimizer.zero_grad() # Setting up Gradients to zero.\n",
        "  #losses.requires_grad = True\n",
        "  losses.backward() # Intializing Backpropagation at this step.\n",
        "  optimizer.step() # Setting optimizer so that it optimizes once in a Step[Epoch]\n",
        "\n"
      ],
      "execution_count": 68,
      "outputs": [
        {
          "output_type": "stream",
          "text": [
            "for 2 epoch, loss is:0.6664556860923767\n",
            "for 4 epoch, loss is:0.6549382209777832\n",
            "for 6 epoch, loss is:0.6669862866401672\n",
            "for 8 epoch, loss is:0.639873743057251\n",
            "for 10 epoch, loss is:0.6472535729408264\n",
            "for 12 epoch, loss is:0.6385658383369446\n",
            "for 14 epoch, loss is:0.6290763020515442\n",
            "for 16 epoch, loss is:0.6252018809318542\n",
            "for 18 epoch, loss is:0.6116812825202942\n",
            "for 20 epoch, loss is:0.6049554944038391\n",
            "for 22 epoch, loss is:0.5943712592124939\n",
            "for 24 epoch, loss is:0.5868808627128601\n",
            "for 26 epoch, loss is:0.5804291367530823\n",
            "for 28 epoch, loss is:0.5681299567222595\n",
            "for 30 epoch, loss is:0.5547816753387451\n",
            "for 32 epoch, loss is:0.5437042117118835\n",
            "for 34 epoch, loss is:0.5352350473403931\n",
            "for 36 epoch, loss is:0.5291313529014587\n",
            "for 38 epoch, loss is:0.5247220396995544\n",
            "for 40 epoch, loss is:0.5160149335861206\n",
            "for 42 epoch, loss is:0.5296186804771423\n",
            "for 44 epoch, loss is:0.5146409273147583\n",
            "for 46 epoch, loss is:0.5081028342247009\n",
            "for 48 epoch, loss is:0.507615864276886\n",
            "for 50 epoch, loss is:0.5064471364021301\n",
            "for 52 epoch, loss is:0.5078241229057312\n",
            "for 54 epoch, loss is:0.5105283260345459\n",
            "for 56 epoch, loss is:0.5028112530708313\n",
            "for 58 epoch, loss is:0.5031791925430298\n",
            "for 60 epoch, loss is:0.4969904124736786\n",
            "for 62 epoch, loss is:0.49641746282577515\n",
            "for 64 epoch, loss is:0.4910655617713928\n",
            "for 66 epoch, loss is:0.4865262806415558\n",
            "for 68 epoch, loss is:0.4821860194206238\n",
            "for 70 epoch, loss is:0.4803740084171295\n",
            "for 72 epoch, loss is:0.47874441742897034\n",
            "for 74 epoch, loss is:0.47620388865470886\n",
            "for 76 epoch, loss is:0.4736906886100769\n",
            "for 78 epoch, loss is:0.47123292088508606\n",
            "for 80 epoch, loss is:0.4700447618961334\n",
            "for 82 epoch, loss is:0.46751677989959717\n",
            "for 84 epoch, loss is:0.4654406011104584\n",
            "for 86 epoch, loss is:0.4635283648967743\n",
            "for 88 epoch, loss is:0.46117252111434937\n",
            "for 90 epoch, loss is:0.45860081911087036\n",
            "for 92 epoch, loss is:0.45686498284339905\n",
            "for 94 epoch, loss is:0.454284131526947\n",
            "for 96 epoch, loss is:0.4527372419834137\n",
            "for 98 epoch, loss is:0.4508669674396515\n",
            "for 100 epoch, loss is:0.4487510919570923\n",
            "for 102 epoch, loss is:0.4470232129096985\n",
            "for 104 epoch, loss is:0.44760769605636597\n",
            "for 106 epoch, loss is:0.4818539619445801\n",
            "for 108 epoch, loss is:0.4496186077594757\n",
            "for 110 epoch, loss is:0.48404914140701294\n",
            "for 112 epoch, loss is:0.49665170907974243\n",
            "for 114 epoch, loss is:0.4718339443206787\n",
            "for 116 epoch, loss is:0.46260347962379456\n",
            "for 118 epoch, loss is:0.4570167064666748\n",
            "for 120 epoch, loss is:0.4493059813976288\n",
            "for 122 epoch, loss is:0.44271624088287354\n",
            "for 124 epoch, loss is:0.43825143575668335\n",
            "for 126 epoch, loss is:0.4378337264060974\n",
            "for 128 epoch, loss is:0.43740811944007874\n",
            "for 130 epoch, loss is:0.43853533267974854\n",
            "for 132 epoch, loss is:0.4357215464115143\n",
            "for 134 epoch, loss is:0.43250805139541626\n",
            "for 136 epoch, loss is:0.43092143535614014\n",
            "for 138 epoch, loss is:0.43040788173675537\n",
            "for 140 epoch, loss is:0.42832979559898376\n",
            "for 142 epoch, loss is:0.4269576966762543\n",
            "for 144 epoch, loss is:0.4281165301799774\n",
            "for 146 epoch, loss is:0.42448189854621887\n",
            "for 148 epoch, loss is:0.4232414662837982\n",
            "for 150 epoch, loss is:0.4214349687099457\n",
            "for 152 epoch, loss is:0.4207576811313629\n",
            "for 154 epoch, loss is:0.42047080397605896\n",
            "for 156 epoch, loss is:0.41935399174690247\n",
            "for 158 epoch, loss is:0.41655218601226807\n",
            "for 160 epoch, loss is:0.41677218675613403\n",
            "for 162 epoch, loss is:0.421915203332901\n",
            "for 164 epoch, loss is:0.4206817150115967\n",
            "for 166 epoch, loss is:0.41358643770217896\n",
            "for 168 epoch, loss is:0.41060787439346313\n",
            "for 170 epoch, loss is:0.4113653004169464\n",
            "for 172 epoch, loss is:0.42689409852027893\n",
            "for 174 epoch, loss is:0.4349636435508728\n",
            "for 176 epoch, loss is:0.4083927571773529\n",
            "for 178 epoch, loss is:0.4288753271102905\n",
            "for 180 epoch, loss is:0.4070376753807068\n",
            "for 182 epoch, loss is:0.41156521439552307\n",
            "for 184 epoch, loss is:0.40517038106918335\n",
            "for 186 epoch, loss is:0.4019385874271393\n",
            "for 188 epoch, loss is:0.40407681465148926\n",
            "for 190 epoch, loss is:0.4143802523612976\n",
            "for 192 epoch, loss is:0.4054090082645416\n",
            "for 194 epoch, loss is:0.3991401493549347\n",
            "for 196 epoch, loss is:0.4071226418018341\n",
            "for 198 epoch, loss is:0.39840513467788696\n",
            "for 200 epoch, loss is:0.3946820795536041\n"
          ],
          "name": "stdout"
        }
      ]
    },
    {
      "cell_type": "markdown",
      "metadata": {
        "id": "rmb1_QB6-A__"
      },
      "source": [
        "- Let us plot the results"
      ]
    },
    {
      "cell_type": "code",
      "metadata": {
        "id": "Cn-j50GWp_yl",
        "colab": {
          "base_uri": "https://localhost:8080/",
          "height": 406
        },
        "outputId": "dbc31db3-270f-4413-ff7e-07a6499ea6bf"
      },
      "source": [
        "fig = plt.figure(figsize=(10,6))\n",
        "plt.plot(range(1,201), losses_list_by_iteration);\n",
        "plt.xlabel('num_of_epochs')\n",
        "plt.ylabel('Training loss')"
      ],
      "execution_count": 46,
      "outputs": [
        {
          "output_type": "execute_result",
          "data": {
            "text/plain": [
              "Text(0, 0.5, 'Training loss')"
            ]
          },
          "metadata": {
            "tags": []
          },
          "execution_count": 46
        },
        {
          "output_type": "display_data",
          "data": {
            "image/png": "[encoded data removed]",
            "text/plain": [
              "<Figure size 720x432 with 1 Axes>"
            ]
          },
          "metadata": {
            "tags": [],
            "needs_background": "light"
          }
        }
      ]
    },
    {
      "cell_type": "markdown",
      "metadata": {
        "id": "99D-UUbr_Eam"
      },
      "source": [
        "- Let us check the losses for both Train and Validation sets at the same time."
      ]
    },
    {
      "cell_type": "code",
      "metadata": {
        "id": "2Uer3Khmp_4W",
        "colab": {
          "base_uri": "https://localhost:8080/"
        },
        "outputId": "67f2d21a-83bb-4fbe-afdb-29dabcfc2025"
      },
      "source": [
        "epochs = 500 # Setting up number of epochs.\n",
        "losses_list_by_iteration_train = [] # Empty list for appending losses by iteration.\n",
        "losses_list_by_iteration_test = []\n",
        "for epoch in range(1, epochs+1): # Iterating for given number of epochs.\n",
        "\n",
        "  # For train_data\n",
        "  Y_train_predictions = model.forward(X_train) # Y_predicted values.\n",
        "  losses = loss_function(Y_train_predictions, Y_train)\n",
        "  losses_list_by_iteration_train.append(losses) # Saving losses by each iteration.\n",
        "\n",
        "  # For test_data.\n",
        "  Y_test_predictions = model(X_test)\n",
        "  test_losses = loss_function(Y_test_predictions, Y_test)\n",
        "  losses_list_by_iteration_test.append(test_losses)\n",
        "\n",
        "  # Setting verbose to print the loss.\n",
        "  if epoch%2==0:\n",
        "    print('for {} epoch, train_loss is:{}, validation_loss is:{}'.format(epoch, losses.item(), test_losses.item())) # Printing Loss at every two epochs\n",
        "  optimizer.zero_grad() # Setting up Gradients to zero.\n",
        "  #losses.requires_grad = True\n",
        "  losses.backward() # Intializing Backpropagation at this step.\n",
        "  optimizer.step() # Setting optimizer so that it optimizes once in a Step[Epoch]\n",
        "\n"
      ],
      "execution_count": 17,
      "outputs": [
        {
          "output_type": "stream",
          "text": [
            "for 2 epoch, train_loss is:0.6664556860923767, validation_loss is:0.6759584546089172\n",
            "for 4 epoch, train_loss is:0.6549382209777832, validation_loss is:0.6582744121551514\n",
            "for 6 epoch, train_loss is:0.6669862866401672, validation_loss is:0.664767861366272\n",
            "for 8 epoch, train_loss is:0.639873743057251, validation_loss is:0.6407337188720703\n",
            "for 10 epoch, train_loss is:0.6472535729408264, validation_loss is:0.6517167687416077\n",
            "for 12 epoch, train_loss is:0.6385658383369446, validation_loss is:0.6421247720718384\n",
            "for 14 epoch, train_loss is:0.6290763020515442, validation_loss is:0.6301169991493225\n",
            "for 16 epoch, train_loss is:0.6252018809318542, validation_loss is:0.6285259127616882\n",
            "for 18 epoch, train_loss is:0.6116812825202942, validation_loss is:0.6233569383621216\n",
            "for 20 epoch, train_loss is:0.6049554944038391, validation_loss is:0.6228106021881104\n",
            "for 22 epoch, train_loss is:0.5943712592124939, validation_loss is:0.6096808314323425\n",
            "for 24 epoch, train_loss is:0.5868808627128601, validation_loss is:0.5998222231864929\n",
            "for 26 epoch, train_loss is:0.5804291367530823, validation_loss is:0.5938725471496582\n",
            "for 28 epoch, train_loss is:0.5681299567222595, validation_loss is:0.5938149094581604\n",
            "for 30 epoch, train_loss is:0.5547816753387451, validation_loss is:0.5913676619529724\n",
            "for 32 epoch, train_loss is:0.5437042117118835, validation_loss is:0.5936844944953918\n",
            "for 34 epoch, train_loss is:0.5352350473403931, validation_loss is:0.5823150277137756\n",
            "for 36 epoch, train_loss is:0.5291313529014587, validation_loss is:0.5861261487007141\n",
            "for 38 epoch, train_loss is:0.5247220396995544, validation_loss is:0.5816150903701782\n",
            "for 40 epoch, train_loss is:0.5160149335861206, validation_loss is:0.5926212072372437\n",
            "for 42 epoch, train_loss is:0.5296186804771423, validation_loss is:0.6169202327728271\n",
            "for 44 epoch, train_loss is:0.5146409273147583, validation_loss is:0.6027745604515076\n",
            "for 46 epoch, train_loss is:0.5081028342247009, validation_loss is:0.5877227187156677\n",
            "for 48 epoch, train_loss is:0.507615864276886, validation_loss is:0.5915302038192749\n",
            "for 50 epoch, train_loss is:0.5064471364021301, validation_loss is:0.5982636213302612\n",
            "for 52 epoch, train_loss is:0.5078241229057312, validation_loss is:0.5966523885726929\n",
            "for 54 epoch, train_loss is:0.5105283260345459, validation_loss is:0.6106963753700256\n",
            "for 56 epoch, train_loss is:0.5028112530708313, validation_loss is:0.6026983857154846\n",
            "for 58 epoch, train_loss is:0.5031791925430298, validation_loss is:0.6126853227615356\n",
            "for 60 epoch, train_loss is:0.4969904124736786, validation_loss is:0.5964729189872742\n",
            "for 62 epoch, train_loss is:0.49641746282577515, validation_loss is:0.6011433005332947\n",
            "for 64 epoch, train_loss is:0.4910655617713928, validation_loss is:0.5901076793670654\n",
            "for 66 epoch, train_loss is:0.4865262806415558, validation_loss is:0.592430830001831\n",
            "for 68 epoch, train_loss is:0.4821860194206238, validation_loss is:0.5896381735801697\n",
            "for 70 epoch, train_loss is:0.4803740084171295, validation_loss is:0.588581383228302\n",
            "for 72 epoch, train_loss is:0.47874441742897034, validation_loss is:0.5850335955619812\n",
            "for 74 epoch, train_loss is:0.47620388865470886, validation_loss is:0.5883952379226685\n",
            "for 76 epoch, train_loss is:0.4736906886100769, validation_loss is:0.5852472186088562\n",
            "for 78 epoch, train_loss is:0.47123292088508606, validation_loss is:0.5902699828147888\n",
            "for 80 epoch, train_loss is:0.4700447618961334, validation_loss is:0.5963002443313599\n",
            "for 82 epoch, train_loss is:0.46751677989959717, validation_loss is:0.5991061925888062\n",
            "for 84 epoch, train_loss is:0.4654406011104584, validation_loss is:0.6041954159736633\n",
            "for 86 epoch, train_loss is:0.4635283648967743, validation_loss is:0.5962762236595154\n",
            "for 88 epoch, train_loss is:0.46117252111434937, validation_loss is:0.5963447093963623\n",
            "for 90 epoch, train_loss is:0.45860081911087036, validation_loss is:0.5984681844711304\n",
            "for 92 epoch, train_loss is:0.45686498284339905, validation_loss is:0.6047036051750183\n",
            "for 94 epoch, train_loss is:0.454284131526947, validation_loss is:0.605445921421051\n",
            "for 96 epoch, train_loss is:0.4527372419834137, validation_loss is:0.603347659111023\n",
            "for 98 epoch, train_loss is:0.4508669674396515, validation_loss is:0.6040613651275635\n",
            "for 100 epoch, train_loss is:0.4487510919570923, validation_loss is:0.6026293635368347\n",
            "for 102 epoch, train_loss is:0.4470232129096985, validation_loss is:0.6059685945510864\n",
            "for 104 epoch, train_loss is:0.44760769605636597, validation_loss is:0.6128849387168884\n",
            "for 106 epoch, train_loss is:0.4818539619445801, validation_loss is:0.6627899408340454\n",
            "for 108 epoch, train_loss is:0.4496186077594757, validation_loss is:0.623029887676239\n",
            "for 110 epoch, train_loss is:0.48404914140701294, validation_loss is:0.6392143368721008\n",
            "for 112 epoch, train_loss is:0.49665170907974243, validation_loss is:0.6908343434333801\n",
            "for 114 epoch, train_loss is:0.4718339443206787, validation_loss is:0.6453656554222107\n",
            "for 116 epoch, train_loss is:0.46260347962379456, validation_loss is:0.6393461227416992\n",
            "for 118 epoch, train_loss is:0.4570167064666748, validation_loss is:0.6214424967765808\n",
            "for 120 epoch, train_loss is:0.4493059813976288, validation_loss is:0.633336067199707\n",
            "for 122 epoch, train_loss is:0.44271624088287354, validation_loss is:0.6179980039596558\n",
            "for 124 epoch, train_loss is:0.43825143575668335, validation_loss is:0.6275615692138672\n",
            "for 126 epoch, train_loss is:0.4378337264060974, validation_loss is:0.6312755346298218\n",
            "for 128 epoch, train_loss is:0.43740811944007874, validation_loss is:0.6245643496513367\n",
            "for 130 epoch, train_loss is:0.43853533267974854, validation_loss is:0.6393445730209351\n",
            "for 132 epoch, train_loss is:0.4357215464115143, validation_loss is:0.6257314085960388\n",
            "for 134 epoch, train_loss is:0.43250805139541626, validation_loss is:0.6258508563041687\n",
            "for 136 epoch, train_loss is:0.43092143535614014, validation_loss is:0.6287902593612671\n",
            "for 138 epoch, train_loss is:0.43040788173675537, validation_loss is:0.6209900379180908\n",
            "for 140 epoch, train_loss is:0.42832979559898376, validation_loss is:0.6229898929595947\n",
            "for 142 epoch, train_loss is:0.4269576966762543, validation_loss is:0.6226652264595032\n",
            "for 144 epoch, train_loss is:0.4281165301799774, validation_loss is:0.6228450536727905\n",
            "for 146 epoch, train_loss is:0.42448189854621887, validation_loss is:0.6248078346252441\n",
            "for 148 epoch, train_loss is:0.4232414662837982, validation_loss is:0.6330083608627319\n",
            "for 150 epoch, train_loss is:0.4214349687099457, validation_loss is:0.6336791515350342\n",
            "for 152 epoch, train_loss is:0.4207576811313629, validation_loss is:0.628400981426239\n",
            "for 154 epoch, train_loss is:0.42047080397605896, validation_loss is:0.6299570202827454\n",
            "for 156 epoch, train_loss is:0.41935399174690247, validation_loss is:0.6313164830207825\n",
            "for 158 epoch, train_loss is:0.41655218601226807, validation_loss is:0.6321830749511719\n",
            "for 160 epoch, train_loss is:0.41677218675613403, validation_loss is:0.635744035243988\n",
            "for 162 epoch, train_loss is:0.421915203332901, validation_loss is:0.6363624334335327\n",
            "for 164 epoch, train_loss is:0.4206817150115967, validation_loss is:0.6353022456169128\n",
            "for 166 epoch, train_loss is:0.41358643770217896, validation_loss is:0.6312142014503479\n",
            "for 168 epoch, train_loss is:0.41060787439346313, validation_loss is:0.6392279863357544\n",
            "for 170 epoch, train_loss is:0.4113653004169464, validation_loss is:0.6488153338432312\n",
            "for 172 epoch, train_loss is:0.42689409852027893, validation_loss is:0.6713911294937134\n",
            "for 174 epoch, train_loss is:0.4349636435508728, validation_loss is:0.6735861897468567\n",
            "for 176 epoch, train_loss is:0.4083927571773529, validation_loss is:0.6514469385147095\n",
            "for 178 epoch, train_loss is:0.4288753271102905, validation_loss is:0.6550189852714539\n",
            "for 180 epoch, train_loss is:0.4070376753807068, validation_loss is:0.6554964780807495\n",
            "for 182 epoch, train_loss is:0.41156521439552307, validation_loss is:0.6640785932540894\n",
            "for 184 epoch, train_loss is:0.40517038106918335, validation_loss is:0.6537961959838867\n",
            "for 186 epoch, train_loss is:0.4019385874271393, validation_loss is:0.650952160358429\n",
            "for 188 epoch, train_loss is:0.40407681465148926, validation_loss is:0.6484698057174683\n",
            "for 190 epoch, train_loss is:0.4143802523612976, validation_loss is:0.6619319319725037\n",
            "for 192 epoch, train_loss is:0.4054090082645416, validation_loss is:0.6574299335479736\n",
            "for 194 epoch, train_loss is:0.3991401493549347, validation_loss is:0.668875515460968\n",
            "for 196 epoch, train_loss is:0.4071226418018341, validation_loss is:0.684974730014801\n",
            "for 198 epoch, train_loss is:0.39840513467788696, validation_loss is:0.6682268977165222\n",
            "for 200 epoch, train_loss is:0.3946820795536041, validation_loss is:0.6508015990257263\n",
            "for 202 epoch, train_loss is:0.39656880497932434, validation_loss is:0.6461552977561951\n",
            "for 204 epoch, train_loss is:0.40479856729507446, validation_loss is:0.6462324261665344\n",
            "for 206 epoch, train_loss is:0.43432047963142395, validation_loss is:0.6688807010650635\n",
            "for 208 epoch, train_loss is:0.4150318205356598, validation_loss is:0.6601832509040833\n",
            "for 210 epoch, train_loss is:0.4006976783275604, validation_loss is:0.6626326441764832\n",
            "for 212 epoch, train_loss is:0.3983968198299408, validation_loss is:0.6615185737609863\n",
            "for 214 epoch, train_loss is:0.39732626080513, validation_loss is:0.6418867707252502\n",
            "for 216 epoch, train_loss is:0.3973347246646881, validation_loss is:0.6451736092567444\n",
            "for 218 epoch, train_loss is:0.39105579257011414, validation_loss is:0.6683241724967957\n",
            "for 220 epoch, train_loss is:0.3930925726890564, validation_loss is:0.6749774813652039\n",
            "for 222 epoch, train_loss is:0.39170658588409424, validation_loss is:0.673304557800293\n",
            "for 224 epoch, train_loss is:0.3876985013484955, validation_loss is:0.6527746319770813\n",
            "for 226 epoch, train_loss is:0.38747841119766235, validation_loss is:0.6580547094345093\n",
            "for 228 epoch, train_loss is:0.3937174081802368, validation_loss is:0.6653362512588501\n",
            "for 230 epoch, train_loss is:0.4119652509689331, validation_loss is:0.7023777961730957\n",
            "for 232 epoch, train_loss is:0.40038537979125977, validation_loss is:0.67939692735672\n",
            "for 234 epoch, train_loss is:0.3893892765045166, validation_loss is:0.6939781904220581\n",
            "for 236 epoch, train_loss is:0.40649962425231934, validation_loss is:0.6979465484619141\n",
            "for 238 epoch, train_loss is:0.3827499449253082, validation_loss is:0.6851790547370911\n",
            "for 240 epoch, train_loss is:0.40676507353782654, validation_loss is:0.6834760904312134\n",
            "for 242 epoch, train_loss is:0.38603925704956055, validation_loss is:0.7028791904449463\n",
            "for 244 epoch, train_loss is:0.38592496514320374, validation_loss is:0.6886308789253235\n",
            "for 246 epoch, train_loss is:0.385640949010849, validation_loss is:0.7102869153022766\n",
            "for 248 epoch, train_loss is:0.3824264705181122, validation_loss is:0.6804900169372559\n",
            "for 250 epoch, train_loss is:0.38703781366348267, validation_loss is:0.7085230350494385\n",
            "for 252 epoch, train_loss is:0.37349388003349304, validation_loss is:0.6963822841644287\n",
            "for 254 epoch, train_loss is:0.3867475986480713, validation_loss is:0.724381148815155\n",
            "for 256 epoch, train_loss is:0.37506774067878723, validation_loss is:0.7166664004325867\n",
            "for 258 epoch, train_loss is:0.39232364296913147, validation_loss is:0.7249622344970703\n",
            "for 260 epoch, train_loss is:0.38664311170578003, validation_loss is:0.7245731353759766\n",
            "for 262 epoch, train_loss is:0.38212093710899353, validation_loss is:0.7592558860778809\n",
            "for 264 epoch, train_loss is:0.3822396993637085, validation_loss is:0.7387414574623108\n",
            "for 266 epoch, train_loss is:0.37046322226524353, validation_loss is:0.7470702528953552\n",
            "for 268 epoch, train_loss is:0.379811555147171, validation_loss is:0.7318596839904785\n",
            "for 270 epoch, train_loss is:0.3671281337738037, validation_loss is:0.7474812865257263\n",
            "for 272 epoch, train_loss is:0.3725317418575287, validation_loss is:0.7326676249504089\n",
            "for 274 epoch, train_loss is:0.36561957001686096, validation_loss is:0.7412121891975403\n",
            "for 276 epoch, train_loss is:0.3672610819339752, validation_loss is:0.7472254037857056\n",
            "for 278 epoch, train_loss is:0.36900001764297485, validation_loss is:0.7729508280754089\n",
            "for 280 epoch, train_loss is:0.3638700842857361, validation_loss is:0.7519193291664124\n",
            "for 282 epoch, train_loss is:0.36060383915901184, validation_loss is:0.7657555937767029\n",
            "for 284 epoch, train_loss is:0.3602384626865387, validation_loss is:0.773047685623169\n",
            "for 286 epoch, train_loss is:0.36425507068634033, validation_loss is:0.7962952852249146\n",
            "for 288 epoch, train_loss is:0.3760707974433899, validation_loss is:0.7940606474876404\n",
            "for 290 epoch, train_loss is:0.38220682740211487, validation_loss is:0.7819860577583313\n",
            "for 292 epoch, train_loss is:0.3683982193470001, validation_loss is:0.794561505317688\n",
            "for 294 epoch, train_loss is:0.3580242097377777, validation_loss is:0.7818053960800171\n",
            "for 296 epoch, train_loss is:0.35932669043540955, validation_loss is:0.7941804528236389\n",
            "for 298 epoch, train_loss is:0.36076587438583374, validation_loss is:0.7878052592277527\n",
            "for 300 epoch, train_loss is:0.3573252558708191, validation_loss is:0.7976611256599426\n",
            "for 302 epoch, train_loss is:0.3561362326145172, validation_loss is:0.8151059746742249\n",
            "for 304 epoch, train_loss is:0.35456928610801697, validation_loss is:0.7961243391036987\n",
            "for 306 epoch, train_loss is:0.35222163796424866, validation_loss is:0.8018715381622314\n",
            "for 308 epoch, train_loss is:0.35114094614982605, validation_loss is:0.8093445301055908\n",
            "for 310 epoch, train_loss is:0.3505246043205261, validation_loss is:0.8190150856971741\n",
            "for 312 epoch, train_loss is:0.353515088558197, validation_loss is:0.830354630947113\n",
            "for 314 epoch, train_loss is:0.3904115855693817, validation_loss is:0.8401373624801636\n",
            "for 316 epoch, train_loss is:0.4959595203399658, validation_loss is:0.9551977515220642\n",
            "for 318 epoch, train_loss is:0.36298996210098267, validation_loss is:0.8120856285095215\n",
            "for 320 epoch, train_loss is:0.39704203605651855, validation_loss is:0.8768534064292908\n",
            "for 322 epoch, train_loss is:0.38820788264274597, validation_loss is:0.8371350169181824\n",
            "for 324 epoch, train_loss is:0.3613337278366089, validation_loss is:0.8311007022857666\n",
            "for 326 epoch, train_loss is:0.35861486196517944, validation_loss is:0.8530927896499634\n",
            "for 328 epoch, train_loss is:0.3628295063972473, validation_loss is:0.8472790718078613\n",
            "for 330 epoch, train_loss is:0.35029566287994385, validation_loss is:0.8480318784713745\n",
            "for 332 epoch, train_loss is:0.3558868169784546, validation_loss is:0.8540952205657959\n",
            "for 334 epoch, train_loss is:0.3508699834346771, validation_loss is:0.8367006778717041\n",
            "for 336 epoch, train_loss is:0.35020777583122253, validation_loss is:0.8503533601760864\n",
            "for 338 epoch, train_loss is:0.34786632657051086, validation_loss is:0.8504914045333862\n",
            "for 340 epoch, train_loss is:0.34738823771476746, validation_loss is:0.8521400094032288\n",
            "for 342 epoch, train_loss is:0.34734293818473816, validation_loss is:0.861447811126709\n",
            "for 344 epoch, train_loss is:0.34547170996665955, validation_loss is:0.864277184009552\n",
            "for 346 epoch, train_loss is:0.3440477252006531, validation_loss is:0.8812879920005798\n",
            "for 348 epoch, train_loss is:0.3425782024860382, validation_loss is:0.8899475932121277\n",
            "for 350 epoch, train_loss is:0.34362027049064636, validation_loss is:0.8884637951850891\n",
            "for 352 epoch, train_loss is:0.34481531381607056, validation_loss is:0.8981292843818665\n",
            "for 354 epoch, train_loss is:0.3422534763813019, validation_loss is:0.8921133875846863\n",
            "for 356 epoch, train_loss is:0.33882471919059753, validation_loss is:0.8924869894981384\n",
            "for 358 epoch, train_loss is:0.34142404794692993, validation_loss is:0.9145435094833374\n",
            "for 360 epoch, train_loss is:0.3615413308143616, validation_loss is:0.9631263613700867\n",
            "for 362 epoch, train_loss is:0.3423982262611389, validation_loss is:0.8824214935302734\n",
            "for 364 epoch, train_loss is:0.3410806953907013, validation_loss is:0.8968823552131653\n",
            "for 366 epoch, train_loss is:0.34570613503456116, validation_loss is:0.8885276317596436\n",
            "for 368 epoch, train_loss is:0.354744553565979, validation_loss is:0.9557054042816162\n",
            "for 370 epoch, train_loss is:0.36184823513031006, validation_loss is:0.919835090637207\n",
            "for 372 epoch, train_loss is:0.33768874406814575, validation_loss is:0.9509637951850891\n",
            "for 374 epoch, train_loss is:0.34661418199539185, validation_loss is:0.8680340051651001\n",
            "for 376 epoch, train_loss is:0.345130056142807, validation_loss is:0.973465621471405\n",
            "for 378 epoch, train_loss is:0.34970006346702576, validation_loss is:0.8740375638008118\n",
            "for 380 epoch, train_loss is:0.3430439233779907, validation_loss is:0.9707289338111877\n",
            "for 382 epoch, train_loss is:0.3429132103919983, validation_loss is:0.9569928646087646\n",
            "for 384 epoch, train_loss is:0.34549015760421753, validation_loss is:0.9905116558074951\n",
            "for 386 epoch, train_loss is:0.3418440818786621, validation_loss is:0.9851226210594177\n",
            "for 388 epoch, train_loss is:0.3413262665271759, validation_loss is:0.9632756114006042\n",
            "for 390 epoch, train_loss is:0.33535727858543396, validation_loss is:0.9511052966117859\n",
            "for 392 epoch, train_loss is:0.3367058336734772, validation_loss is:0.9364147782325745\n",
            "for 394 epoch, train_loss is:0.33527958393096924, validation_loss is:1.0028890371322632\n",
            "for 396 epoch, train_loss is:0.3364187479019165, validation_loss is:0.9911554455757141\n",
            "for 398 epoch, train_loss is:0.3392232060432434, validation_loss is:0.9936133623123169\n",
            "for 400 epoch, train_loss is:0.36537179350852966, validation_loss is:1.0314767360687256\n",
            "for 402 epoch, train_loss is:0.39261284470558167, validation_loss is:1.0615006685256958\n",
            "for 404 epoch, train_loss is:0.330496609210968, validation_loss is:0.9813733696937561\n",
            "for 406 epoch, train_loss is:0.3680875599384308, validation_loss is:0.9733171463012695\n",
            "for 408 epoch, train_loss is:0.3476415276527405, validation_loss is:0.8671429753303528\n",
            "for 410 epoch, train_loss is:0.3464999794960022, validation_loss is:0.8941718935966492\n",
            "for 412 epoch, train_loss is:0.3442332148551941, validation_loss is:0.9853028059005737\n",
            "for 414 epoch, train_loss is:0.3472897708415985, validation_loss is:0.8881380558013916\n",
            "for 416 epoch, train_loss is:0.3354995846748352, validation_loss is:1.0300098657608032\n",
            "for 418 epoch, train_loss is:0.3315912187099457, validation_loss is:0.9765738248825073\n",
            "for 420 epoch, train_loss is:0.33026859164237976, validation_loss is:0.9589038491249084\n",
            "for 422 epoch, train_loss is:0.326168417930603, validation_loss is:0.9580835103988647\n",
            "for 424 epoch, train_loss is:0.3275432288646698, validation_loss is:0.9585224390029907\n",
            "for 426 epoch, train_loss is:0.3251068890094757, validation_loss is:0.9626882076263428\n",
            "for 428 epoch, train_loss is:0.32629239559173584, validation_loss is:1.0164600610733032\n",
            "for 430 epoch, train_loss is:0.3363164961338043, validation_loss is:0.9450461268424988\n",
            "for 432 epoch, train_loss is:0.3611733615398407, validation_loss is:1.0560638904571533\n",
            "for 434 epoch, train_loss is:0.3907133936882019, validation_loss is:0.8239569664001465\n",
            "for 436 epoch, train_loss is:0.3794530928134918, validation_loss is:0.816546618938446\n",
            "for 438 epoch, train_loss is:0.35725438594818115, validation_loss is:0.8348088264465332\n",
            "for 440 epoch, train_loss is:0.3592471182346344, validation_loss is:0.8896538615226746\n",
            "for 442 epoch, train_loss is:0.34048473834991455, validation_loss is:0.9419541954994202\n",
            "for 444 epoch, train_loss is:0.34395015239715576, validation_loss is:0.9148721694946289\n",
            "for 446 epoch, train_loss is:0.3484969735145569, validation_loss is:0.9289032220840454\n",
            "for 448 epoch, train_loss is:0.3313636779785156, validation_loss is:0.9441520571708679\n",
            "for 450 epoch, train_loss is:0.3344014585018158, validation_loss is:0.9240078330039978\n",
            "for 452 epoch, train_loss is:0.33785247802734375, validation_loss is:0.8826304078102112\n",
            "for 454 epoch, train_loss is:0.33015045523643494, validation_loss is:0.9128847718238831\n",
            "for 456 epoch, train_loss is:0.32739588618278503, validation_loss is:0.9073888659477234\n",
            "for 458 epoch, train_loss is:0.3282991051673889, validation_loss is:0.9363788366317749\n",
            "for 460 epoch, train_loss is:0.33049479126930237, validation_loss is:0.9251250624656677\n",
            "for 462 epoch, train_loss is:0.3219395577907562, validation_loss is:0.9174914956092834\n",
            "for 464 epoch, train_loss is:0.3255811035633087, validation_loss is:0.9191895723342896\n",
            "for 466 epoch, train_loss is:0.32760027050971985, validation_loss is:0.9090061187744141\n",
            "for 468 epoch, train_loss is:0.3237977921962738, validation_loss is:0.9259761571884155\n",
            "for 470 epoch, train_loss is:0.32123300433158875, validation_loss is:0.9403844475746155\n",
            "for 472 epoch, train_loss is:0.3379983603954315, validation_loss is:0.9811574816703796\n",
            "for 474 epoch, train_loss is:0.3387259542942047, validation_loss is:0.9884932637214661\n",
            "for 476 epoch, train_loss is:0.31976762413978577, validation_loss is:0.9525923728942871\n",
            "for 478 epoch, train_loss is:0.328857958316803, validation_loss is:0.9791754484176636\n",
            "for 480 epoch, train_loss is:0.3313998878002167, validation_loss is:0.9720926880836487\n",
            "for 482 epoch, train_loss is:0.3238537013530731, validation_loss is:0.9939396977424622\n",
            "for 484 epoch, train_loss is:0.3157827854156494, validation_loss is:0.9976609349250793\n",
            "for 486 epoch, train_loss is:0.3161701261997223, validation_loss is:1.0199463367462158\n",
            "for 488 epoch, train_loss is:0.3225463628768921, validation_loss is:1.0495469570159912\n",
            "for 490 epoch, train_loss is:0.32764875888824463, validation_loss is:1.0443001985549927\n",
            "for 492 epoch, train_loss is:0.3174874782562256, validation_loss is:1.0660008192062378\n",
            "for 494 epoch, train_loss is:0.3150578439235687, validation_loss is:1.0344229936599731\n",
            "for 496 epoch, train_loss is:0.3153527081012726, validation_loss is:1.0639948844909668\n",
            "for 498 epoch, train_loss is:0.31425365805625916, validation_loss is:1.05411958694458\n",
            "for 500 epoch, train_loss is:0.31724950671195984, validation_loss is:1.084657907485962\n"
          ],
          "name": "stdout"
        }
      ]
    },
    {
      "cell_type": "code",
      "metadata": {
        "id": "L4AlITOaqAAr",
        "colab": {
          "base_uri": "https://localhost:8080/",
          "height": 389
        },
        "outputId": "121d7106-7a86-4122-af5e-22447f4b9bf1"
      },
      "source": [
        "fig = plt.figure(figsize=(10,6))\n",
        "plt.plot(range(1,501), losses_list_by_iteration_train, 'r', label='Train_loss')\n",
        "plt.plot(range(1,501), losses_list_by_iteration_test, 'g', label = 'Test_loss')\n",
        "plt.xlabel('num_of_epochs')\n",
        "plt.ylabel('Loss')\n",
        "plt.legend();"
      ],
      "execution_count": 18,
      "outputs": [
        {
          "output_type": "display_data",
          "data": {
            "image/png": "[encoded data removed]",
            "text/plain": [
              "<Figure size 720x432 with 1 Axes>"
            ]
          },
          "metadata": {
            "tags": [],
            "needs_background": "light"
          }
        }
      ]
    },
    {
      "cell_type": "markdown",
      "metadata": {
        "id": "jlKvsIF4nemq"
      },
      "source": [
        "## Predictions using Model."
      ]
    },
    {
      "cell_type": "code",
      "metadata": {
        "id": "FblTe_UpqAEU"
      },
      "source": [
        "test_set_predictions = model(X_test)"
      ],
      "execution_count": 19,
      "outputs": []
    },
    {
      "cell_type": "code",
      "metadata": {
        "id": "dqz1WUjMqAGO",
        "colab": {
          "base_uri": "https://localhost:8080/"
        },
        "outputId": "9eb38035-c41a-40f7-af1e-d4f77692c1da"
      },
      "source": [
        "test_set_predictions[0:10]"
      ],
      "execution_count": 21,
      "outputs": [
        {
          "output_type": "execute_result",
          "data": {
            "text/plain": [
              "tensor([[ 3.8020,  3.1891],\n",
              "        [ 3.4987,  0.8950],\n",
              "        [ 4.3603,  2.4032],\n",
              "        [ 4.3995,  2.5264],\n",
              "        [ 4.3598,  4.4437],\n",
              "        [ 4.9045,  2.2413],\n",
              "        [ 4.7709, -0.5285],\n",
              "        [10.1765, -0.7880],\n",
              "        [ 5.1659,  5.2347],\n",
              "        [ 2.8996,  8.5185]], grad_fn=<SliceBackward>)"
            ]
          },
          "metadata": {
            "tags": []
          },
          "execution_count": 21
        }
      ]
    },
    {
      "cell_type": "code",
      "metadata": {
        "id": "cp3COmx6qAIb"
      },
      "source": [
        "# Let us use the np.armax function to convert these binary probabilites into numbers.\n",
        "Final_predictions = []\n",
        "for i in test_set_predictions.detach().numpy():\n",
        "  Final_predictions.append(np.argmax(i))"
      ],
      "execution_count": 24,
      "outputs": []
    },
    {
      "cell_type": "code",
      "metadata": {
        "id": "soTkdxDqqAMu",
        "colab": {
          "base_uri": "https://localhost:8080/"
        },
        "outputId": "e33fb9da-4ccf-4d7f-c12c-dff15674bcb4"
      },
      "source": [
        "Final_predictions[0:10]"
      ],
      "execution_count": 25,
      "outputs": [
        {
          "output_type": "execute_result",
          "data": {
            "text/plain": [
              "[0,\n",
              " 0,\n",
              " 0,\n",
              " 0,\n",
              " 1,\n",
              " 0,\n",
              " 0,\n",
              " 0,\n",
              " 1,\n",
              " 1,\n",
              " 0,\n",
              " 0]"
            ]
          },
          "metadata": {
            "tags": []
          },
          "execution_count": 25
        }
      ]
    },
    {
      "cell_type": "markdown",
      "metadata": {
        "id": "wpzlu5W4p2o0"
      },
      "source": [
        "- There we go here are the Predictions as well."
      ]
    },
    {
      "cell_type": "markdown",
      "metadata": {
        "id": "-MClBuHGp6Er"
      },
      "source": [
        "# **THANK YOU**"
      ]
    }
  ]
}
