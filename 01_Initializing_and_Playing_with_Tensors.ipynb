{
  "nbformat": 4,
  "nbformat_minor": 0,
  "metadata": {
    "colab": {
      "name": "01 Initializing and Playing with Tensors.ipynb",
      "provenance": [],
      "collapsed_sections": [],
      "toc_visible": true
    },
    "kernelspec": {
      "name": "python3",
      "display_name": "Python 3"
    },
    "accelerator": "GPU"
  },
  "cells": [
    {
      "cell_type": "markdown",
      "metadata": {
        "id": "jjvWqXtrFy9H"
      },
      "source": [
        "# What is a TENSOR ?"
      ]
    },
    {
      "cell_type": "markdown",
      "metadata": {
        "id": "jjOMolD7F8nH"
      },
      "source": [
        "- In mathematics, a tensor is an algebraic object that describes a relationship between sets of algebraic objects related to a vector space. Objects that tensors may map between include vectors and scalars, and even other tensors.\r\n",
        "- Tensors are simply mathematical objects that can be used to describe physical properties, just like scalars and vectors. In fact tensors are merely a generalisation of scalars and vectors; a scalar is a zero rank tensor, and a vector is a first rank tensor."
      ]
    },
    {
      "cell_type": "markdown",
      "metadata": {
        "id": "RLex3VemGZrx"
      },
      "source": [
        "# How different is VECTOR from TENSOR ?"
      ]
    },
    {
      "cell_type": "markdown",
      "metadata": {
        "id": "BIrXFArFGe6A"
      },
      "source": [
        "- The tensor is a more generalized form of scalar and vector. Or, the scalar, vector are the special cases of tensor. If a tensor has only magnitude and no direction (i.e., rank 0 tensor), then it is called scalar. If a tensor has magnitude and one direction (i.e., rank 1 tensor), then it is called vector."
      ]
    },
    {
      "cell_type": "markdown",
      "metadata": {
        "id": "S9fEojkVuYLX"
      },
      "source": [
        "# Installing Pytorch"
      ]
    },
    {
      "cell_type": "code",
      "metadata": {
        "colab": {
          "base_uri": "https://localhost:8080/"
        },
        "id": "c91Eb7iSsBI5",
        "outputId": "eb3c03d9-a0f4-46d6-8d8b-f3096a181534"
      },
      "source": [
        "!pip install torch torchvision"
      ],
      "execution_count": 1,
      "outputs": [
        {
          "output_type": "stream",
          "text": [
            "Requirement already satisfied: torch in /usr/local/lib/python3.7/dist-packages (1.8.0+cu101)\n",
            "Requirement already satisfied: torchvision in /usr/local/lib/python3.7/dist-packages (0.9.0+cu101)\n",
            "Requirement already satisfied: numpy in /usr/local/lib/python3.7/dist-packages (from torch) (1.19.5)\n",
            "Requirement already satisfied: typing-extensions in /usr/local/lib/python3.7/dist-packages (from torch) (3.7.4.3)\n",
            "Requirement already satisfied: pillow>=4.1.1 in /usr/local/lib/python3.7/dist-packages (from torchvision) (7.0.0)\n"
          ],
          "name": "stdout"
        }
      ]
    },
    {
      "cell_type": "markdown",
      "metadata": {
        "id": "01Di99NQudzc"
      },
      "source": [
        "# Initializing the Tensors and its Attributes"
      ]
    },
    {
      "cell_type": "code",
      "metadata": {
        "id": "FIHrYQ9OtBtr"
      },
      "source": [
        "import torch"
      ],
      "execution_count": 2,
      "outputs": []
    },
    {
      "cell_type": "code",
      "metadata": {
        "id": "ZPr2jb8zuj3R"
      },
      "source": [
        "# Initializing a tensor.\r\n",
        "# Setting device type to 'cuda', if not set then it will go with 'cpu' by default.\r\n",
        "# Setting datatype to float32.\r\n",
        "\r\n",
        "my_tensor=torch.tensor([[1,3,4],[2,4,5]],dtype=torch.float32, device='cuda')"
      ],
      "execution_count": null,
      "outputs": []
    },
    {
      "cell_type": "code",
      "metadata": {
        "colab": {
          "base_uri": "https://localhost:8080/"
        },
        "id": "gt_REg1nuqWu",
        "outputId": "b3242ad6-1863-4df1-af79-2fd31a9493bb"
      },
      "source": [
        "my_tensor"
      ],
      "execution_count": null,
      "outputs": [
        {
          "output_type": "execute_result",
          "data": {
            "text/plain": [
              "tensor([[1., 3., 4.],\n",
              "        [2., 4., 5.]], device='cuda:0')"
            ]
          },
          "metadata": {
            "tags": []
          },
          "execution_count": 4
        }
      ]
    },
    {
      "cell_type": "markdown",
      "metadata": {
        "id": "O_Z2KBI0JLZu"
      },
      "source": [
        "## Other Tensor Initialization techniques."
      ]
    },
    {
      "cell_type": "markdown",
      "metadata": {
        "id": "8CB_mpCtOnQl"
      },
      "source": [
        "- **torch.empty( )** Returns a tensor filled with uninitialized data. The shape of the tensor is defined by the variable argument size."
      ]
    },
    {
      "cell_type": "code",
      "metadata": {
        "id": "_DxS-Y8uute3"
      },
      "source": [
        "new_tensor = torch.empty(size=(2,3))"
      ],
      "execution_count": null,
      "outputs": []
    },
    {
      "cell_type": "code",
      "metadata": {
        "colab": {
          "base_uri": "https://localhost:8080/"
        },
        "id": "aMR77K9bJGEw",
        "outputId": "0f8b56e2-b63f-48bc-a49e-a37c9fc7c467"
      },
      "source": [
        "print(new_tensor)"
      ],
      "execution_count": null,
      "outputs": [
        {
          "output_type": "stream",
          "text": [
            "tensor([[-3.2374e-24,  3.0764e-41, -1.9940e+35],\n",
            "        [ 3.0764e-41, -3.2211e-24,  3.0764e-41]])\n"
          ],
          "name": "stdout"
        }
      ]
    },
    {
      "cell_type": "code",
      "metadata": {
        "id": "DbtIPbAmJGQv"
      },
      "source": [
        "new_tensor = torch.empty(size=(4,3))"
      ],
      "execution_count": null,
      "outputs": []
    },
    {
      "cell_type": "code",
      "metadata": {
        "colab": {
          "base_uri": "https://localhost:8080/"
        },
        "id": "zXr-HobKoUyx",
        "outputId": "7b51a5cc-3c33-4200-b2b3-d8ea9eea7542"
      },
      "source": [
        "new_tensor"
      ],
      "execution_count": null,
      "outputs": [
        {
          "output_type": "execute_result",
          "data": {
            "text/plain": [
              "tensor([[-7.7884e+37,  3.0764e-41,  3.3631e-44],\n",
              "        [ 0.0000e+00,         nan,  0.0000e+00],\n",
              "        [ 4.4721e+21,  1.5956e+25,  4.7399e+16],\n",
              "        [ 3.7293e-08,  1.4838e-41,  0.0000e+00]])"
            ]
          },
          "metadata": {
            "tags": []
          },
          "execution_count": 9
        }
      ]
    },
    {
      "cell_type": "markdown",
      "metadata": {
        "id": "-9ptrtjNodnd"
      },
      "source": [
        "- **torch.zeros( )** returns a tensor with zeros of prescribed shape."
      ]
    },
    {
      "cell_type": "code",
      "metadata": {
        "id": "yrJAXPHdoXCu"
      },
      "source": [
        "new_tensor = torch.zeros(size=(3,3))"
      ],
      "execution_count": null,
      "outputs": []
    },
    {
      "cell_type": "code",
      "metadata": {
        "colab": {
          "base_uri": "https://localhost:8080/"
        },
        "id": "-0MAwasmoZ71",
        "outputId": "a01c0df2-fe59-447a-e98c-cda6d557a0dd"
      },
      "source": [
        "new_tensor"
      ],
      "execution_count": null,
      "outputs": [
        {
          "output_type": "execute_result",
          "data": {
            "text/plain": [
              "tensor([[0., 0., 0.],\n",
              "        [0., 0., 0.],\n",
              "        [0., 0., 0.]])"
            ]
          },
          "metadata": {
            "tags": []
          },
          "execution_count": 11
        }
      ]
    },
    {
      "cell_type": "markdown",
      "metadata": {
        "id": "YgBN5N8io6yO"
      },
      "source": [
        "- **torch.rand( )** returns a tensor that contains a set of random numbers drawn from a uniform distribution in the interval [0,1). The shape is defined by the variable parameter sizes."
      ]
    },
    {
      "cell_type": "code",
      "metadata": {
        "id": "v6MkeXsCoaDN"
      },
      "source": [
        "new_tensor = torch.rand(size=(3,4))"
      ],
      "execution_count": null,
      "outputs": []
    },
    {
      "cell_type": "code",
      "metadata": {
        "colab": {
          "base_uri": "https://localhost:8080/"
        },
        "id": "kzNX9DqcoaKU",
        "outputId": "d599036a-1dec-4e5a-cec8-d2affa19c95d"
      },
      "source": [
        "new_tensor"
      ],
      "execution_count": null,
      "outputs": [
        {
          "output_type": "execute_result",
          "data": {
            "text/plain": [
              "tensor([[0.5880, 0.7131, 0.3825, 0.6020],\n",
              "        [0.4232, 0.6354, 0.2485, 0.0531],\n",
              "        [0.7695, 0.6156, 0.4987, 0.1733]])"
            ]
          },
          "metadata": {
            "tags": []
          },
          "execution_count": 13
        }
      ]
    },
    {
      "cell_type": "markdown",
      "metadata": {
        "id": "DNycj2S-pcjm"
      },
      "source": [
        "- **torch.randn( )** returns a tensor, which contains a set of random numbers drawn from a standard normal distribution (mean 0, variance 1, Gaussian white noise), the shape is defined by the variable parameter sizes ."
      ]
    },
    {
      "cell_type": "code",
      "metadata": {
        "id": "eF24Z3k2oaSB"
      },
      "source": [
        "new_tensor = torch.randn(size=(3,3))"
      ],
      "execution_count": null,
      "outputs": []
    },
    {
      "cell_type": "code",
      "metadata": {
        "colab": {
          "base_uri": "https://localhost:8080/"
        },
        "id": "OonTs8mfoaYu",
        "outputId": "4daf28aa-3c87-4b27-96a1-632ad653ed17"
      },
      "source": [
        "new_tensor"
      ],
      "execution_count": null,
      "outputs": [
        {
          "output_type": "execute_result",
          "data": {
            "text/plain": [
              "tensor([[ 0.2382,  1.7844,  0.0368],\n",
              "        [ 0.6544, -0.7989, -0.8466],\n",
              "        [-1.1326, -0.3392,  0.1645]])"
            ]
          },
          "metadata": {
            "tags": []
          },
          "execution_count": 19
        }
      ]
    },
    {
      "cell_type": "code",
      "metadata": {
        "colab": {
          "base_uri": "https://localhost:8080/"
        },
        "id": "v3pAAphqoahV",
        "outputId": "43bebf28-cfa5-4f7c-a11d-3f30a4dbd951"
      },
      "source": [
        "# Variance of nearly one.\r\n",
        "new_tensor.var()"
      ],
      "execution_count": null,
      "outputs": [
        {
          "output_type": "execute_result",
          "data": {
            "text/plain": [
              "tensor(0.8055)"
            ]
          },
          "metadata": {
            "tags": []
          },
          "execution_count": 20
        }
      ]
    },
    {
      "cell_type": "code",
      "metadata": {
        "colab": {
          "base_uri": "https://localhost:8080/"
        },
        "id": "vDW_s780oatf",
        "outputId": "7fba63f8-5532-48df-b040-0f12ce12a5e9"
      },
      "source": [
        "# Mean of nearly zero\r\n",
        "new_tensor.mean()"
      ],
      "execution_count": null,
      "outputs": [
        {
          "output_type": "execute_result",
          "data": {
            "text/plain": [
              "tensor(-0.0265)"
            ]
          },
          "metadata": {
            "tags": []
          },
          "execution_count": 21
        }
      ]
    },
    {
      "cell_type": "markdown",
      "metadata": {
        "id": "8VGVlDzEq2Pw"
      },
      "source": [
        "- **torch.ones( )** returns a tensor with ones."
      ]
    },
    {
      "cell_type": "code",
      "metadata": {
        "id": "oK8V9YI1obfg"
      },
      "source": [
        "new_tensor = torch.ones(size=(3,3))"
      ],
      "execution_count": null,
      "outputs": []
    },
    {
      "cell_type": "code",
      "metadata": {
        "colab": {
          "base_uri": "https://localhost:8080/"
        },
        "id": "y-zYgt5FoclS",
        "outputId": "3c4a80e5-296d-482d-9ac2-12c21da0a18d"
      },
      "source": [
        "new_tensor"
      ],
      "execution_count": null,
      "outputs": [
        {
          "output_type": "execute_result",
          "data": {
            "text/plain": [
              "tensor([[1., 1., 1.],\n",
              "        [1., 1., 1.],\n",
              "        [1., 1., 1.]])"
            ]
          },
          "metadata": {
            "tags": []
          },
          "execution_count": 23
        }
      ]
    },
    {
      "cell_type": "markdown",
      "metadata": {
        "id": "o2-c-mzcrH13"
      },
      "source": [
        "- **torch.eye( )** returns an Identity Matrix or tensor."
      ]
    },
    {
      "cell_type": "code",
      "metadata": {
        "id": "eqoKReQorDER"
      },
      "source": [
        "# 'n' being number of rows and 'm' being number of columns.\r\n",
        "new_tensor = torch.eye(n=3,m=3)"
      ],
      "execution_count": null,
      "outputs": []
    },
    {
      "cell_type": "code",
      "metadata": {
        "colab": {
          "base_uri": "https://localhost:8080/"
        },
        "id": "aqa2vFD5rfxr",
        "outputId": "6e87faa7-6968-41bb-cfb4-9a757640d18a"
      },
      "source": [
        "new_tensor"
      ],
      "execution_count": null,
      "outputs": [
        {
          "output_type": "execute_result",
          "data": {
            "text/plain": [
              "tensor([[1., 0., 0.],\n",
              "        [0., 1., 0.],\n",
              "        [0., 0., 1.]])"
            ]
          },
          "metadata": {
            "tags": []
          },
          "execution_count": 27
        }
      ]
    },
    {
      "cell_type": "code",
      "metadata": {
        "id": "8YYarQ-Grvlz"
      },
      "source": [
        "new_tensor = torch.eye(3,4)"
      ],
      "execution_count": null,
      "outputs": []
    },
    {
      "cell_type": "code",
      "metadata": {
        "colab": {
          "base_uri": "https://localhost:8080/"
        },
        "id": "PFzkb0sbryvV",
        "outputId": "6fba725f-ca98-401d-86f3-586cf66b2558"
      },
      "source": [
        "new_tensor"
      ],
      "execution_count": null,
      "outputs": [
        {
          "output_type": "execute_result",
          "data": {
            "text/plain": [
              "tensor([[1., 0., 0., 0.],\n",
              "        [0., 1., 0., 0.],\n",
              "        [0., 0., 1., 0.]])"
            ]
          },
          "metadata": {
            "tags": []
          },
          "execution_count": 29
        }
      ]
    },
    {
      "cell_type": "markdown",
      "metadata": {
        "id": "xHSkjNBtApm2"
      },
      "source": [
        "- **torch.arrange( )** Returns a 1-D tensor of size [(end-start)/(step)]\r\n",
        "with values from the interval [start, end) taken with common difference step beginning from start."
      ]
    },
    {
      "cell_type": "code",
      "metadata": {
        "id": "0mDOrrRpApD-"
      },
      "source": [
        "new_tensor = torch.arange(start=2,end=7,step=1)"
      ],
      "execution_count": 5,
      "outputs": []
    },
    {
      "cell_type": "code",
      "metadata": {
        "id": "GmrKmrBBr0DQ",
        "colab": {
          "base_uri": "https://localhost:8080/"
        },
        "outputId": "777f34d6-92f3-442b-dc75-ce7686ebe0ea"
      },
      "source": [
        "new_tensor"
      ],
      "execution_count": 6,
      "outputs": [
        {
          "output_type": "execute_result",
          "data": {
            "text/plain": [
              "tensor([2, 3, 4, 5, 6])"
            ]
          },
          "metadata": {
            "tags": []
          },
          "execution_count": 6
        }
      ]
    },
    {
      "cell_type": "markdown",
      "metadata": {
        "id": "Qjy0ovBikhJj"
      },
      "source": [
        "**torch.linspace( )** Creates a one-dimensional tensor of size steps whose values are evenly spaced from start to end, inclusive."
      ]
    },
    {
      "cell_type": "code",
      "metadata": {
        "id": "wunpLhYBkg1I"
      },
      "source": [
        "new_tensor = torch.linspace(0.1,1,5)"
      ],
      "execution_count": 7,
      "outputs": []
    },
    {
      "cell_type": "code",
      "metadata": {
        "colab": {
          "base_uri": "https://localhost:8080/"
        },
        "id": "mOFjmcugkgyj",
        "outputId": "a049fce8-9806-4432-b8e2-2a1dee55eba0"
      },
      "source": [
        "new_tensor"
      ],
      "execution_count": 8,
      "outputs": [
        {
          "output_type": "execute_result",
          "data": {
            "text/plain": [
              "tensor([0.1000, 0.3250, 0.5500, 0.7750, 1.0000])"
            ]
          },
          "metadata": {
            "tags": []
          },
          "execution_count": 8
        }
      ]
    },
    {
      "cell_type": "markdown",
      "metadata": {
        "id": "ODkT0z1olDAr"
      },
      "source": [
        "**torch.empty( )** with **Normal Distribution.**"
      ]
    },
    {
      "cell_type": "code",
      "metadata": {
        "id": "XSasrcpskgwM"
      },
      "source": [
        "new_tensor = torch.empty(size=(4,4)).normal_(mean=0, std=1)"
      ],
      "execution_count": 13,
      "outputs": []
    },
    {
      "cell_type": "code",
      "metadata": {
        "colab": {
          "base_uri": "https://localhost:8080/"
        },
        "id": "8Crt4iW3kgsy",
        "outputId": "39cb9ae9-a0a2-4ebe-a6eb-d9076071a183"
      },
      "source": [
        "new_tensor"
      ],
      "execution_count": 14,
      "outputs": [
        {
          "output_type": "execute_result",
          "data": {
            "text/plain": [
              "tensor([[-0.2428, -0.2718, -2.0102, -0.7468],\n",
              "        [ 1.2908, -0.4575, -0.5068,  0.5164],\n",
              "        [-0.4806, -1.1528,  2.5138,  1.8448],\n",
              "        [ 1.0138, -0.0926, -0.7775,  0.1519]])"
            ]
          },
          "metadata": {
            "tags": []
          },
          "execution_count": 14
        }
      ]
    },
    {
      "cell_type": "code",
      "metadata": {
        "colab": {
          "base_uri": "https://localhost:8080/"
        },
        "id": "ANV4mSO5kgp0",
        "outputId": "b8123be0-2c73-4d6c-dc23-aa3a02b2dfc7"
      },
      "source": [
        "new_tensor.mean(), new_tensor.std()\r\n",
        "# Approximately equal to 0, 1."
      ],
      "execution_count": 15,
      "outputs": [
        {
          "output_type": "execute_result",
          "data": {
            "text/plain": [
              "(tensor(0.0370), tensor(1.1563))"
            ]
          },
          "metadata": {
            "tags": []
          },
          "execution_count": 15
        }
      ]
    },
    {
      "cell_type": "markdown",
      "metadata": {
        "id": "9iis81MtmDom"
      },
      "source": [
        "**torch.empty( )** with **Uniform Distribution.**"
      ]
    },
    {
      "cell_type": "code",
      "metadata": {
        "id": "g0TacaLTkgYe"
      },
      "source": [
        "new_tensor = torch.empty(size=(4,4)).uniform_(0,1)"
      ],
      "execution_count": 17,
      "outputs": []
    },
    {
      "cell_type": "code",
      "metadata": {
        "colab": {
          "base_uri": "https://localhost:8080/"
        },
        "id": "19jzERRXj-Ky",
        "outputId": "6b034b67-27b8-46dc-d7f5-107099fd3824"
      },
      "source": [
        "new_tensor"
      ],
      "execution_count": 18,
      "outputs": [
        {
          "output_type": "execute_result",
          "data": {
            "text/plain": [
              "tensor([[0.1676, 0.6292, 0.7459, 0.7882],\n",
              "        [0.8520, 0.3296, 0.1846, 0.2017],\n",
              "        [0.7656, 0.0019, 0.0240, 0.0306],\n",
              "        [0.5341, 0.9814, 0.0143, 0.3979]])"
            ]
          },
          "metadata": {
            "tags": []
          },
          "execution_count": 18
        }
      ]
    },
    {
      "cell_type": "markdown",
      "metadata": {
        "id": "azxHqtN2mimT"
      },
      "source": [
        "**torch.daig( )** \r\n",
        "- If input is a vector (1-D tensor), then returns a 2-D square tensor with the elements of input as the diagonal.\r\n",
        "\r\n",
        "- If input is a matrix (2-D tensor), then returns a 1-D tensor with the diagonal elements of input."
      ]
    },
    {
      "cell_type": "code",
      "metadata": {
        "id": "Ul0NWJYlnBoF"
      },
      "source": [
        "input_vector = torch.ones(3)"
      ],
      "execution_count": 24,
      "outputs": []
    },
    {
      "cell_type": "code",
      "metadata": {
        "id": "D2vdAPvUmbUL"
      },
      "source": [
        "new_tensor = torch.diag(input_vector, diagonal=0)"
      ],
      "execution_count": 31,
      "outputs": []
    },
    {
      "cell_type": "code",
      "metadata": {
        "colab": {
          "base_uri": "https://localhost:8080/"
        },
        "id": "aof7LZZKmdEX",
        "outputId": "41b4ade9-d57a-49ba-b660-c84f1c96a856"
      },
      "source": [
        "new_tensor"
      ],
      "execution_count": 32,
      "outputs": [
        {
          "output_type": "execute_result",
          "data": {
            "text/plain": [
              "tensor([[1., 0., 0.],\n",
              "        [0., 1., 0.],\n",
              "        [0., 0., 1.]])"
            ]
          },
          "metadata": {
            "tags": []
          },
          "execution_count": 32
        }
      ]
    },
    {
      "cell_type": "markdown",
      "metadata": {
        "id": "oAzobzLP-0O7"
      },
      "source": [
        "# Initializing tensors and converting them to other Data types"
      ]
    },
    {
      "cell_type": "code",
      "metadata": {
        "id": "Aekm2yF1mfDb"
      },
      "source": [
        "# Initializing a tensor.\r\n",
        "new_tensor = torch.arange(5)"
      ],
      "execution_count": 11,
      "outputs": []
    },
    {
      "cell_type": "code",
      "metadata": {
        "colab": {
          "base_uri": "https://localhost:8080/"
        },
        "id": "upd8gm5DnpW5",
        "outputId": "43cc111e-63a0-44c9-ef1a-66178eeed4f8"
      },
      "source": [
        "new_tensor"
      ],
      "execution_count": 12,
      "outputs": [
        {
          "output_type": "execute_result",
          "data": {
            "text/plain": [
              "tensor([0, 1, 2, 3, 4])"
            ]
          },
          "metadata": {
            "tags": []
          },
          "execution_count": 12
        }
      ]
    },
    {
      "cell_type": "code",
      "metadata": {
        "colab": {
          "base_uri": "https://localhost:8080/"
        },
        "id": "uCzvfurpnpav",
        "outputId": "77cf8540-6f68-4943-bc04-1191adad5e98"
      },
      "source": [
        "new_tensor.dtype\r\n",
        "# We can check its of integer datatype."
      ],
      "execution_count": 18,
      "outputs": [
        {
          "output_type": "execute_result",
          "data": {
            "text/plain": [
              "torch.int64"
            ]
          },
          "metadata": {
            "tags": []
          },
          "execution_count": 18
        }
      ]
    },
    {
      "cell_type": "markdown",
      "metadata": {
        "id": "gm9wr4duAiFP"
      },
      "source": [
        "- converting it to **boolean** datatype by using **.bool( )** method."
      ]
    },
    {
      "cell_type": "code",
      "metadata": {
        "id": "lkHHSRSonpgI"
      },
      "source": [
        "bool_tensor = new_tensor.bool()"
      ],
      "execution_count": 14,
      "outputs": []
    },
    {
      "cell_type": "code",
      "metadata": {
        "colab": {
          "base_uri": "https://localhost:8080/"
        },
        "id": "c8ME-GQBnpjL",
        "outputId": "53f35820-b0d6-4d3a-e8c7-4c764c0a2361"
      },
      "source": [
        "bool_tensor"
      ],
      "execution_count": 15,
      "outputs": [
        {
          "output_type": "execute_result",
          "data": {
            "text/plain": [
              "tensor([False,  True,  True,  True,  True])"
            ]
          },
          "metadata": {
            "tags": []
          },
          "execution_count": 15
        }
      ]
    },
    {
      "cell_type": "code",
      "metadata": {
        "colab": {
          "base_uri": "https://localhost:8080/"
        },
        "id": "z1tSnhHwnpoe",
        "outputId": "8bab60d6-7a91-4526-a901-e5e6bb67e421"
      },
      "source": [
        "bool_tensor.dtype\r\n",
        "# It got converted to Boolean type."
      ],
      "execution_count": 16,
      "outputs": [
        {
          "output_type": "execute_result",
          "data": {
            "text/plain": [
              "torch.bool"
            ]
          },
          "metadata": {
            "tags": []
          },
          "execution_count": 16
        }
      ]
    },
    {
      "cell_type": "markdown",
      "metadata": {
        "id": "X1ok2JH5A1zi"
      },
      "source": [
        "- converting it to **short(Int16)** datatype by using **.short( )** method.\r\n"
      ]
    },
    {
      "cell_type": "code",
      "metadata": {
        "id": "VKpUP8zQnprx"
      },
      "source": [
        "short_tensor = new_tensor.short()"
      ],
      "execution_count": 19,
      "outputs": []
    },
    {
      "cell_type": "code",
      "metadata": {
        "colab": {
          "base_uri": "https://localhost:8080/"
        },
        "id": "AMSEjvn4npvT",
        "outputId": "06101883-6453-4edd-cce4-159b4dae6e7b"
      },
      "source": [
        "short_tensor"
      ],
      "execution_count": 20,
      "outputs": [
        {
          "output_type": "execute_result",
          "data": {
            "text/plain": [
              "tensor([0, 1, 2, 3, 4], dtype=torch.int16)"
            ]
          },
          "metadata": {
            "tags": []
          },
          "execution_count": 20
        }
      ]
    },
    {
      "cell_type": "code",
      "metadata": {
        "colab": {
          "base_uri": "https://localhost:8080/"
        },
        "id": "KsqjxRE9BJrP",
        "outputId": "a4da59e8-e425-43b2-f0a9-8e3b924681ed"
      },
      "source": [
        "short_tensor.dtype\r\n",
        "# Int16 is of Short type."
      ],
      "execution_count": 22,
      "outputs": [
        {
          "output_type": "execute_result",
          "data": {
            "text/plain": [
              "torch.int16"
            ]
          },
          "metadata": {
            "tags": []
          },
          "execution_count": 22
        }
      ]
    },
    {
      "cell_type": "markdown",
      "metadata": {
        "id": "rPhxIJYwBn4P"
      },
      "source": [
        "- converting it to **long(Int64)** datatype by using **.long( )** method.\r\n",
        "\r\n"
      ]
    },
    {
      "cell_type": "code",
      "metadata": {
        "id": "fib9t2uiBNBE"
      },
      "source": [
        "long_tensor = new_tensor.long()"
      ],
      "execution_count": 23,
      "outputs": []
    },
    {
      "cell_type": "code",
      "metadata": {
        "colab": {
          "base_uri": "https://localhost:8080/"
        },
        "id": "rHctDIhpBRkA",
        "outputId": "60d311f7-e980-420a-8c33-c3ba8d3ff3bb"
      },
      "source": [
        "long_tensor"
      ],
      "execution_count": 24,
      "outputs": [
        {
          "output_type": "execute_result",
          "data": {
            "text/plain": [
              "tensor([0, 1, 2, 3, 4])"
            ]
          },
          "metadata": {
            "tags": []
          },
          "execution_count": 24
        }
      ]
    },
    {
      "cell_type": "code",
      "metadata": {
        "colab": {
          "base_uri": "https://localhost:8080/"
        },
        "id": "1618D9CQBRms",
        "outputId": "89cc83d8-b2be-49c5-b9b4-e5df18095dbe"
      },
      "source": [
        "long_tensor.dtype\r\n",
        "# Int64 is of long type."
      ],
      "execution_count": 25,
      "outputs": [
        {
          "output_type": "execute_result",
          "data": {
            "text/plain": [
              "torch.int64"
            ]
          },
          "metadata": {
            "tags": []
          },
          "execution_count": 25
        }
      ]
    },
    {
      "cell_type": "markdown",
      "metadata": {
        "id": "_BVz76maCIcS"
      },
      "source": [
        "- converting it to **half(Float16)** datatype by using **.half( )** method."
      ]
    },
    {
      "cell_type": "code",
      "metadata": {
        "id": "W2WBFGMdBRqZ"
      },
      "source": [
        "half_tensor = new_tensor.half()"
      ],
      "execution_count": 26,
      "outputs": []
    },
    {
      "cell_type": "code",
      "metadata": {
        "colab": {
          "base_uri": "https://localhost:8080/"
        },
        "id": "tE_dD_lcBRv7",
        "outputId": "c47cdc1d-cb49-4cec-c0e6-da487a470c25"
      },
      "source": [
        "half_tensor"
      ],
      "execution_count": 27,
      "outputs": [
        {
          "output_type": "execute_result",
          "data": {
            "text/plain": [
              "tensor([0., 1., 2., 3., 4.], dtype=torch.float16)"
            ]
          },
          "metadata": {
            "tags": []
          },
          "execution_count": 27
        }
      ]
    },
    {
      "cell_type": "code",
      "metadata": {
        "colab": {
          "base_uri": "https://localhost:8080/"
        },
        "id": "8rUwoMYhBR1d",
        "outputId": "28bcf9ea-957d-4d39-ccaa-e27586fa0b8e"
      },
      "source": [
        "half_tensor.dtype\r\n",
        "# Float16 is of half type."
      ],
      "execution_count": 28,
      "outputs": [
        {
          "output_type": "execute_result",
          "data": {
            "text/plain": [
              "torch.float16"
            ]
          },
          "metadata": {
            "tags": []
          },
          "execution_count": 28
        }
      ]
    },
    {
      "cell_type": "markdown",
      "metadata": {
        "id": "uPbHJWdRCtHL"
      },
      "source": [
        "- converting it to **Float32** datatype by using **.float( )** method."
      ]
    },
    {
      "cell_type": "code",
      "metadata": {
        "id": "SIoBk1dcBR5O"
      },
      "source": [
        "float_tensor = new_tensor.float()"
      ],
      "execution_count": 29,
      "outputs": []
    },
    {
      "cell_type": "code",
      "metadata": {
        "colab": {
          "base_uri": "https://localhost:8080/"
        },
        "id": "NE2__AeiBR8U",
        "outputId": "c1e6eb0b-665f-4c66-c181-4f0e1a259dcb"
      },
      "source": [
        "float_tensor"
      ],
      "execution_count": 30,
      "outputs": [
        {
          "output_type": "execute_result",
          "data": {
            "text/plain": [
              "tensor([0., 1., 2., 3., 4.])"
            ]
          },
          "metadata": {
            "tags": []
          },
          "execution_count": 30
        }
      ]
    },
    {
      "cell_type": "code",
      "metadata": {
        "colab": {
          "base_uri": "https://localhost:8080/"
        },
        "id": "QWOk1vCvBR_J",
        "outputId": "c52cc314-e72d-402e-f585-afc6767410a2"
      },
      "source": [
        "float_tensor.dtype\r\n",
        "# Float by default is of float32."
      ],
      "execution_count": 31,
      "outputs": [
        {
          "output_type": "execute_result",
          "data": {
            "text/plain": [
              "torch.float32"
            ]
          },
          "metadata": {
            "tags": []
          },
          "execution_count": 31
        }
      ]
    },
    {
      "cell_type": "markdown",
      "metadata": {
        "id": "Z2rHA9o6DFfU"
      },
      "source": [
        "- converting it to **double(Float32)** datatype by using **.double( )** method."
      ]
    },
    {
      "cell_type": "code",
      "metadata": {
        "id": "JH4SElTeBSCN"
      },
      "source": [
        "double_tensor = new_tensor.double()"
      ],
      "execution_count": 32,
      "outputs": []
    },
    {
      "cell_type": "code",
      "metadata": {
        "colab": {
          "base_uri": "https://localhost:8080/"
        },
        "id": "V_htONtXBSFT",
        "outputId": "cd378b39-5b3b-4d72-9a66-85e2454ee893"
      },
      "source": [
        "double_tensor"
      ],
      "execution_count": 33,
      "outputs": [
        {
          "output_type": "execute_result",
          "data": {
            "text/plain": [
              "tensor([0., 1., 2., 3., 4.], dtype=torch.float64)"
            ]
          },
          "metadata": {
            "tags": []
          },
          "execution_count": 33
        }
      ]
    },
    {
      "cell_type": "code",
      "metadata": {
        "colab": {
          "base_uri": "https://localhost:8080/"
        },
        "id": "C-d2X0-RBSIb",
        "outputId": "24949a3b-d8f5-4cfd-cc5a-7233c9924266"
      },
      "source": [
        "double_tensor.dtype\r\n",
        "# Float64 by default."
      ],
      "execution_count": 35,
      "outputs": [
        {
          "output_type": "execute_result",
          "data": {
            "text/plain": [
              "torch.float64"
            ]
          },
          "metadata": {
            "tags": []
          },
          "execution_count": 35
        }
      ]
    },
    {
      "cell_type": "markdown",
      "metadata": {
        "id": "whDHkgG-DiKx"
      },
      "source": [
        "# Converting Arrays to Tensors and Vice-versa."
      ]
    },
    {
      "cell_type": "code",
      "metadata": {
        "id": "mNTLhznDBSK1"
      },
      "source": [
        "import numpy as np"
      ],
      "execution_count": 36,
      "outputs": []
    },
    {
      "cell_type": "code",
      "metadata": {
        "id": "TfDsVq9lBSNk"
      },
      "source": [
        "numpy_array = np.zeros((5,5))"
      ],
      "execution_count": 37,
      "outputs": []
    },
    {
      "cell_type": "code",
      "metadata": {
        "colab": {
          "base_uri": "https://localhost:8080/"
        },
        "id": "M26MNQFuBSQq",
        "outputId": "79f66499-e71a-4412-c618-b2be8a07b813"
      },
      "source": [
        "type(numpy_array)\r\n",
        "# Its of numpy array type."
      ],
      "execution_count": 41,
      "outputs": [
        {
          "output_type": "execute_result",
          "data": {
            "text/plain": [
              "numpy.ndarray"
            ]
          },
          "metadata": {
            "tags": []
          },
          "execution_count": 41
        }
      ]
    },
    {
      "cell_type": "code",
      "metadata": {
        "id": "TKEABRvWDxq9"
      },
      "source": [
        "torch_array = torch.from_numpy(numpy_array)"
      ],
      "execution_count": 39,
      "outputs": []
    },
    {
      "cell_type": "code",
      "metadata": {
        "colab": {
          "base_uri": "https://localhost:8080/"
        },
        "id": "Q4Pg5va2Dxun",
        "outputId": "d15f2ca2-9cb0-4b1b-f02f-ad95ae851aca"
      },
      "source": [
        "type(torch_array)\r\n",
        "# Easily got converted to a torch tensor."
      ],
      "execution_count": 42,
      "outputs": [
        {
          "output_type": "execute_result",
          "data": {
            "text/plain": [
              "torch.Tensor"
            ]
          },
          "metadata": {
            "tags": []
          },
          "execution_count": 42
        }
      ]
    },
    {
      "cell_type": "code",
      "metadata": {
        "id": "7SOxe8thDxzg"
      },
      "source": [
        "numpy_array_back = torch_array.numpy()"
      ],
      "execution_count": 43,
      "outputs": []
    },
    {
      "cell_type": "code",
      "metadata": {
        "colab": {
          "base_uri": "https://localhost:8080/"
        },
        "id": "Hr6NVA8sDx3N",
        "outputId": "aadef665-d633-40c5-f24b-6f469a2ec73b"
      },
      "source": [
        "type(numpy_array_back)\r\n",
        "# Converted back again to numpy array."
      ],
      "execution_count": 45,
      "outputs": [
        {
          "output_type": "execute_result",
          "data": {
            "text/plain": [
              "numpy.ndarray"
            ]
          },
          "metadata": {
            "tags": []
          },
          "execution_count": 45
        }
      ]
    },
    {
      "cell_type": "markdown",
      "metadata": {
        "id": "WILUtbzbFfzp"
      },
      "source": [
        "**Thank You !**"
      ]
    }
  ]
}