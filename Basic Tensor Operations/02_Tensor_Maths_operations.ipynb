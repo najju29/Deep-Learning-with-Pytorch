{
  "nbformat": 4,
  "nbformat_minor": 0,
  "metadata": {
    "colab": {
      "name": "02 Tensor Maths operations.ipynb",
      "provenance": [],
      "collapsed_sections": [],
      "toc_visible": true
    },
    "kernelspec": {
      "name": "python3",
      "display_name": "Python 3"
    },
    "accelerator": "GPU"
  },
  "cells": [
    {
      "cell_type": "markdown",
      "metadata": {
        "id": "vQvzPlLkRsQ5"
      },
      "source": [
        "# Involving Maths and Comparision Operators"
      ]
    },
    {
      "cell_type": "markdown",
      "metadata": {
        "id": "Xiy-r8m7YI_v"
      },
      "source": [
        "## Basic Math operators"
      ]
    },
    {
      "cell_type": "code",
      "metadata": {
        "id": "OffcxSeeTtJA"
      },
      "source": [
        "# Importing torch\n",
        "import torch"
      ],
      "execution_count": 1,
      "outputs": []
    },
    {
      "cell_type": "code",
      "metadata": {
        "id": "X3TFK0l0Roj_"
      },
      "source": [
        "# Let us declare two tensors.\n",
        "tensor_a = torch.tensor([1,2,3])\n",
        "tensor_b = torch.tensor([5,6,7])"
      ],
      "execution_count": null,
      "outputs": []
    },
    {
      "cell_type": "markdown",
      "metadata": {
        "id": "1bOaYhTtUBfP"
      },
      "source": [
        "- **Adding Two Tensors**"
      ]
    },
    {
      "cell_type": "code",
      "metadata": {
        "id": "a3TWI7OxRol8"
      },
      "source": [
        "# Way 1 using built-in functions.\n",
        "out_tensor = torch.empty(3)"
      ],
      "execution_count": null,
      "outputs": []
    },
    {
      "cell_type": "code",
      "metadata": {
        "id": "NT6_LPpaRooM"
      },
      "source": [
        "a_sum_b = torch.add(tensor_a, tensor_b)"
      ],
      "execution_count": null,
      "outputs": []
    },
    {
      "cell_type": "code",
      "metadata": {
        "colab": {
          "base_uri": "https://localhost:8080/"
        },
        "id": "JTZYqw-2RoqQ",
        "outputId": "ed95215a-e394-4354-903d-e2c84bb9e879"
      },
      "source": [
        "a_sum_b"
      ],
      "execution_count": null,
      "outputs": [
        {
          "output_type": "execute_result",
          "data": {
            "text/plain": [
              "tensor([ 6,  8, 10])"
            ]
          },
          "metadata": {
            "tags": []
          },
          "execution_count": 6
        }
      ]
    },
    {
      "cell_type": "code",
      "metadata": {
        "id": "QFKkdNANRotK"
      },
      "source": [
        "# Way 2 adding them directly.\n",
        "a_sum_b = tensor_a + tensor_b"
      ],
      "execution_count": null,
      "outputs": []
    },
    {
      "cell_type": "code",
      "metadata": {
        "colab": {
          "base_uri": "https://localhost:8080/"
        },
        "id": "riPYEmR2RoyU",
        "outputId": "5dccaebb-9604-4a97-8a85-ab8df389fa30"
      },
      "source": [
        "a_sum_b"
      ],
      "execution_count": null,
      "outputs": [
        {
          "output_type": "execute_result",
          "data": {
            "text/plain": [
              "tensor([ 6,  8, 10])"
            ]
          },
          "metadata": {
            "tags": []
          },
          "execution_count": 8
        }
      ]
    },
    {
      "cell_type": "markdown",
      "metadata": {
        "id": "WUqNaNChUwiJ"
      },
      "source": [
        "**Subtraction between two tensors.**"
      ]
    },
    {
      "cell_type": "code",
      "metadata": {
        "id": "El-HwrJQRo01"
      },
      "source": [
        "a_sub_b = tensor_a - tensor_b"
      ],
      "execution_count": null,
      "outputs": []
    },
    {
      "cell_type": "code",
      "metadata": {
        "colab": {
          "base_uri": "https://localhost:8080/"
        },
        "id": "seB9bO9RRo47",
        "outputId": "0342911e-333d-4970-de3a-402be9dc5aab"
      },
      "source": [
        "a_sub_b"
      ],
      "execution_count": null,
      "outputs": [
        {
          "output_type": "execute_result",
          "data": {
            "text/plain": [
              "tensor([-4, -4, -4])"
            ]
          },
          "metadata": {
            "tags": []
          },
          "execution_count": 10
        }
      ]
    },
    {
      "cell_type": "markdown",
      "metadata": {
        "id": "m2CF1sXWXNxX"
      },
      "source": [
        "**Division of Two tensors**"
      ]
    },
    {
      "cell_type": "code",
      "metadata": {
        "id": "awCX-o4jRo7R"
      },
      "source": [
        "a_divide_b = torch.true_divide(tensor_a,tensor_b)"
      ],
      "execution_count": null,
      "outputs": []
    },
    {
      "cell_type": "code",
      "metadata": {
        "colab": {
          "base_uri": "https://localhost:8080/"
        },
        "id": "4-afN3GLRo9e",
        "outputId": "b0c68fd1-f059-45b2-f478-6fe11b5fc443"
      },
      "source": [
        "a_divide_b\n",
        "# Element wise division."
      ],
      "execution_count": null,
      "outputs": [
        {
          "output_type": "execute_result",
          "data": {
            "text/plain": [
              "tensor([0.2000, 0.3333, 0.4286])"
            ]
          },
          "metadata": {
            "tags": []
          },
          "execution_count": 12
        }
      ]
    },
    {
      "cell_type": "code",
      "metadata": {
        "id": "c6dKkRhYRpA2"
      },
      "source": [
        "a_divide_b = tensor_a/tensor_b"
      ],
      "execution_count": null,
      "outputs": []
    },
    {
      "cell_type": "code",
      "metadata": {
        "colab": {
          "base_uri": "https://localhost:8080/"
        },
        "id": "BMS3vI3dRpDh",
        "outputId": "6dd8a7fc-3445-427f-f745-b2834c829b31"
      },
      "source": [
        "a_divide_b\n",
        "# Even it does the same thing."
      ],
      "execution_count": null,
      "outputs": [
        {
          "output_type": "execute_result",
          "data": {
            "text/plain": [
              "tensor([0.2000, 0.3333, 0.4286])"
            ]
          },
          "metadata": {
            "tags": []
          },
          "execution_count": 14
        }
      ]
    },
    {
      "cell_type": "markdown",
      "metadata": {
        "id": "TYmCekP0YH6b"
      },
      "source": [
        "**Inplace operations**\n",
        "- An in-place operation is an operation that changes directly the content of a given Tensor without making a copy. Inplace operations in pytorch are always postfixed with a _, like .add_() or .scatter_(). Python operations like += or *= are also inplace operations."
      ]
    },
    {
      "cell_type": "code",
      "metadata": {
        "colab": {
          "base_uri": "https://localhost:8080/"
        },
        "id": "Y-MjR97JRpF1",
        "outputId": "3f597ab6-eaba-44dd-8c53-6b59507f25e7"
      },
      "source": [
        "tensor_a"
      ],
      "execution_count": null,
      "outputs": [
        {
          "output_type": "execute_result",
          "data": {
            "text/plain": [
              "tensor([1, 2, 3])"
            ]
          },
          "metadata": {
            "tags": []
          },
          "execution_count": 15
        }
      ]
    },
    {
      "cell_type": "code",
      "metadata": {
        "colab": {
          "base_uri": "https://localhost:8080/"
        },
        "id": "kct2w-hDRpIu",
        "outputId": "1272cdcd-25c2-480c-aa27-850fbc770797"
      },
      "source": [
        "tensor_a.add_(tensor_b)"
      ],
      "execution_count": null,
      "outputs": [
        {
          "output_type": "execute_result",
          "data": {
            "text/plain": [
              "tensor([ 6,  8, 10])"
            ]
          },
          "metadata": {
            "tags": []
          },
          "execution_count": 16
        }
      ]
    },
    {
      "cell_type": "markdown",
      "metadata": {
        "id": "Q0fEa31hZGiN"
      },
      "source": [
        "- After applying the inplace operator the value of the tensor got changed for permanently."
      ]
    },
    {
      "cell_type": "code",
      "metadata": {
        "colab": {
          "base_uri": "https://localhost:8080/"
        },
        "id": "vIQh9-zWRpMW",
        "outputId": "1cd64f04-8d6d-425d-9ee8-7b613f723050"
      },
      "source": [
        "tensor_a"
      ],
      "execution_count": null,
      "outputs": [
        {
          "output_type": "execute_result",
          "data": {
            "text/plain": [
              "tensor([ 6,  8, 10])"
            ]
          },
          "metadata": {
            "tags": []
          },
          "execution_count": 17
        }
      ]
    },
    {
      "cell_type": "markdown",
      "metadata": {
        "id": "SVOWMZsyZRu4"
      },
      "source": [
        "**NOTE** : It is an equivalent of *tensor_a = tensor_a + tensor_b*"
      ]
    },
    {
      "cell_type": "markdown",
      "metadata": {
        "id": "erip0eDL8Mni"
      },
      "source": [
        "**Applying Exponents on tensors.**\n"
      ]
    },
    {
      "cell_type": "code",
      "metadata": {
        "id": "gFwctcM8RpPL"
      },
      "source": [
        "tensor_a = torch.tensor([1,2,3,4])"
      ],
      "execution_count": null,
      "outputs": []
    },
    {
      "cell_type": "code",
      "metadata": {
        "colab": {
          "base_uri": "https://localhost:8080/"
        },
        "id": "oKv4Cg2P8wK_",
        "outputId": "a289773e-cb7d-4510-e267-4e0e52cd0378"
      },
      "source": [
        "tensor_a"
      ],
      "execution_count": null,
      "outputs": [
        {
          "output_type": "execute_result",
          "data": {
            "text/plain": [
              "tensor([1, 2, 3, 4])"
            ]
          },
          "metadata": {
            "tags": []
          },
          "execution_count": 5
        }
      ]
    },
    {
      "cell_type": "code",
      "metadata": {
        "id": "Ze0hZ8QPRpSC"
      },
      "source": [
        "exp_tensor_a = tensor_a.pow(2)"
      ],
      "execution_count": null,
      "outputs": []
    },
    {
      "cell_type": "code",
      "metadata": {
        "id": "ziWWhZ1GRpXO",
        "colab": {
          "base_uri": "https://localhost:8080/"
        },
        "outputId": "f50b6231-e986-449f-a9e2-3171a6360f94"
      },
      "source": [
        "exp_tensor_a"
      ],
      "execution_count": null,
      "outputs": [
        {
          "output_type": "execute_result",
          "data": {
            "text/plain": [
              "tensor([ 1,  4,  9, 16])"
            ]
          },
          "metadata": {
            "tags": []
          },
          "execution_count": 4
        }
      ]
    },
    {
      "cell_type": "code",
      "metadata": {
        "id": "hb1skXJf8vL2"
      },
      "source": [
        "tensor_b = torch.tensor([[1,2,3],\n",
        "                         [4,5,6],\n",
        "                         [7,8,9]])"
      ],
      "execution_count": null,
      "outputs": []
    },
    {
      "cell_type": "code",
      "metadata": {
        "colab": {
          "base_uri": "https://localhost:8080/"
        },
        "id": "Hb-Gleyl83vD",
        "outputId": "87897083-53a1-4503-cb52-ddeb11e1b6b8"
      },
      "source": [
        "tensor_b"
      ],
      "execution_count": null,
      "outputs": [
        {
          "output_type": "execute_result",
          "data": {
            "text/plain": [
              "tensor([[1, 2, 3],\n",
              "        [4, 5, 6],\n",
              "        [7, 8, 9]])"
            ]
          },
          "metadata": {
            "tags": []
          },
          "execution_count": 11
        }
      ]
    },
    {
      "cell_type": "code",
      "metadata": {
        "id": "Q34ygeX785A3"
      },
      "source": [
        "exp_tensor_b = tensor_b.pow(2)"
      ],
      "execution_count": null,
      "outputs": []
    },
    {
      "cell_type": "code",
      "metadata": {
        "colab": {
          "base_uri": "https://localhost:8080/"
        },
        "id": "KtwvNiR29L3V",
        "outputId": "5c1a8899-9f34-4f4a-80b8-393542409c56"
      },
      "source": [
        "exp_tensor_b"
      ],
      "execution_count": null,
      "outputs": [
        {
          "output_type": "execute_result",
          "data": {
            "text/plain": [
              "tensor([[ 1,  4,  9],\n",
              "        [16, 25, 36],\n",
              "        [49, 64, 81]])"
            ]
          },
          "metadata": {
            "tags": []
          },
          "execution_count": 13
        }
      ]
    },
    {
      "cell_type": "markdown",
      "metadata": {
        "id": "5Jw912tJ9Ose"
      },
      "source": [
        "- We can understand that this is gonna apply power on single elements at a time not confusing it with the matrix multiplication."
      ]
    },
    {
      "cell_type": "code",
      "metadata": {
        "id": "XSUPWBgZ9OaH"
      },
      "source": [
        "# Other equivalent for this with a more pythonic code will be as follows.\n",
        "exp_tensor_a = tensor_a**2"
      ],
      "execution_count": null,
      "outputs": []
    },
    {
      "cell_type": "code",
      "metadata": {
        "colab": {
          "base_uri": "https://localhost:8080/"
        },
        "id": "rhi5JGxs9NN5",
        "outputId": "2415bd1d-abd1-46c2-931d-6c8aefc68add"
      },
      "source": [
        "exp_tensor_a"
      ],
      "execution_count": null,
      "outputs": [
        {
          "output_type": "execute_result",
          "data": {
            "text/plain": [
              "tensor([ 1,  4,  9, 16])"
            ]
          },
          "metadata": {
            "tags": []
          },
          "execution_count": 15
        }
      ]
    },
    {
      "cell_type": "code",
      "metadata": {
        "colab": {
          "base_uri": "https://localhost:8080/"
        },
        "id": "Fu8lG4vG-H1s",
        "outputId": "140b4463-175e-47be-9453-4823b60c9b73"
      },
      "source": [
        "# Inplace operator would be.\n",
        "tensor_a.pow_(2)"
      ],
      "execution_count": null,
      "outputs": [
        {
          "output_type": "execute_result",
          "data": {
            "text/plain": [
              "tensor([ 1,  4,  9, 16])"
            ]
          },
          "metadata": {
            "tags": []
          },
          "execution_count": 18
        }
      ]
    },
    {
      "cell_type": "code",
      "metadata": {
        "colab": {
          "base_uri": "https://localhost:8080/"
        },
        "id": "39gyjkqV-SHU",
        "outputId": "a836f434-1549-485f-96a6-ed616a62dce5"
      },
      "source": [
        "tensor_a\n",
        "# Changes got permanent with this Inplace operator."
      ],
      "execution_count": null,
      "outputs": [
        {
          "output_type": "execute_result",
          "data": {
            "text/plain": [
              "tensor([ 1,  4,  9, 16])"
            ]
          },
          "metadata": {
            "tags": []
          },
          "execution_count": 19
        }
      ]
    },
    {
      "cell_type": "markdown",
      "metadata": {
        "id": "cWtyTQtF-nqo"
      },
      "source": [
        "## Comparision between the Tensors"
      ]
    },
    {
      "cell_type": "code",
      "metadata": {
        "colab": {
          "base_uri": "https://localhost:8080/"
        },
        "id": "i7cTE5wm-euH",
        "outputId": "e8d40bda-af91-41fc-d6bb-f8461c2632b8"
      },
      "source": [
        "tensor_a>0"
      ],
      "execution_count": null,
      "outputs": [
        {
          "output_type": "execute_result",
          "data": {
            "text/plain": [
              "tensor([True, True, True, True])"
            ]
          },
          "metadata": {
            "tags": []
          },
          "execution_count": 20
        }
      ]
    },
    {
      "cell_type": "code",
      "metadata": {
        "colab": {
          "base_uri": "https://localhost:8080/"
        },
        "id": "_So6fNiH-tg2",
        "outputId": "162a7e13-eb44-4487-8cc0-86dd8e106aec"
      },
      "source": [
        "tensor_b<0"
      ],
      "execution_count": null,
      "outputs": [
        {
          "output_type": "execute_result",
          "data": {
            "text/plain": [
              "tensor([[False, False, False],\n",
              "        [False, False, False],\n",
              "        [False, False, False]])"
            ]
          },
          "metadata": {
            "tags": []
          },
          "execution_count": 21
        }
      ]
    },
    {
      "cell_type": "code",
      "metadata": {
        "id": "Sdbp9Uou-_Zl"
      },
      "source": [
        "tensor_c = tensor_b"
      ],
      "execution_count": null,
      "outputs": []
    },
    {
      "cell_type": "code",
      "metadata": {
        "colab": {
          "base_uri": "https://localhost:8080/"
        },
        "id": "CcgT1Duu_Mx-",
        "outputId": "aa58dbd0-4f51-48c4-abd4-ba5bae560fd7"
      },
      "source": [
        "tensor_b == tensor_c\n",
        "# Tensors with equal shape can be compared or else its gonna throw an exception."
      ],
      "execution_count": null,
      "outputs": [
        {
          "output_type": "execute_result",
          "data": {
            "text/plain": [
              "tensor([[True, True, True],\n",
              "        [True, True, True],\n",
              "        [True, True, True]])"
            ]
          },
          "metadata": {
            "tags": []
          },
          "execution_count": 27
        }
      ]
    },
    {
      "cell_type": "markdown",
      "metadata": {
        "id": "zNVVW_Uh-53S"
      },
      "source": [
        "# Matrices"
      ]
    },
    {
      "cell_type": "markdown",
      "metadata": {
        "id": "vxtb0OTlNGrV"
      },
      "source": [
        "**Matrix Multiplication**\n",
        "- **Rule:** always remember if matrixA is of m rows amd n columns and matrixB is of p rows and q columns then for Multiplication ***n==p*** is True."
      ]
    },
    {
      "cell_type": "code",
      "metadata": {
        "id": "SnWKSZ80-v2s"
      },
      "source": [
        "# Initializing two matrices.\n",
        "matrixA=torch.rand((3,6))\n",
        "matrixB=torch.rand((6,3))"
      ],
      "execution_count": 6,
      "outputs": []
    },
    {
      "cell_type": "code",
      "metadata": {
        "id": "Mqm7pwx7-z5I",
        "colab": {
          "base_uri": "https://localhost:8080/"
        },
        "outputId": "2b10f3fa-2db0-4725-8c6c-09e6bd0a5365"
      },
      "source": [
        "matrixA, matrixB"
      ],
      "execution_count": 8,
      "outputs": [
        {
          "output_type": "execute_result",
          "data": {
            "text/plain": [
              "(tensor([[0.8670, 0.2192, 0.4036, 0.7511, 0.0930, 0.1595],\n",
              "         [0.0713, 0.3994, 0.0611, 0.9112, 0.5816, 0.2688],\n",
              "         [0.4340, 0.2112, 0.7247, 0.0151, 0.2244, 0.1177]]),\n",
              " tensor([[0.4170, 0.8120, 0.8982],\n",
              "         [0.4306, 0.6570, 0.6875],\n",
              "         [0.0131, 0.0806, 0.5084],\n",
              "         [0.4071, 0.8747, 0.9344],\n",
              "         [0.3930, 0.4247, 0.3696],\n",
              "         [0.1423, 0.9799, 0.9119]]))"
            ]
          },
          "metadata": {
            "tags": []
          },
          "execution_count": 8
        }
      ]
    },
    {
      "cell_type": "code",
      "metadata": {
        "id": "685RolbDRRgX"
      },
      "source": [
        "multi_matrix = torch.mm(matrixA, matrixB)"
      ],
      "execution_count": 9,
      "outputs": []
    },
    {
      "cell_type": "code",
      "metadata": {
        "colab": {
          "base_uri": "https://localhost:8080/"
        },
        "id": "tiwFO-hGRrfC",
        "outputId": "43d755bf-ecca-44d0-9fa1-98a684ba3cdf"
      },
      "source": [
        "multi_matrix, print(multi_matrix.shape)"
      ],
      "execution_count": 12,
      "outputs": [
        {
          "output_type": "stream",
          "text": [
            "torch.Size([3, 3])\n"
          ],
          "name": "stdout"
        },
        {
          "output_type": "execute_result",
          "data": {
            "text/plain": [
              "(tensor([[0.8263, 1.7333, 2.0163],\n",
              "         [0.8403, 1.6327, 1.6812],\n",
              "         [0.3925, 0.7733, 1.1078]]), None)"
            ]
          },
          "metadata": {
            "tags": []
          },
          "execution_count": 12
        }
      ]
    },
    {
      "cell_type": "markdown",
      "metadata": {
        "id": "7EraYdifSVYn"
      },
      "source": [
        "**Matrix Exponentiation:**\n",
        "- It's the multiplication of a matrix with itself for n times the power raised, Ex: matrixA power 2 = matrixA multiplied by matrixA."
      ]
    },
    {
      "cell_type": "code",
      "metadata": {
        "id": "Epvad83mRs3x"
      },
      "source": [
        "matrix = torch.rand((3,3))"
      ],
      "execution_count": 14,
      "outputs": []
    },
    {
      "cell_type": "code",
      "metadata": {
        "colab": {
          "base_uri": "https://localhost:8080/"
        },
        "id": "mFU9jwrHTZCd",
        "outputId": "8bbea896-4b0b-41e4-9c82-0848f9588bcd"
      },
      "source": [
        "matrix"
      ],
      "execution_count": 16,
      "outputs": [
        {
          "output_type": "execute_result",
          "data": {
            "text/plain": [
              "tensor([[0.0062, 0.1620, 0.2833],\n",
              "        [0.0918, 0.2466, 0.7102],\n",
              "        [0.9171, 0.0357, 0.6187]])"
            ]
          },
          "metadata": {
            "tags": []
          },
          "execution_count": 16
        }
      ]
    },
    {
      "cell_type": "code",
      "metadata": {
        "id": "uZP88_HTSC-A"
      },
      "source": [
        "matrix_power_3 = matrix.matrix_power(3)"
      ],
      "execution_count": 15,
      "outputs": []
    },
    {
      "cell_type": "code",
      "metadata": {
        "colab": {
          "base_uri": "https://localhost:8080/"
        },
        "id": "MW5IoCC1TYBX",
        "outputId": "71a5d8f5-10eb-4c89-e8af-d769db7afc50"
      },
      "source": [
        "matrix_power_3"
      ],
      "execution_count": 17,
      "outputs": [
        {
          "output_type": "execute_result",
          "data": {
            "text/plain": [
              "tensor([[0.2742, 0.0675, 0.2948],\n",
              "        [0.6008, 0.1571, 0.6591],\n",
              "        [0.6325, 0.1615, 0.7039]])"
            ]
          },
          "metadata": {
            "tags": []
          },
          "execution_count": 17
        }
      ]
    },
    {
      "cell_type": "markdown",
      "metadata": {
        "id": "ViCHK4wzT-MG"
      },
      "source": [
        "**Element wise tensor Multiplication:**\n",
        "- Multiplying the tensors with respect to elements.\n",
        "- Its very much different from Matrix multiplication as normal multiplication fails when we have tensors with different shapes."
      ]
    },
    {
      "cell_type": "code",
      "metadata": {
        "id": "VoL6xK7eTc_V"
      },
      "source": [
        "tensor_a = torch.tensor([[1,2,3],[4,5,6]])\n",
        "tensor_b = torch.tensor([[6,5,4],[1,2,3]])"
      ],
      "execution_count": 20,
      "outputs": []
    },
    {
      "cell_type": "code",
      "metadata": {
        "colab": {
          "base_uri": "https://localhost:8080/"
        },
        "id": "ZVB9_M2HUYc5",
        "outputId": "149dddf2-e13b-4087-e97b-7dfdcf488a3f"
      },
      "source": [
        "# Its just the element wise multiplication.\n",
        "tensor_a*tensor_b"
      ],
      "execution_count": 21,
      "outputs": [
        {
          "output_type": "execute_result",
          "data": {
            "text/plain": [
              "tensor([[ 6, 10, 12],\n",
              "        [ 4, 10, 18]])"
            ]
          },
          "metadata": {
            "tags": []
          },
          "execution_count": 21
        }
      ]
    },
    {
      "cell_type": "markdown",
      "metadata": {
        "id": "YRxw58VRXdxw"
      },
      "source": [
        "**Batch Matrix Multiplication:**\n",
        "- Its the same matrix multipliction but happens with in a bunch of matrices.\n",
        "- No. of matrices define the batch size."
      ]
    },
    {
      "cell_type": "code",
      "metadata": {
        "id": "wT7WPWV6XcqV"
      },
      "source": [
        "batch_size = 32"
      ],
      "execution_count": 32,
      "outputs": []
    },
    {
      "cell_type": "code",
      "metadata": {
        "id": "MsR7C9mIXctf"
      },
      "source": [
        "batch_matrixA = torch.rand((batch_size,3,5))\n",
        "batch_matrixB = torch.rand((batch_size,5,3))"
      ],
      "execution_count": 34,
      "outputs": []
    },
    {
      "cell_type": "code",
      "metadata": {
        "id": "volTB5snXcww"
      },
      "source": [
        "multi_batch = torch.bmm(batch_matrixA, batch_matrixB)\n",
        "# bmm stands for batch matrix multiplication."
      ],
      "execution_count": 35,
      "outputs": []
    },
    {
      "cell_type": "code",
      "metadata": {
        "colab": {
          "base_uri": "https://localhost:8080/"
        },
        "id": "RzVo2PxdXc3R",
        "outputId": "1b9b3026-3298-4742-ca2f-0a9c78f730b7"
      },
      "source": [
        "# The same matrix multiplication with a batch size\n",
        "multi_batch.shape"
      ],
      "execution_count": 38,
      "outputs": [
        {
          "output_type": "execute_result",
          "data": {
            "text/plain": [
              "torch.Size([32, 3, 3])"
            ]
          },
          "metadata": {
            "tags": []
          },
          "execution_count": 38
        }
      ]
    },
    {
      "cell_type": "markdown",
      "metadata": {
        "id": "3M2Oip9NWBrY"
      },
      "source": [
        "# Vector(1D Tensor) product"
      ]
    },
    {
      "cell_type": "markdown",
      "metadata": {
        "id": "g-HxRL4KVEll"
      },
      "source": [
        "**Dot product between vectors:**\n",
        "- Only works when tensors are 1 Dimensional(1D)."
      ]
    },
    {
      "cell_type": "code",
      "metadata": {
        "id": "suPlMXEfVXjX"
      },
      "source": [
        "tensor_a = torch.tensor([1,2,3])\n",
        "tensor_b = torch.tensor([6,5,4])"
      ],
      "execution_count": 25,
      "outputs": []
    },
    {
      "cell_type": "code",
      "metadata": {
        "id": "nL_iAC0QUbHL"
      },
      "source": [
        "# Returns a Scalar Quantity.\n",
        "\n",
        "dot_pro = torch.dot(tensor_a, tensor_b)"
      ],
      "execution_count": 26,
      "outputs": []
    },
    {
      "cell_type": "code",
      "metadata": {
        "colab": {
          "base_uri": "https://localhost:8080/"
        },
        "id": "zn7JU1c7VVl4",
        "outputId": "8c659c79-7365-4837-9a7b-edae59631d62"
      },
      "source": [
        "dot_pro"
      ],
      "execution_count": 27,
      "outputs": [
        {
          "output_type": "execute_result",
          "data": {
            "text/plain": [
              "tensor(28)"
            ]
          },
          "metadata": {
            "tags": []
          },
          "execution_count": 27
        }
      ]
    },
    {
      "cell_type": "markdown",
      "metadata": {
        "id": "k2NodReEWRFR"
      },
      "source": [
        "**Cross product between vectors:**\n",
        "- Only works when tensors are 1 Dimensional(1D)."
      ]
    },
    {
      "cell_type": "code",
      "metadata": {
        "id": "NmgR3ouKVuXK"
      },
      "source": [
        "cross_pro = torch.cross(tensor_a, tensor_b)"
      ],
      "execution_count": 28,
      "outputs": []
    },
    {
      "cell_type": "code",
      "metadata": {
        "colab": {
          "base_uri": "https://localhost:8080/"
        },
        "id": "y91M2qoPV116",
        "outputId": "520d8091-df97-4bfc-d813-888f9ad87bfd"
      },
      "source": [
        "# Returns a vector normal to the plane of both the vectors.\n",
        "cross_pro"
      ],
      "execution_count": 29,
      "outputs": [
        {
          "output_type": "execute_result",
          "data": {
            "text/plain": [
              "tensor([-7, 14, -7])"
            ]
          },
          "metadata": {
            "tags": []
          },
          "execution_count": 29
        }
      ]
    },
    {
      "cell_type": "markdown",
      "metadata": {
        "id": "kEZt4m1ZdBoQ"
      },
      "source": [
        "# Boradcasting and other useful operations.\n",
        "**Broad Casting:**\n",
        "-  The term broadcasting describes how arrays are treated with different shapes during arithmetic operations. Subject to certain constraints, the smaller array is “broadcast” across, the broader array so that they have compatible shapes.\n",
        "- Many PyTorch operations support NumPy's broadcasting semantics. In short, if a PyTorch operation supports broadcast, then its Tensor arguments can be automatically expanded to be of equal sizes (without making copies of the data)."
      ]
    },
    {
      "cell_type": "code",
      "metadata": {
        "id": "hUdoxJAVV2A9"
      },
      "source": [
        "# Braodcasting.\n",
        "tensor_a = torch.rand((5,5))\n",
        "tensor_b = torch.rand((1,5))"
      ],
      "execution_count": 2,
      "outputs": []
    },
    {
      "cell_type": "markdown",
      "metadata": {
        "id": "usuSLg73dfU2"
      },
      "source": [
        "- Now there is no way that we can operate these matrices among eachother using any mathematical operations. But thanks to **Broad Casting** which made these kind of operations possible.\n"
      ]
    },
    {
      "cell_type": "code",
      "metadata": {
        "id": "1NemjzKUXVPS"
      },
      "source": [
        "diff_tensor = tensor_a - tensor_b"
      ],
      "execution_count": 3,
      "outputs": []
    },
    {
      "cell_type": "code",
      "metadata": {
        "colab": {
          "base_uri": "https://localhost:8080/"
        },
        "id": "aYzT9NxbXVUf",
        "outputId": "c88f1c8f-c8af-4316-ad52-d7f901410203"
      },
      "source": [
        "diff_tensor"
      ],
      "execution_count": 4,
      "outputs": [
        {
          "output_type": "execute_result",
          "data": {
            "text/plain": [
              "tensor([[ 0.7423,  0.0675, -0.3908, -0.0631,  0.2772],\n",
              "        [-0.0226, -0.4442, -0.4760, -0.0275,  0.1015],\n",
              "        [ 0.2722, -0.1632, -0.0133, -0.7561, -0.3427],\n",
              "        [ 0.5648, -0.5169,  0.0581, -0.3464, -0.5625],\n",
              "        [-0.2313,  0.1324,  0.4569,  0.0743, -0.0416]])"
            ]
          },
          "metadata": {
            "tags": []
          },
          "execution_count": 4
        }
      ]
    },
    {
      "cell_type": "markdown",
      "metadata": {
        "id": "N3V1vogHr0Pj"
      },
      "source": [
        "- what happened in the above cell is that the tensor_b was removed from every row of tensor_a and thats how exactly broadcasting works."
      ]
    },
    {
      "cell_type": "code",
      "metadata": {
        "colab": {
          "base_uri": "https://localhost:8080/"
        },
        "id": "pHZ9zapxXVYf",
        "outputId": "0dc1603d-72a8-433a-e83b-73bbc3c230b7"
      },
      "source": [
        "# Can also use power operations.\n",
        "tensor_a**(tensor_b)"
      ],
      "execution_count": 5,
      "outputs": [
        {
          "output_type": "execute_result",
          "data": {
            "text/plain": [
              "tensor([[0.9981, 0.8435, 0.3420, 0.7681, 1.0000],\n",
              "        [0.6905, 0.3970, 0.1893, 0.7977, 0.8696],\n",
              "        [0.8501, 0.6573, 0.7012, 0.0452, 0.4970],\n",
              "        [0.9501, 0.3190, 0.7509, 0.5184, 0.2662],\n",
              "        [0.3707, 0.8930, 0.9857, 0.8807, 0.7576]])"
            ]
          },
          "metadata": {
            "tags": []
          },
          "execution_count": 5
        }
      ]
    },
    {
      "cell_type": "markdown",
      "metadata": {
        "id": "-Vl9Cj-TsIS-"
      },
      "source": [
        "# Other useful Operations."
      ]
    },
    {
      "cell_type": "code",
      "metadata": {
        "id": "02M_DG6gV2HK"
      },
      "source": [
        "x= torch.tensor([1,2,3])"
      ],
      "execution_count": 28,
      "outputs": []
    },
    {
      "cell_type": "code",
      "metadata": {
        "id": "7-Fx1agasXnA"
      },
      "source": [
        "# Sum of the elements in a tensor.\n",
        "\n",
        "sum_of_x = torch.sum(x,dim=0)"
      ],
      "execution_count": 15,
      "outputs": []
    },
    {
      "cell_type": "code",
      "metadata": {
        "colab": {
          "base_uri": "https://localhost:8080/"
        },
        "id": "ye7ZVbkpsmGb",
        "outputId": "26af25dc-d841-49b9-ff11-82ad9b25f3af"
      },
      "source": [
        "sum_of_x"
      ],
      "execution_count": 16,
      "outputs": [
        {
          "output_type": "execute_result",
          "data": {
            "text/plain": [
              "tensor(6)"
            ]
          },
          "metadata": {
            "tags": []
          },
          "execution_count": 16
        }
      ]
    },
    {
      "cell_type": "markdown",
      "metadata": {
        "id": "CnpuH0hyuPAn"
      },
      "source": [
        "- **Max and Min** of a tensor."
      ]
    },
    {
      "cell_type": "code",
      "metadata": {
        "id": "vNSlLho7snPR"
      },
      "source": [
        "# Maximum valued element from the tensor.\n",
        "value, index = x.max(dim=0)"
      ],
      "execution_count": 29,
      "outputs": []
    },
    {
      "cell_type": "code",
      "metadata": {
        "colab": {
          "base_uri": "https://localhost:8080/"
        },
        "id": "tLwZBs4otIDw",
        "outputId": "b3206d28-754a-4e06-abc6-fd456a40f733"
      },
      "source": [
        "print(value)"
      ],
      "execution_count": 30,
      "outputs": [
        {
          "output_type": "stream",
          "text": [
            "tensor(3)\n"
          ],
          "name": "stdout"
        }
      ]
    },
    {
      "cell_type": "code",
      "metadata": {
        "id": "0NzoWHUNuXJt"
      },
      "source": [
        "# Minimun valued element from the tensor.\n",
        "value, index = x.min(dim=0)"
      ],
      "execution_count": 31,
      "outputs": []
    },
    {
      "cell_type": "code",
      "metadata": {
        "colab": {
          "base_uri": "https://localhost:8080/"
        },
        "id": "K75_bbkVuWqQ",
        "outputId": "667765a0-0124-43a5-824c-d658faae8ce2"
      },
      "source": [
        "print(value)"
      ],
      "execution_count": 32,
      "outputs": [
        {
          "output_type": "stream",
          "text": [
            "tensor(1)\n"
          ],
          "name": "stdout"
        }
      ]
    },
    {
      "cell_type": "markdown",
      "metadata": {
        "id": "Yg2piuC8ufbL"
      },
      "source": [
        "- **Playing with Dimensions and checking sum**"
      ]
    },
    {
      "cell_type": "code",
      "metadata": {
        "id": "sseWZxz2tKNk"
      },
      "source": [
        "x= torch.tensor([[1,2,3],[3,4,5]])"
      ],
      "execution_count": 19,
      "outputs": []
    },
    {
      "cell_type": "code",
      "metadata": {
        "id": "TM8GKdFMtQqy"
      },
      "source": [
        "# Sum of the elements in a tensor with different dim value when the tensor is 2D.\n",
        "sum_of_x_dim2 = torch.sum(x,dim=-2)\n",
        "sum_of_x_dim = torch.sum(x,dim=-1)\n",
        "sum_of_x_dim0 = torch.sum(x,dim=0)\n",
        "sum_of_x_dim1 = torch.sum(x,dim=1)"
      ],
      "execution_count": 25,
      "outputs": []
    },
    {
      "cell_type": "code",
      "metadata": {
        "colab": {
          "base_uri": "https://localhost:8080/"
        },
        "id": "LfWs8K6CtTXy",
        "outputId": "c4af30e9-2102-45d5-8386-e3fb1dcd0b48"
      },
      "source": [
        "print('Sum of x with dim=-2 is:{}'.format(sum_of_x_dim2))\n",
        "print('Sum of x with dim=-1 is:{}'.format(sum_of_x_dim))\n",
        "print('Sum of x with dim=0 is:{}'.format(sum_of_x_dim0))\n",
        "print('Sum of x with dim=1 is:{}'.format(sum_of_x_dim1))"
      ],
      "execution_count": 26,
      "outputs": [
        {
          "output_type": "stream",
          "text": [
            "Sum of x with dim=-2 is:tensor([4, 6, 8])\n",
            "Sum of x with dim=-1 is:tensor([ 6, 12])\n",
            "Sum of x with dim=0 is:tensor([4, 6, 8])\n",
            "Sum of x with dim=1 is:tensor([ 6, 12])\n"
          ],
          "name": "stdout"
        }
      ]
    },
    {
      "cell_type": "markdown",
      "metadata": {
        "id": "8eSJ1xgDuq5v"
      },
      "source": [
        "- **abs** value of a tensor. Which makes all values positive"
      ]
    },
    {
      "cell_type": "code",
      "metadata": {
        "id": "VK2V1grxtUrc"
      },
      "source": [
        "tensor_a = torch.tensor([-1,2,4])"
      ],
      "execution_count": 37,
      "outputs": []
    },
    {
      "cell_type": "code",
      "metadata": {
        "colab": {
          "base_uri": "https://localhost:8080/"
        },
        "id": "pRTtC1VzumE6",
        "outputId": "31704038-2f97-45c1-d1c6-1764d6057f26"
      },
      "source": [
        "torch.abs(tensor_a)"
      ],
      "execution_count": 34,
      "outputs": [
        {
          "output_type": "execute_result",
          "data": {
            "text/plain": [
              "tensor([1, 2, 4])"
            ]
          },
          "metadata": {
            "tags": []
          },
          "execution_count": 34
        }
      ]
    },
    {
      "cell_type": "markdown",
      "metadata": {
        "id": "o0GboyorxqVg"
      },
      "source": [
        "- **Argmin and Argmax** of tensors."
      ]
    },
    {
      "cell_type": "code",
      "metadata": {
        "colab": {
          "base_uri": "https://localhost:8080/"
        },
        "id": "BpAV-MRSumK9",
        "outputId": "8e4177f5-6b70-4cff-88f9-d846e76173fe"
      },
      "source": [
        "# Returns indices of the minimum and maximum values.\n",
        "tensor_a.argmin(dim=0), tensor_a.argmax(dim=0)"
      ],
      "execution_count": 40,
      "outputs": [
        {
          "output_type": "execute_result",
          "data": {
            "text/plain": [
              "(tensor(0), tensor(2))"
            ]
          },
          "metadata": {
            "tags": []
          },
          "execution_count": 40
        }
      ]
    },
    {
      "cell_type": "markdown",
      "metadata": {
        "id": "wpl1TUrxxwEq"
      },
      "source": [
        "- **Mean** of tensors."
      ]
    },
    {
      "cell_type": "code",
      "metadata": {
        "colab": {
          "base_uri": "https://localhost:8080/"
        },
        "id": "1zpHmUAGumSd",
        "outputId": "7b30891e-7acf-46ef-a993-703446b3345c"
      },
      "source": [
        "# Mean of a tensor.\n",
        "torch.mean(tensor_a.float(), dim=0)"
      ],
      "execution_count": 43,
      "outputs": [
        {
          "output_type": "execute_result",
          "data": {
            "text/plain": [
              "tensor(1.6667)"
            ]
          },
          "metadata": {
            "tags": []
          },
          "execution_count": 43
        }
      ]
    },
    {
      "cell_type": "markdown",
      "metadata": {
        "id": "NGXtt8Srx3Fc"
      },
      "source": [
        "- **Comparision** element wise of tensors."
      ]
    },
    {
      "cell_type": "code",
      "metadata": {
        "colab": {
          "base_uri": "https://localhost:8080/"
        },
        "id": "FWZRFZ-mwJ07",
        "outputId": "f213f704-6239-4c9d-c358-dc270c35f722"
      },
      "source": [
        "# Element wise comparision of tensors.\n",
        "tensor_a = torch.tensor([1,2,3])\n",
        "tensor_b = torch.tensor([3,2,1])\n",
        "torch.eq(tensor_a, tensor_b)"
      ],
      "execution_count": 44,
      "outputs": [
        {
          "output_type": "execute_result",
          "data": {
            "text/plain": [
              "tensor([False,  True, False])"
            ]
          },
          "metadata": {
            "tags": []
          },
          "execution_count": 44
        }
      ]
    },
    {
      "cell_type": "markdown",
      "metadata": {
        "id": "Irtu_ReXyBbB"
      },
      "source": [
        "- **Sorting** tensors."
      ]
    },
    {
      "cell_type": "code",
      "metadata": {
        "id": "vh2PbTiVwzRL"
      },
      "source": [
        "# Sorting a tensor.\n",
        "val, ind=torch.sort(tensor_b, dim=0)"
      ],
      "execution_count": 47,
      "outputs": []
    },
    {
      "cell_type": "code",
      "metadata": {
        "colab": {
          "base_uri": "https://localhost:8080/"
        },
        "id": "wOBcchmRxCFJ",
        "outputId": "a2442589-c603-4b40-c91a-a2abd5721ce1"
      },
      "source": [
        "print('Sorted tensor:{}'.format(val))\n",
        "print('Indices of sorted array:{}'.format(ind))"
      ],
      "execution_count": 48,
      "outputs": [
        {
          "output_type": "stream",
          "text": [
            "Sorted tensor:tensor([1, 2, 3])\n",
            "Indices of sorted array:tensor([2, 1, 0])\n"
          ],
          "name": "stdout"
        }
      ]
    },
    {
      "cell_type": "markdown",
      "metadata": {
        "id": "aLYdCRYf7-ok"
      },
      "source": [
        " **Clamping of tensors**\n",
        "- If clips of the tensor in between the min and max values provided and then assigns min values to the elements lesser than the min threshold and assigns max value to the tensor which are higher than the max threshold."
      ]
    },
    {
      "cell_type": "code",
      "metadata": {
        "id": "erSwaOEfyHSI"
      },
      "source": [
        "tensor_a = torch.tensor([1,2,3,4,5,6,7,8])"
      ],
      "execution_count": 49,
      "outputs": []
    },
    {
      "cell_type": "code",
      "metadata": {
        "colab": {
          "base_uri": "https://localhost:8080/"
        },
        "id": "2rhB8CokyHBn",
        "outputId": "3906337d-c0bf-431d-ae0b-7b2b964c7ff2"
      },
      "source": [
        "torch.clamp(tensor_a,min=3,max=7)"
      ],
      "execution_count": 51,
      "outputs": [
        {
          "output_type": "execute_result",
          "data": {
            "text/plain": [
              "tensor([3, 3, 3, 4, 5, 6, 7, 7])"
            ]
          },
          "metadata": {
            "tags": []
          },
          "execution_count": 51
        }
      ]
    },
    {
      "cell_type": "markdown",
      "metadata": {
        "id": "dQ25UD3l8QTX"
      },
      "source": [
        "- Using **any** and **all** to check the values of our choice."
      ]
    },
    {
      "cell_type": "code",
      "metadata": {
        "id": "37jJDAf6yG96"
      },
      "source": [
        "new_tensor = torch.tensor([1,1,0,1,1])"
      ],
      "execution_count": 52,
      "outputs": []
    },
    {
      "cell_type": "code",
      "metadata": {
        "colab": {
          "base_uri": "https://localhost:8080/"
        },
        "id": "PoMXPodvyG5g",
        "outputId": "5b135c26-98d7-43a9-90bb-25a8bfbe36a9"
      },
      "source": [
        "new_tensor.any()"
      ],
      "execution_count": 53,
      "outputs": [
        {
          "output_type": "execute_result",
          "data": {
            "text/plain": [
              "tensor(True)"
            ]
          },
          "metadata": {
            "tags": []
          },
          "execution_count": 53
        }
      ]
    },
    {
      "cell_type": "code",
      "metadata": {
        "colab": {
          "base_uri": "https://localhost:8080/"
        },
        "id": "WgXR62_LyG1Q",
        "outputId": "8ed8d1dc-b754-4e8a-b7d1-16a9fd1e6c57"
      },
      "source": [
        "new_tensor.all()"
      ],
      "execution_count": 54,
      "outputs": [
        {
          "output_type": "execute_result",
          "data": {
            "text/plain": [
              "tensor(False)"
            ]
          },
          "metadata": {
            "tags": []
          },
          "execution_count": 54
        }
      ]
    },
    {
      "cell_type": "markdown",
      "metadata": {
        "id": "cLtG0tM39lKa"
      },
      "source": [
        "# Thank You"
      ]
    }
  ]
}